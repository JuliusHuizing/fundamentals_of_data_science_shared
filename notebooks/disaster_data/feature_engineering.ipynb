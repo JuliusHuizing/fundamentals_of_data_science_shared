{
 "cells": [
  {
   "cell_type": "code",
   "execution_count": 1,
   "metadata": {},
   "outputs": [
    {
     "name": "stderr",
     "output_type": "stream",
     "text": [
      "/Users/julius/Library/Caches/pypoetry/virtualenvs/fundamentals-project-Gbp0IE_5-py3.11/lib/python3.11/site-packages/openpyxl/styles/stylesheet.py:226: UserWarning: Workbook contains no default style, apply openpyxl's default\n",
      "  warn(\"Workbook contains no default style, apply openpyxl's default\")\n"
     ]
    }
   ],
   "source": [
    "from utils.disaster_data_utils import *\n",
    "import numpy as np\n",
    "df = build_clean_dataframe()"
   ]
  },
  {
   "cell_type": "markdown",
   "metadata": {},
   "source": [
    "# Feature Engineering"
   ]
  },
  {
   "cell_type": "markdown",
   "metadata": {},
   "source": [
    "For each country, for each year, we want one feature vector containg good predictors for the content of the speech they give that year.\n"
   ]
  },
  {
   "cell_type": "code",
   "execution_count": 2,
   "metadata": {},
   "outputs": [
    {
     "data": {
      "text/plain": [
       "Index(['Country', 'Total Deaths', 'Year', 'Disaster Type'], dtype='object')"
      ]
     },
     "execution_count": 2,
     "metadata": {},
     "output_type": "execute_result"
    }
   ],
   "source": [
    "df.columns"
   ]
  },
  {
   "cell_type": "code",
   "execution_count": 3,
   "metadata": {},
   "outputs": [],
   "source": [
    "def build_feature_vector_v1(df, country, year) -> np.array:\n",
    "    '''\n",
    "    Returns a feature vector for the given country in the given year using the information present in the provided dataframe.\n",
    "\n",
    "            Parameters:\n",
    "                    df (pd.DataFrame): The dataframe containing the disaster data\n",
    "                    country (string): The country to build the feature vector for\n",
    "                    year (int): The year to build the feature vector for\n",
    "\n",
    "            Returns:\n",
    "                    vector (np.array): a feature vector for the given country in the given year\n",
    "    '''\n",
    "    row = df[(df['Country'] == country) & (df['Year'] == year)]\n",
    "    num_disasters = len(row)\n",
    "    num_deaths = row['Total Deaths'].sum()\n",
    "    num_deaths_per_disaster = num_deaths / num_disasters if num_disasters > 0 else 0\n",
    "    num_deaths_at_biggest_disaster = row['Total Deaths'].max()\n",
    "    vector = np.array([num_disasters, num_deaths, num_deaths_per_disaster, num_deaths_at_biggest_disaster])\n",
    "    return vector"
   ]
  },
  {
   "cell_type": "code",
   "execution_count": 4,
   "metadata": {},
   "outputs": [
    {
     "data": {
      "text/plain": [
       "array([  5. , 322. ,  64.4, 143. ])"
      ]
     },
     "execution_count": 4,
     "metadata": {},
     "output_type": "execute_result"
    }
   ],
   "source": [
    "build_feature_vector_v1(df, 'Indonesia', 2005)"
   ]
  },
  {
   "cell_type": "markdown",
   "metadata": {},
   "source": [
    "# Create Training Data"
   ]
  },
  {
   "cell_type": "markdown",
   "metadata": {},
   "source": [
    "- 1. From what year onwards are we going to use the data?\n",
    "  - I.e. from what year onwards is the data complete / accuracte?\n",
    "  - i.e. from what year onwards is climate change a theme that governments talk about?\n",
    "- "
   ]
  },
  {
   "cell_type": "code",
   "execution_count": 5,
   "metadata": {},
   "outputs": [],
   "source": [
    "# X{array-like, sparse matrix} of shape (n_samples, n_features)\n",
    "def create_feature_matrix(df, years, feature_vector_builder = build_feature_vector_v1) -> np.array:\n",
    "    \"\"\"\n",
    "    Create a feature matrix for a given DataFrame and list of years.\n",
    "\n",
    "    Parameters:\n",
    "    - df (pd.DataFrame): The input DataFrame containing data for different countries and years.\n",
    "    - years (list): A list of years for which feature vectors should be created.\n",
    "    - feature_vector_builder (callable): A function used to build feature vectors for each country and year.\n",
    "                                         Default is build_feature_vector_v1.\n",
    "\n",
    "    Returns:\n",
    "    - np.array: A 2D numpy array representing the feature matrix, where each row corresponds to a country-year pair.\n",
    "\n",
    "    Example:\n",
    "    ```\n",
    "    from utils.disaster_data_utils import *\n",
    "    import numpy as np\n",
    "    df = build_dataframe()\n",
    "    df = build_clean_dataframe(df)\n",
    "    feature_matrix = create_feature_matrix(df, np.arange(2000, 2005))\n",
    "    ```\n",
    "    \"\"\"\n",
    "    result = []\n",
    "    for country in df['Country'].unique():\n",
    "        for year in years:\n",
    "            row = df[(df['Country'] == country) & (df['Year'] == year)]\n",
    "            if len (row) != 0:\n",
    "                last_row = row\n",
    "                feature_vector = feature_vector_builder(df, country, year)\n",
    "                result.append(feature_vector)\n",
    "            \n",
    "    return np.array(result)\n"
   ]
  },
  {
   "cell_type": "code",
   "execution_count": 6,
   "metadata": {},
   "outputs": [
    {
     "data": {
      "text/plain": [
       "(197, 4)"
      ]
     },
     "execution_count": 6,
     "metadata": {},
     "output_type": "execute_result"
    }
   ],
   "source": [
    "train_years = np.arange(2019, 2021)\n",
    "X_train = create_feature_matrix(df, train_years)\n",
    "X_train.shape"
   ]
  },
  {
   "cell_type": "code",
   "execution_count": 7,
   "metadata": {},
   "outputs": [
    {
     "data": {
      "text/plain": [
       "array([[1.00000000e+00, 1.00000000e+00, 1.00000000e+00, 1.00000000e+00],\n",
       "       [1.20000000e+01, 2.30700000e+03, 1.92250000e+02, 1.90000000e+03],\n",
       "       [1.00000000e+01, 2.31600000e+03, 2.31600000e+02, 1.92200000e+03],\n",
       "       [2.00000000e+00, 2.00000000e+00, 1.00000000e+00, 1.00000000e+00],\n",
       "       [1.00000000e+00, 1.00000000e+00, 1.00000000e+00, 1.00000000e+00],\n",
       "       [3.00000000e+00, 7.16000000e+02, 2.38666667e+02, 4.00000000e+02],\n",
       "       [1.00000000e+00, 1.68700000e+03, 1.68700000e+03, 1.68700000e+03],\n",
       "       [6.00000000e+00, 2.60000000e+02, 4.33333333e+01, 1.14000000e+02],\n",
       "       [2.00000000e+00, 2.83000000e+02, 1.41500000e+02, 2.57000000e+02],\n",
       "       [2.00000000e+00, 1.40000000e+01, 7.00000000e+00, 8.00000000e+00],\n",
       "       [1.00000000e+00, 3.90000000e+01, 3.90000000e+01, 3.90000000e+01],\n",
       "       [1.10000000e+01, 5.55000000e+02, 5.04545455e+01, 3.00000000e+02],\n",
       "       [9.00000000e+00, 4.59000000e+02, 5.10000000e+01, 2.80000000e+02],\n",
       "       [4.00000000e+00, 8.40000000e+01, 2.10000000e+01, 3.20000000e+01],\n",
       "       [4.00000000e+00, 6.60000000e+01, 1.65000000e+01, 2.30000000e+01],\n",
       "       [1.00000000e+00, 6.00000000e+00, 6.00000000e+00, 6.00000000e+00],\n",
       "       [7.00000000e+00, 1.45100000e+03, 2.07285714e+02, 8.68000000e+02],\n",
       "       [3.00000000e+00, 1.94400000e+03, 6.48000000e+02, 1.92400000e+03],\n",
       "       [1.00000000e+00, 8.00000000e+00, 8.00000000e+00, 8.00000000e+00],\n",
       "       [2.00000000e+00, 6.00000000e+00, 3.00000000e+00, 4.00000000e+00],\n",
       "       [1.00000000e+00, 7.00000000e+00, 7.00000000e+00, 7.00000000e+00],\n",
       "       [1.00000000e+00, 8.00000000e+00, 8.00000000e+00, 8.00000000e+00],\n",
       "       [2.00000000e+00, 1.60000000e+01, 8.00000000e+00, 1.40000000e+01],\n",
       "       [1.00000000e+00, 1.00000000e+00, 1.00000000e+00, 1.00000000e+00],\n",
       "       [3.00000000e+00, 8.00000000e+00, 2.66666667e+00, 5.00000000e+00],\n",
       "       [4.00000000e+00, 1.32000000e+02, 3.30000000e+01, 1.10000000e+02],\n",
       "       [1.00000000e+00, 3.56000000e+02, 3.56000000e+02, 3.56000000e+02],\n",
       "       [2.00000000e+00, 3.50000000e+01, 1.75000000e+01, 3.20000000e+01],\n",
       "       [1.00000000e+00, 1.00000000e+00, 1.00000000e+00, 1.00000000e+00],\n",
       "       [6.00000000e+00, 4.70000000e+01, 7.83333333e+00, 1.20000000e+01],\n",
       "       [6.00000000e+00, 1.63000000e+02, 2.71666667e+01, 6.10000000e+01],\n",
       "       [2.00000000e+00, 4.00000000e+00, 2.00000000e+00, 2.00000000e+00],\n",
       "       [4.00000000e+00, 1.67000000e+02, 4.17500000e+01, 1.60000000e+02],\n",
       "       [1.00000000e+00, 4.00000000e+00, 4.00000000e+00, 4.00000000e+00],\n",
       "       [1.00000000e+00, 8.00000000e+00, 8.00000000e+00, 8.00000000e+00],\n",
       "       [2.00000000e+00, 1.20000000e+01, 6.00000000e+00, 1.10000000e+01],\n",
       "       [3.00000000e+00, 1.67000000e+02, 5.56666667e+01, 1.61000000e+02],\n",
       "       [2.00000000e+00, 2.55800000e+03, 1.27900000e+03, 2.55600000e+03],\n",
       "       [7.00000000e+00, 2.70000000e+01, 3.85714286e+00, 7.00000000e+00],\n",
       "       [1.00000000e+00, 1.70000000e+01, 1.70000000e+01, 1.70000000e+01],\n",
       "       [1.20000000e+01, 4.15000000e+02, 3.45833333e+01, 2.06000000e+02],\n",
       "       [1.70000000e+01, 2.10000000e+02, 1.23529412e+01, 1.05000000e+02],\n",
       "       [7.00000000e+00, 2.11000000e+02, 3.01428571e+01, 6.30000000e+01],\n",
       "       [7.00000000e+00, 3.28000000e+02, 4.68571429e+01, 2.12000000e+02],\n",
       "       [3.00000000e+00, 1.40000000e+01, 4.66666667e+00, 8.00000000e+00],\n",
       "       [1.00000000e+00, 3.00000000e+00, 3.00000000e+00, 3.00000000e+00],\n",
       "       [2.00000000e+00, 8.30000000e+01, 4.15000000e+01, 6.00000000e+01],\n",
       "       [3.00000000e+00, 3.10000000e+01, 1.03333333e+01, 1.80000000e+01],\n",
       "       [1.00000000e+00, 6.00000000e+00, 6.00000000e+00, 6.00000000e+00],\n",
       "       [1.00000000e+00, 2.30000000e+01, 2.30000000e+01, 2.30000000e+01],\n",
       "       [3.00000000e+00, 3.40000000e+01, 1.13333333e+01, 1.20000000e+01],\n",
       "       [1.00000000e+00, 2.00000000e+01, 2.00000000e+01, 2.00000000e+01],\n",
       "       [1.00000000e+00, 4.00000000e+01, 4.00000000e+01, 4.00000000e+01],\n",
       "       [1.00000000e+00, 6.00000000e+00, 6.00000000e+00, 6.00000000e+00],\n",
       "       [1.90000000e+01, 1.52000000e+02, 8.00000000e+00, 2.80000000e+01],\n",
       "       [1.80000000e+01, 2.53000000e+02, 1.40555556e+01, 4.50000000e+01],\n",
       "       [2.00000000e+00, 1.28000000e+02, 6.40000000e+01, 1.15000000e+02],\n",
       "       [1.00000000e+00, 1.74000000e+02, 1.74000000e+02, 1.74000000e+02],\n",
       "       [5.00000000e+00, 9.20000000e+01, 1.84000000e+01, 6.30000000e+01],\n",
       "       [7.00000000e+00, 2.00000000e+02, 2.85714286e+01, 1.11000000e+02],\n",
       "       [7.00000000e+00, 2.88000000e+02, 4.11428571e+01, 1.62000000e+02],\n",
       "       [2.00000000e+00, 8.40000000e+01, 4.20000000e+01, 8.20000000e+01],\n",
       "       [1.00000000e+00, 5.20000000e+01, 5.20000000e+01, 5.20000000e+01],\n",
       "       [2.00000000e+00, 8.30000000e+01, 4.15000000e+01, 7.30000000e+01],\n",
       "       [1.00000000e+00, 2.00000000e+00, 2.00000000e+00, 2.00000000e+00],\n",
       "       [1.00000000e+00, 1.00000000e+00, 1.00000000e+00, 1.00000000e+00],\n",
       "       [2.00000000e+00, 5.00000000e+00, 2.50000000e+00, 3.00000000e+00],\n",
       "       [6.00000000e+00, 1.90000000e+01, 3.16666667e+00, 7.00000000e+00],\n",
       "       [1.00000000e+00, 4.00000000e+00, 4.00000000e+00, 4.00000000e+00],\n",
       "       [1.00000000e+00, 3.00000000e+00, 3.00000000e+00, 3.00000000e+00],\n",
       "       [1.00000000e+00, 4.00000000e+00, 4.00000000e+00, 4.00000000e+00],\n",
       "       [1.00000000e+00, 3.00000000e+00, 3.00000000e+00, 3.00000000e+00],\n",
       "       [1.00000000e+00, 1.00000000e+00, 1.00000000e+00, 1.00000000e+00],\n",
       "       [6.00000000e+00, 1.60000000e+01, 2.66666667e+00, 7.00000000e+00],\n",
       "       [5.00000000e+00, 7.20000000e+01, 1.44000000e+01, 3.10000000e+01],\n",
       "       [3.00000000e+00, 7.50000000e+01, 2.50000000e+01, 4.20000000e+01],\n",
       "       [4.00000000e+00, 2.10000000e+01, 5.25000000e+00, 1.50000000e+01],\n",
       "       [5.00000000e+00, 8.10000000e+01, 1.62000000e+01, 4.20000000e+01],\n",
       "       [1.00000000e+00, 1.00000000e+00, 1.00000000e+00, 1.00000000e+00],\n",
       "       [1.00000000e+00, 1.00000000e+01, 1.00000000e+01, 1.00000000e+01],\n",
       "       [3.00000000e+00, 7.60000000e+01, 2.53333333e+01, 5.10000000e+01],\n",
       "       [2.00000000e+00, 3.00000000e+01, 1.50000000e+01, 1.50000000e+01],\n",
       "       [3.00000000e+00, 1.80000000e+01, 6.00000000e+00, 1.00000000e+01],\n",
       "       [5.00000000e+00, 6.70000000e+01, 1.34000000e+01, 4.10000000e+01],\n",
       "       [3.00000000e+00, 7.60000000e+01, 2.53333333e+01, 7.00000000e+01],\n",
       "       [5.00000000e+00, 5.20000000e+01, 1.04000000e+01, 2.10000000e+01],\n",
       "       [1.00000000e+01, 3.22000000e+02, 3.22000000e+01, 7.70000000e+01],\n",
       "       [6.00000000e+00, 6.30000000e+02, 1.05000000e+02, 4.10000000e+02],\n",
       "       [3.00000000e+00, 3.90000000e+01, 1.30000000e+01, 1.70000000e+01],\n",
       "       [1.00000000e+00, 4.00000000e+02, 4.00000000e+02, 4.00000000e+02],\n",
       "       [1.00000000e+00, 4.00000000e+02, 4.00000000e+02, 4.00000000e+02],\n",
       "       [2.00000000e+00, 1.47000000e+02, 7.35000000e+01, 1.19000000e+02],\n",
       "       [1.00000000e+00, 4.48000000e+02, 4.48000000e+02, 4.48000000e+02],\n",
       "       [1.00000000e+00, 3.00000000e+00, 3.00000000e+00, 3.00000000e+00],\n",
       "       [5.00000000e+00, 7.04000000e+02, 1.40800000e+02, 6.03000000e+02],\n",
       "       [2.00000000e+00, 2.40000000e+01, 1.20000000e+01, 2.20000000e+01],\n",
       "       [1.00000000e+00, 4.80000000e+01, 4.80000000e+01, 4.80000000e+01],\n",
       "       [5.00000000e+00, 3.00000000e+01, 6.00000000e+00, 1.20000000e+01],\n",
       "       [3.00000000e+00, 1.00000000e+01, 3.33333333e+00, 4.00000000e+00],\n",
       "       [2.00000000e+00, 2.00000000e+01, 1.00000000e+01, 1.80000000e+01],\n",
       "       [2.00000000e+00, 2.30000000e+01, 1.15000000e+01, 1.70000000e+01],\n",
       "       [3.00000000e+00, 4.10000000e+01, 1.36666667e+01, 2.60000000e+01],\n",
       "       [2.00000000e+00, 2.60000000e+01, 1.30000000e+01, 1.90000000e+01],\n",
       "       [7.00000000e+00, 4.40000000e+01, 6.28571429e+00, 2.90000000e+01],\n",
       "       [1.00000000e+00, 6.00000000e+00, 6.00000000e+00, 6.00000000e+00],\n",
       "       [3.00000000e+00, 9.40000000e+01, 3.13333333e+01, 7.90000000e+01],\n",
       "       [3.00000000e+00, 2.00000000e+01, 6.66666667e+00, 1.20000000e+01],\n",
       "       [1.00000000e+00, 3.00000000e+00, 3.00000000e+00, 3.00000000e+00],\n",
       "       [1.00000000e+00, 2.00000000e+00, 2.00000000e+00, 2.00000000e+00],\n",
       "       [3.00000000e+00, 4.00000000e+01, 1.33333333e+01, 2.30000000e+01],\n",
       "       [1.00000000e+00, 1.90000000e+01, 1.90000000e+01, 1.90000000e+01],\n",
       "       [1.00000000e+00, 2.00000000e+00, 2.00000000e+00, 2.00000000e+00],\n",
       "       [1.00000000e+00, 1.20000000e+01, 1.20000000e+01, 1.20000000e+01],\n",
       "       [2.00000000e+00, 1.00000000e+01, 5.00000000e+00, 8.00000000e+00],\n",
       "       [1.00000000e+00, 2.00000000e+00, 2.00000000e+00, 2.00000000e+00],\n",
       "       [3.00000000e+00, 1.70000000e+01, 5.66666667e+00, 9.00000000e+00],\n",
       "       [2.00000000e+00, 4.40000000e+01, 2.20000000e+01, 4.00000000e+01],\n",
       "       [4.00000000e+00, 4.70000000e+01, 1.17500000e+01, 1.80000000e+01],\n",
       "       [3.00000000e+00, 4.30000000e+01, 1.43333333e+01, 2.90000000e+01],\n",
       "       [1.00000000e+00, 7.00000000e+00, 7.00000000e+00, 7.00000000e+00],\n",
       "       [2.00000000e+00, 1.20000000e+01, 6.00000000e+00, 1.00000000e+01],\n",
       "       [4.00000000e+00, 4.20000000e+01, 1.05000000e+01, 1.30000000e+01],\n",
       "       [1.00000000e+00, 7.00000000e+00, 7.00000000e+00, 7.00000000e+00],\n",
       "       [2.00000000e+00, 1.87000000e+02, 9.35000000e+01, 9.70000000e+01],\n",
       "       [1.00000000e+00, 2.85000000e+02, 2.85000000e+02, 2.85000000e+02],\n",
       "       [1.00000000e+00, 6.00000000e+00, 6.00000000e+00, 6.00000000e+00],\n",
       "       [1.00000000e+00, 3.00000000e+00, 3.00000000e+00, 3.00000000e+00],\n",
       "       [1.00000000e+00, 1.00000000e+00, 1.00000000e+00, 1.00000000e+00],\n",
       "       [1.00000000e+00, 5.20000000e+01, 5.20000000e+01, 5.20000000e+01],\n",
       "       [1.00000000e+00, 3.00000000e+00, 3.00000000e+00, 3.00000000e+00],\n",
       "       [2.00000000e+00, 2.40000000e+01, 1.20000000e+01, 1.20000000e+01],\n",
       "       [3.00000000e+00, 1.89000000e+02, 6.30000000e+01, 1.55000000e+02],\n",
       "       [1.00000000e+00, 7.80000000e+01, 7.80000000e+01, 7.80000000e+01],\n",
       "       [1.00000000e+00, 1.55000000e+02, 1.55000000e+02, 1.55000000e+02],\n",
       "       [1.00000000e+00, 3.00000000e+00, 3.00000000e+00, 3.00000000e+00],\n",
       "       [5.00000000e+00, 1.02000000e+02, 2.04000000e+01, 7.30000000e+01],\n",
       "       [2.00000000e+00, 1.30000000e+01, 6.50000000e+00, 1.00000000e+01],\n",
       "       [7.00000000e+00, 5.90000000e+01, 8.42857143e+00, 2.70000000e+01],\n",
       "       [1.00000000e+01, 3.10000000e+02, 3.10000000e+01, 2.43000000e+02],\n",
       "       [1.00000000e+00, 6.00000000e+00, 6.00000000e+00, 6.00000000e+00],\n",
       "       [1.00000000e+00, 3.00000000e+00, 3.00000000e+00, 3.00000000e+00],\n",
       "       [3.00000000e+00, 8.00000000e+01, 2.66666667e+01, 4.30000000e+01],\n",
       "       [3.00000000e+00, 8.30000000e+01, 2.76666667e+01, 5.20000000e+01],\n",
       "       [2.00000000e+00, 6.54000000e+02, 3.27000000e+02, 6.28000000e+02],\n",
       "       [1.00000000e+00, 4.00000000e+00, 4.00000000e+00, 4.00000000e+00],\n",
       "       [1.00000000e+00, 3.00000000e+00, 3.00000000e+00, 3.00000000e+00],\n",
       "       [1.00000000e+00, 1.10000000e+01, 1.10000000e+01, 1.10000000e+01],\n",
       "       [1.00000000e+00, 8.00000000e+00, 8.00000000e+00, 8.00000000e+00],\n",
       "       [2.00000000e+00, 3.20000000e+01, 1.60000000e+01, 1.90000000e+01],\n",
       "       [2.00000000e+00, 7.00000000e+00, 3.50000000e+00, 4.00000000e+00],\n",
       "       [1.00000000e+00, 1.30000000e+01, 1.30000000e+01, 1.30000000e+01],\n",
       "       [1.00000000e+00, 5.40000000e+01, 5.40000000e+01, 5.40000000e+01],\n",
       "       [1.00000000e+00, 5.00000000e+00, 5.00000000e+00, 5.00000000e+00],\n",
       "       [1.00000000e+00, 2.20000000e+01, 2.20000000e+01, 2.20000000e+01],\n",
       "       [1.00000000e+00, 1.50000000e+01, 1.50000000e+01, 1.50000000e+01],\n",
       "       [2.00000000e+00, 2.80000000e+01, 1.40000000e+01, 1.60000000e+01],\n",
       "       [5.00000000e+00, 1.11000000e+02, 2.22000000e+01, 7.20000000e+01],\n",
       "       [2.00000000e+00, 6.80000000e+01, 3.40000000e+01, 6.00000000e+01],\n",
       "       [1.00000000e+00, 1.00000000e+00, 1.00000000e+00, 1.00000000e+00],\n",
       "       [3.00000000e+00, 6.10000000e+01, 2.03333333e+01, 3.70000000e+01],\n",
       "       [2.00000000e+00, 5.00000000e+00, 2.50000000e+00, 3.00000000e+00],\n",
       "       [2.00000000e+00, 5.00000000e+00, 2.50000000e+00, 4.00000000e+00],\n",
       "       [1.00000000e+00, 1.20000000e+01, 1.20000000e+01, 1.20000000e+01],\n",
       "       [1.00000000e+00, 4.40000000e+01, 4.40000000e+01, 4.40000000e+01],\n",
       "       [1.00000000e+00, 3.00000000e+00, 3.00000000e+00, 3.00000000e+00],\n",
       "       [1.00000000e+00, 9.00000000e+00, 9.00000000e+00, 9.00000000e+00],\n",
       "       [2.00000000e+00, 5.90000000e+01, 2.95000000e+01, 3.10000000e+01],\n",
       "       [1.00000000e+00, 4.00000000e+00, 4.00000000e+00, 4.00000000e+00],\n",
       "       [1.00000000e+00, 2.00000000e+00, 2.00000000e+00, 2.00000000e+00],\n",
       "       [1.00000000e+00, 4.00000000e+00, 4.00000000e+00, 4.00000000e+00],\n",
       "       [3.00000000e+00, 1.90000000e+01, 6.33333333e+00, 1.10000000e+01],\n",
       "       [3.00000000e+00, 2.60000000e+01, 8.66666667e+00, 1.20000000e+01],\n",
       "       [5.00000000e+00, 6.50000000e+01, 1.30000000e+01, 2.00000000e+01],\n",
       "       [1.00000000e+00, 1.20000000e+01, 1.20000000e+01, 1.20000000e+01],\n",
       "       [1.00000000e+00, 2.40000000e+01, 2.40000000e+01, 2.40000000e+01],\n",
       "       [1.00000000e+00, 1.00000000e+00, 1.00000000e+00, 1.00000000e+00],\n",
       "       [1.00000000e+00, 1.10000000e+01, 1.10000000e+01, 1.10000000e+01],\n",
       "       [8.00000000e+00, 2.15000000e+02, 2.68750000e+01, 6.50000000e+01],\n",
       "       [6.00000000e+00, 3.50000000e+01, 5.83333333e+00, 1.10000000e+01],\n",
       "       [1.00000000e+00, 1.00000000e+00, 1.00000000e+00, 1.00000000e+00],\n",
       "       [1.00000000e+00, 1.00000000e+00, 1.00000000e+00, 1.00000000e+00],\n",
       "       [3.00000000e+00, 7.10000000e+01, 2.36666667e+01, 4.10000000e+01],\n",
       "       [2.00000000e+00, 3.30000000e+01, 1.65000000e+01, 3.00000000e+01],\n",
       "       [1.00000000e+00, 1.00000000e+00, 1.00000000e+00, 1.00000000e+00],\n",
       "       [1.00000000e+00, 4.00000000e+00, 4.00000000e+00, 4.00000000e+00],\n",
       "       [1.00000000e+00, 1.00000000e+00, 1.00000000e+00, 1.00000000e+00],\n",
       "       [1.00000000e+00, 6.00000000e+00, 6.00000000e+00, 6.00000000e+00],\n",
       "       [1.00000000e+00, 1.10000000e+01, 1.10000000e+01, 1.10000000e+01],\n",
       "       [1.00000000e+00, 2.00000000e+00, 2.00000000e+00, 2.00000000e+00],\n",
       "       [1.00000000e+00, 3.00000000e+00, 3.00000000e+00, 3.00000000e+00],\n",
       "       [1.00000000e+00, 3.00000000e+00, 3.00000000e+00, 3.00000000e+00],\n",
       "       [1.00000000e+00, 1.00000000e+00, 1.00000000e+00, 1.00000000e+00],\n",
       "       [1.00000000e+00, 1.00000000e+01, 1.00000000e+01, 1.00000000e+01],\n",
       "       [1.00000000e+00, 8.00000000e+00, 8.00000000e+00, 8.00000000e+00],\n",
       "       [2.00000000e+00, 5.30000000e+01, 2.65000000e+01, 5.00000000e+01],\n",
       "       [1.00000000e+00, 3.00000000e+00, 3.00000000e+00, 3.00000000e+00],\n",
       "       [1.00000000e+00, 4.00000000e+00, 4.00000000e+00, 4.00000000e+00]])"
      ]
     },
     "execution_count": 7,
     "metadata": {},
     "output_type": "execute_result"
    }
   ],
   "source": [
    "X_train"
   ]
  },
  {
   "cell_type": "markdown",
   "metadata": {},
   "source": [
    "# Train: Linear Regression"
   ]
  },
  {
   "cell_type": "code",
   "execution_count": 8,
   "metadata": {},
   "outputs": [
    {
     "data": {
      "text/html": [
       "<style>#sk-container-id-1 {color: black;}#sk-container-id-1 pre{padding: 0;}#sk-container-id-1 div.sk-toggleable {background-color: white;}#sk-container-id-1 label.sk-toggleable__label {cursor: pointer;display: block;width: 100%;margin-bottom: 0;padding: 0.3em;box-sizing: border-box;text-align: center;}#sk-container-id-1 label.sk-toggleable__label-arrow:before {content: \"▸\";float: left;margin-right: 0.25em;color: #696969;}#sk-container-id-1 label.sk-toggleable__label-arrow:hover:before {color: black;}#sk-container-id-1 div.sk-estimator:hover label.sk-toggleable__label-arrow:before {color: black;}#sk-container-id-1 div.sk-toggleable__content {max-height: 0;max-width: 0;overflow: hidden;text-align: left;background-color: #f0f8ff;}#sk-container-id-1 div.sk-toggleable__content pre {margin: 0.2em;color: black;border-radius: 0.25em;background-color: #f0f8ff;}#sk-container-id-1 input.sk-toggleable__control:checked~div.sk-toggleable__content {max-height: 200px;max-width: 100%;overflow: auto;}#sk-container-id-1 input.sk-toggleable__control:checked~label.sk-toggleable__label-arrow:before {content: \"▾\";}#sk-container-id-1 div.sk-estimator input.sk-toggleable__control:checked~label.sk-toggleable__label {background-color: #d4ebff;}#sk-container-id-1 div.sk-label input.sk-toggleable__control:checked~label.sk-toggleable__label {background-color: #d4ebff;}#sk-container-id-1 input.sk-hidden--visually {border: 0;clip: rect(1px 1px 1px 1px);clip: rect(1px, 1px, 1px, 1px);height: 1px;margin: -1px;overflow: hidden;padding: 0;position: absolute;width: 1px;}#sk-container-id-1 div.sk-estimator {font-family: monospace;background-color: #f0f8ff;border: 1px dotted black;border-radius: 0.25em;box-sizing: border-box;margin-bottom: 0.5em;}#sk-container-id-1 div.sk-estimator:hover {background-color: #d4ebff;}#sk-container-id-1 div.sk-parallel-item::after {content: \"\";width: 100%;border-bottom: 1px solid gray;flex-grow: 1;}#sk-container-id-1 div.sk-label:hover label.sk-toggleable__label {background-color: #d4ebff;}#sk-container-id-1 div.sk-serial::before {content: \"\";position: absolute;border-left: 1px solid gray;box-sizing: border-box;top: 0;bottom: 0;left: 50%;z-index: 0;}#sk-container-id-1 div.sk-serial {display: flex;flex-direction: column;align-items: center;background-color: white;padding-right: 0.2em;padding-left: 0.2em;position: relative;}#sk-container-id-1 div.sk-item {position: relative;z-index: 1;}#sk-container-id-1 div.sk-parallel {display: flex;align-items: stretch;justify-content: center;background-color: white;position: relative;}#sk-container-id-1 div.sk-item::before, #sk-container-id-1 div.sk-parallel-item::before {content: \"\";position: absolute;border-left: 1px solid gray;box-sizing: border-box;top: 0;bottom: 0;left: 50%;z-index: -1;}#sk-container-id-1 div.sk-parallel-item {display: flex;flex-direction: column;z-index: 1;position: relative;background-color: white;}#sk-container-id-1 div.sk-parallel-item:first-child::after {align-self: flex-end;width: 50%;}#sk-container-id-1 div.sk-parallel-item:last-child::after {align-self: flex-start;width: 50%;}#sk-container-id-1 div.sk-parallel-item:only-child::after {width: 0;}#sk-container-id-1 div.sk-dashed-wrapped {border: 1px dashed gray;margin: 0 0.4em 0.5em 0.4em;box-sizing: border-box;padding-bottom: 0.4em;background-color: white;}#sk-container-id-1 div.sk-label label {font-family: monospace;font-weight: bold;display: inline-block;line-height: 1.2em;}#sk-container-id-1 div.sk-label-container {text-align: center;}#sk-container-id-1 div.sk-container {/* jupyter's `normalize.less` sets `[hidden] { display: none; }` but bootstrap.min.css set `[hidden] { display: none !important; }` so we also need the `!important` here to be able to override the default hidden behavior on the sphinx rendered scikit-learn.org. See: https://github.com/scikit-learn/scikit-learn/issues/21755 */display: inline-block !important;position: relative;}#sk-container-id-1 div.sk-text-repr-fallback {display: none;}</style><div id=\"sk-container-id-1\" class=\"sk-top-container\"><div class=\"sk-text-repr-fallback\"><pre>LinearRegression()</pre><b>In a Jupyter environment, please rerun this cell to show the HTML representation or trust the notebook. <br />On GitHub, the HTML representation is unable to render, please try loading this page with nbviewer.org.</b></div><div class=\"sk-container\" hidden><div class=\"sk-item\"><div class=\"sk-estimator sk-toggleable\"><input class=\"sk-toggleable__control sk-hidden--visually\" id=\"sk-estimator-id-1\" type=\"checkbox\" checked><label for=\"sk-estimator-id-1\" class=\"sk-toggleable__label sk-toggleable__label-arrow\">LinearRegression</label><div class=\"sk-toggleable__content\"><pre>LinearRegression()</pre></div></div></div></div></div>"
      ],
      "text/plain": [
       "LinearRegression()"
      ]
     },
     "execution_count": 8,
     "metadata": {},
     "output_type": "execute_result"
    }
   ],
   "source": [
    "from sklearn.linear_model import LinearRegression\n",
    "\n",
    "model = LinearRegression(fit_intercept=True) \n",
    "X_train = X_train\n",
    "# TODO: create proper y targets based on speech data.\n",
    "# let's first try to overfit to verify we have implemented everything correctly\n",
    "## create a y vector with a one if there are more than 10 disasters, 0 otherwise\n",
    "Y_train = np.array([1 if x > 10 else 0 for x in X_train[:, 0]])\n",
    "# Y_train = np.random.rand(X_train.shape[0]).reshape(-1, 1)\n",
    "# TODO: fix Nan Values\n",
    "model.fit(X_train, Y_train)\n"
   ]
  },
  {
   "cell_type": "code",
   "execution_count": 14,
   "metadata": {},
   "outputs": [
    {
     "name": "stdout",
     "output_type": "stream",
     "text": [
      "[0.38573963]\n",
      "[-0.00185137]\n"
     ]
    }
   ],
   "source": [
    "# create random y vector\n",
    "y1 = np.random.rand(X_train.shape[1]).reshape(1, -1)\n",
    "y1[0] = 11\n",
    "y2 = np.random.rand(X_train.shape[1]).reshape(1, -1)\n",
    "y2[0] = 2\n",
    "print(model.predict(y1))\n",
    "print(model.predict(y2)) # seems to work as expeted; giving higher output for samples with more disasters\n"
   ]
  },
  {
   "cell_type": "code",
   "execution_count": null,
   "metadata": {},
   "outputs": [],
   "source": []
  }
 ],
 "metadata": {
  "kernelspec": {
   "display_name": "fundamentals-project-Gbp0IE_5-py3.11",
   "language": "python",
   "name": "python3"
  },
  "language_info": {
   "codemirror_mode": {
    "name": "ipython",
    "version": 3
   },
   "file_extension": ".py",
   "mimetype": "text/x-python",
   "name": "python",
   "nbconvert_exporter": "python",
   "pygments_lexer": "ipython3",
   "version": "3.11.5"
  },
  "orig_nbformat": 4
 },
 "nbformat": 4,
 "nbformat_minor": 2
}
