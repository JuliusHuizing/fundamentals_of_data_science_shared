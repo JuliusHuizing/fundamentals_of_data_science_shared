{
 "cells": [
  {
   "cell_type": "code",
   "execution_count": 1,
   "metadata": {},
   "outputs": [],
   "source": [
    "import pandas as pd\n",
    "import matplotlib.pyplot as plt\n",
    "import plotly.express as px\n",
    "import numpy as np"
   ]
  },
  {
   "cell_type": "code",
   "execution_count": 2,
   "metadata": {},
   "outputs": [],
   "source": [
    "emissions_path = '../data/CO2emissions.csv'\n",
    "speeches_path = '../data/Speakers_by_session.csv'\n",
    "distaters_path = '../data/disasters.xlsx'"
   ]
  },
  {
   "cell_type": "code",
   "execution_count": 3,
   "metadata": {},
   "outputs": [
    {
     "name": "stderr",
     "output_type": "stream",
     "text": [
      "/Users/julius/Library/Caches/pypoetry/virtualenvs/fundamentals-project-Gbp0IE_5-py3.11/lib/python3.11/site-packages/openpyxl/styles/stylesheet.py:226: UserWarning: Workbook contains no default style, apply openpyxl's default\n",
      "  warn(\"Workbook contains no default style, apply openpyxl's default\")\n"
     ]
    }
   ],
   "source": [
    "df_emissions = pd.read_csv(emissions_path)\n",
    "df_speeches = pd.read_csv(speeches_path, sep=';')\n",
    "# First six rows contain metadata like when the xls was created, so we skip them to read a clean dataframe.\n",
    "df_disasters = pd.read_excel(distaters_path, skiprows=6)\n"
   ]
  },
  {
   "cell_type": "code",
   "execution_count": 4,
   "metadata": {},
   "outputs": [
    {
     "data": {
      "text/html": [
       "<div>\n",
       "<style scoped>\n",
       "    .dataframe tbody tr th:only-of-type {\n",
       "        vertical-align: middle;\n",
       "    }\n",
       "\n",
       "    .dataframe tbody tr th {\n",
       "        vertical-align: top;\n",
       "    }\n",
       "\n",
       "    .dataframe thead th {\n",
       "        text-align: right;\n",
       "    }\n",
       "</style>\n",
       "<table border=\"1\" class=\"dataframe\">\n",
       "  <thead>\n",
       "    <tr style=\"text-align: right;\">\n",
       "      <th></th>\n",
       "      <th>Year</th>\n",
       "      <th>Session</th>\n",
       "      <th>ISO Code</th>\n",
       "      <th>Country</th>\n",
       "      <th>Name of Person Speaking</th>\n",
       "      <th>Post</th>\n",
       "      <th>Unnamed: 6</th>\n",
       "    </tr>\n",
       "  </thead>\n",
       "  <tbody>\n",
       "    <tr>\n",
       "      <th>0</th>\n",
       "      <td>2022</td>\n",
       "      <td>77</td>\n",
       "      <td>BRA</td>\n",
       "      <td>Brazil</td>\n",
       "      <td>Jair Bolsonaro</td>\n",
       "      <td>President</td>\n",
       "      <td>NaN</td>\n",
       "    </tr>\n",
       "    <tr>\n",
       "      <th>1</th>\n",
       "      <td>2022</td>\n",
       "      <td>77</td>\n",
       "      <td>SEN</td>\n",
       "      <td>Senegal</td>\n",
       "      <td>Macky Sail</td>\n",
       "      <td>President</td>\n",
       "      <td>NaN</td>\n",
       "    </tr>\n",
       "    <tr>\n",
       "      <th>2</th>\n",
       "      <td>2022</td>\n",
       "      <td>77</td>\n",
       "      <td>CHL</td>\n",
       "      <td>Chile</td>\n",
       "      <td>Gabriel Boric Font</td>\n",
       "      <td>President</td>\n",
       "      <td>NaN</td>\n",
       "    </tr>\n",
       "    <tr>\n",
       "      <th>3</th>\n",
       "      <td>2022</td>\n",
       "      <td>77</td>\n",
       "      <td>JOR</td>\n",
       "      <td>Jordan</td>\n",
       "      <td>Abdullah II ibn Al Hussein</td>\n",
       "      <td>King</td>\n",
       "      <td>NaN</td>\n",
       "    </tr>\n",
       "    <tr>\n",
       "      <th>4</th>\n",
       "      <td>2022</td>\n",
       "      <td>77</td>\n",
       "      <td>COL</td>\n",
       "      <td>Colombia</td>\n",
       "      <td>Gustavo Petro Urrego</td>\n",
       "      <td>President</td>\n",
       "      <td>NaN</td>\n",
       "    </tr>\n",
       "  </tbody>\n",
       "</table>\n",
       "</div>"
      ],
      "text/plain": [
       "   Year  Session ISO Code   Country     Name of Person Speaking        Post  \\\n",
       "0  2022       77      BRA   Brazil               Jair Bolsonaro  President    \n",
       "1  2022       77      SEN   Senegal                  Macky Sail  President    \n",
       "2  2022       77      CHL     Chile          Gabriel Boric Font  President    \n",
       "3  2022       77      JOR    Jordan  Abdullah II ibn Al Hussein        King   \n",
       "4  2022       77      COL  Colombia        Gustavo Petro Urrego  President    \n",
       "\n",
       "  Unnamed: 6  \n",
       "0        NaN  \n",
       "1        NaN  \n",
       "2        NaN  \n",
       "3        NaN  \n",
       "4        NaN  "
      ]
     },
     "execution_count": 4,
     "metadata": {},
     "output_type": "execute_result"
    }
   ],
   "source": [
    "df_emissions.head()\n",
    "df_speeches.head()\n"
   ]
  },
  {
   "cell_type": "code",
   "execution_count": 5,
   "metadata": {},
   "outputs": [
    {
     "name": "stdout",
     "output_type": "stream",
     "text": [
      "{'United Arab  Republic', 'Palestinan Authority', 'Romania', 'Sierra Leone ', 'Guinea', 'Zimbabwe ', 'Gabon', 'United States', 'Central African Republic', 'Armenia ', 'Guinea-Bissau', 'Czech Republic ', 'Eritrea ', 'Democratic Socialist Republic of Sri Lanka', 'Viet Nam', 'Greece', 'Bosnia and Herzegovina ', 'Grand Duchy of Luxembourg', 'Mauritania', 'Democratic Kampuchea', 'Republic of Djibouti', 'Cabo Verde', 'Jordan', 'The Republic of Niger', 'Federation of Malaya', 'Islamic Republic of Iran', 'Kingdom of Spain', 'Benin ', 'Yugoslavia', 'Uruguay ', 'Cyprus', 'Korea, Republic of', 'AUSTRIA', 'Equatorial Guinea ', 'Bolivia', 'Bostwana', 'Azerbaijan', 'San Marino', \"Korea, Democratic People's Republic of\", 'Republic of Namibia', 'Libyan Arab Jamahiiya', 'Congo ', 'Republic of Suriname', 'Republic of San Marino', 'Republic of Burundi', 'United Arab Republic', 'USA', 'Albania ', 'Tunisia', 'Philippines ', 'Oman ', 'Republic of Iraq', 'Congo, the Peoples Republic of the', 'Somalia ', 'Guatemala', 'Dahomey', 'Russia ', 'Democratic Republic of the Congo', 'Brunei-Darussalam', 'Leage of Arab States ', 'State of Eritrea', 'Cape Verda', 'Viet nam', 'Palestine Liberation Organization ', 'Liechtenstein', 'Angola', 'Portugal ', 'San Marino ', 'United Kingdom', 'Paraguay', 'Brazil', 'Moldova', 'Romania ', 'Swistzerland', 'Republic of Guinea', 'Republic of Poland', 'Khmer Republic', \"People's Republic of Korea\", 'Denmark ', 'Turkey', 'Upper Volta/Burkina Faso', 'Moroco', 'People’s Democratic Republic of Algeria', 'Republic of Kazakhstan', 'Slovak Republic', 'Turkmenistan ', 'Japan ', 'Azerbaijan ', 'Kingdom of Belgium', 'Republic of Colombia', 'Netherlands', 'Mali', 'Grenada ', ' Zaire', 'Marshall Islands', 'Syria', 'Italy ', 'Andorra ', 'South Africa ', 'Uruguay', 'Germany Democratic Republic', 'Papua new Guinea', 'Antigua and Barbuda ', 'Viet Nam ', 'Republic of Italy', 'Ukraine', 'Democratic Republic of Germany ', 'Qatar', 'Ukranian Soviet Socialist Republic', 'Senegal ', 'Republic of Mali', 'Czechoslovak Socialist Republic', 'North Macedonia ', 'Cambodia ', 'Kingdom of Lesotho', 'Ecuador ', 'Western Samoa', \"Lao's people democratic republic\", 'North Korea ', 'South Sudan ', 'Republic of Finland', 'Democratic People’s Republic', 'Mongolia', 'German Democratic Republic', 'Guinea Bassau', 'Republic of Mozambique', 'Republic of Iceland', 'Guyana', 'Singapore ', 'Luxembourg', 'Union of Socialist Soviet Republics', 'Burundi', 'Kingdom of Bhutan', 'Myanmar / Burma', 'Poland', 'Korea, Republic of ', 'Yemen Arab Republic', 'Madagascar', 'Holy See ', 'Hungary', 'Republic of Croatia', 'Republic of Kiribati', 'Yugoslavia ', 'FDR', 'Djibouti ', 'Palestine, State of', 'State of Israel', 'Congo, Leopoldville', 'Greece ', 'Republic of Chile', 'Lithuania ', 'Union of the Comoros', 'Swaziland', 'Monaco ', 'UK ', 'Dominican Republic', 'Republic of Russia', 'Cape Verde', 'Democratic Republic Of Congo', 'Lebanon', 'El Salvador ', 'Maldives', 'Bosnia and Herzegovia', 'Suriname', 'Micronesia ', 'Republic of the Marshall Islands', 'Federal Republic of Germany ', 'Democratic Republic of the Congo ', 'Tanzania ', 'Côte d’Ivoire', 'Republic of Panama', 'Mauritus', 'Marshall islands', 'Tajikistan', 'Iraq ', \"Cote d'Ivoire\", 'Republic of Korea', 'Slovenia', 'Democratic People’s Republic of Korea', 'Latvia', 'Burkina Faso', 'The Republic of South Africa', 'Samoa ', 'United States ', 'Croatia', 'Jamaica ', 'Micronesia, Federated States of', 'Kingdom of Bahrain', 'Burundi ', 'Djibouti', 'Uganda', 'Nauru ', 'Republic of Zimbabwe', 'Republic of El Salvador', 'Cambodia', 'South Korea ', 'South Africa', 'Union of Sovier Socialist Republics', 'Republic of Zambia', 'Ivory Coast', 'Fiji', 'Bangladesh ', 'Denmark', 'Republica Federal Alemana ', 'Tonga ', 'Cambodia /Kampuchea', 'Malaysia', 'Sweden', 'Macedonia', 'Federative Republic of Brazil', 'Central Africa', 'Namibia', 'Eastern Republic of Uruguay', 'Benin (Dahomey)', 'Saint Lucia ', 'Republic of Costa Rica', 'Dominican republic', 'Republic of Kenya', 'Republic of Vanuatu', 'Serbia', 'Benin', 'Independent State of Samoa', 'United States Minor Outlying Islands', 'Republic of Estonia', 'Comoros', 'Algeria', 'Palestine ', 'Central African Republic ', 'Rwanda', 'St Kitts and Nevis', 'Sudan ', 'Singapore', 'Federal Democratic Republic of Ethiopia', 'Ceylon', 'Guatemala ', 'Brunei', 'Syria ', 'Austria ', 'Republic of Malta', 'UK', 'Syrian Arab Republic ', 'Afghanistan', 'Republic of Honduras', 'Republic of Ecuador', 'Republic of The Gambia', 'Palau ', 'Uzbekistan ', 'Palestine', 'Federal Republic of Germany', 'Saint Vincent and Grenadines', 'Iceland', 'Republic of Liberia', 'Kazakhstan', 'Jordan ', 'UAE', 'Trinidad and Tobago', 'Republic of Mauritius', 'Republic of Trinidad and Tobago', 'The United States of America', 'Tanzania', 'CAR', 'European Union ', 'Moldova, Republic of', 'Ukraine SSR', 'Ivory Coast ', 'United Kindom', 'Khmer Republic ', 'Syrian Arab Republic', 'Republic of Benin', 'Indonesia ', 'Central African Empire/CAR', 'Mozambique ', 'Austria', 'Bhutan', 'Republic of North Macedonia', 'Switzerland', 'Dominica', 'Norway', 'Lybian Arab Republic', 'Sultanate of Oman', 'Lao People’s Democratic Republic', '29+C70+A7+D71:E74', 'Costa Rica', 'Portugal', 'Guyana ', 'United Republic of Tanzania', 'Mali ', 'Independent State of Papua New Guinea', 'Hungry', 'Nepal ', 'Belize', 'Soloman Islands', 'Equatorial Guinea', 'Estonia ', 'Republic of Tunisia', 'Nepal', 'Mongolian People’s Republic', 'Republic of Latvia', 'Canada', 'Zambia ', 'Republic of Angola', 'Papa New Guinea', 'Nicaragua ', 'Lybia', 'Republic of Maldives', 'St Vincent and the Grenadines', 'Commonwealth of Dominica', 'Armenia', 'Ukranian SSR', \"Côte d'Ivoire\", 'Saint Christopher and Nevis', 'Spain', 'AUSTRALIA', 'Brazil ', 'Bosnia', 'Republic of Lithuania', 'Monaco', 'Republic of Haiti', 'Ukrainian Soviet Socialist Republic', 'Republic of Paraguay', 'Venezuela, Bolivarian Republic of', 'Union of Soviet Socialist Republics', 'Saint Lucia', 'Luxembourg ', 'The Federative Republic of Brazil', 'Gambia ', 'Peru', 'Nigeria ', 'Senegal', 'United States of America', 'People’s Republic of China', 'Turkmenistan', 'Cameroon ', 'Republic of Tajikistan', 'Singapor', 'United Kingdom of Great Britain and Northern Ireland', 'Niger', 'BSSR', 'Lebanese Republic', 'Bahamas ', 'Lithuania', 'Principality of Liechtenstein', 'Micronesia', 'Libyan Arab Republic', 'Sri Lanka ', 'Gabon ', 'Sweden ', 'USSR', 'Kyrgyz Republic', 'Yemen ', 'Kingdom of Eswatini', 'Georgia ', 'Mexico', 'Kiribati ', 'Vatican', 'Tanzania, United Republic of', 'Andorra', 'New Zealand', 'Solomon Island', 'State of Qatar', 'Plurinational State of Bolivia', 'Egypt', 'Bahamas', 'Lichtenstein', 'Latvia ', 'Republic of Cabo Verde', 'Swiss Confederation', 'Thailand', 'Republic of Cuba', \"Republic of Cote d'Ivoire\", 'Kingdom of Cambodia', 'Italian Republic', 'Pakistan ', 'Arab Republic of Egypt', 'Honduras', 'Republic of Serbia', 'Kuwait ', 'Russia', 'Cyprus ', 'Republic of Moldova', 'Australia ', 'Lebanon ', 'Federal Republic of Nigeria', 'Republic of Cameroon', 'Kazakhstan ', 'Morocco', 'São Tomé and Príncipe ', 'Geranada', 'Byelorussian Soviet Socialist Repulic', 'Chile', 'Republic of Co', 'Sudan', 'South Yemen', 'Myanmar', 'Republic of Madagascar', 'Cuba', 'Kyrgystan', 'Barbados ', 'Russian Federation (USSR)', 'The Republic of the Congo', 'European Council', 'Congo, Brazzavile', 'Democratic Republic of Congo', 'Serbia and Montenegro', 'Lao', 'Vietnam ', 'FDR (Germany)', \"People's Democratic Republic of Yemen\", 'Kyrgyzstan', 'Macedonia ', 'Gabonese Republic', 'Bolivia, Plurinational State of', 'Angola ', 'South Afrioa', 'Vatican/Holy See', 'Republic of Azerbaijan', 'Vanuatu', 'Democratic Yemen ', 'Hellenic Republic', 'People’s Republic of Bangladesh', 'SriLanka', 'Republic of Ghana', 'Marshall Islands ', 'Liberia ', 'North Korea', 'Belarus', 'Hungrary', 'Czech Republic', 'Bulgaria ', 'Surinam', 'Seychelles', 'Israel', 'Hashemite Kingdom of Jordan', 'Thailand ', 'China', 'Haiti ', 'Republic of the Congo', 'Solomon Islands ', 'Republic of Albania', 'Union of Myanmar', 'Liechtenstein ', 'Portuguese Republic', 'Spain ', 'Ireland ', 'South Korea', 'USSR ', 'Iraq', 'Belgium', 'Vietnam', 'Fiji ', 'Samoa', 'Union of Burma', 'Netherland', 'Qatar ', 'Comoros ', 'Cuba ', 'Togo ', 'Kingdom of Saudi Arabia', 'Mexico ', 'Congo, the Democratic Republic of the', 'Suriname ', 'Bhutan ', 'Burkina Faso ', 'Iran, Islamic Republic of', 'Sao Tome', 'Croatia ', 'Papua New Guinea', 'Saudi Arabia', 'Libyan Arab Jamahiriya', 'Lao ', 'Sao Tome and Principe', 'Trinidad and Tobago ', \"Laos People's Democratic Republic\", 'Israel ', \"Democratic People's Republic of Korea\", 'Kiribati', 'Timor Leste', 'Democratic Republic of Yemen ', 'Kingdom of the Netherlands', 'Venezuela ', 'Panama', 'Haiti', 'Federal Republic of Somalia', 'South Sudan', 'Byelorussian Soviet Socialist Republic', 'Indonesia', 'European Union', 'Somalia', 'Montenegro', 'Argentina ', 'Republic of Turkmenistan', 'Nigeria', 'Republic of the Sudan', 'Sierra Leone', 'Zambia', 'Belarus ', 'Union of South Africa', 'United Kingdom ', 'Kingdom of Morocco', 'Tonga', 'Malaysia ', 'Philpinnes', 'Tuvalu', 'Kampuchea', 'Czechoslovakia', 'Republic of Bulgaria', 'Cameroon', 'Ethiopia', 'Magadascar', \"Mongolian People's Republic\", 'Republic of Botswana', 'Korea', 'Malawi', 'Malawi ', 'Phillippines ', 'Libya', 'Congo (Brazzaville', 'Bahrain', 'Kuwait', 'Maldive Islands', 'Russian Federation ', 'Zimbabwe', 'Yemen', 'Kyrgyzstan ', 'French Republic', 'Malta', 'State of Kuwait', 'Maldives ', 'Nicaragua', 'UkrSSR', 'United Kingdom of Great Britain and Nothern Ireland', 'Morocco ', 'United Arab Emirates ', 'Kingdom of Thailand', 'Kingdom of Tonga', 'Giunea-Bissau', 'Democratic Republic of Sao Tome and Principe', 'India ', 'Liberia', 'Congo, Brazzaville', 'Republic of Guinea-Bissau', 'Republic of Nauru', 'Co-operative Republic of Guyana', 'Morroco', 'Iran ', 'Ukraine ', 'Switzerland ', 'Principality of Andorra', 'Republic of the Philippines', 'Eritrea', 'Guinea ', 'Republic of Malawi', 'Republic of Singapore', 'Belgium ', 'Saint Vincent and the Grenadines ', 'Republic of Guatemala', 'Mauritius', 'France', 'Bahrain ', 'United Arab Emirates', 'Western Sahara', 'Bolivarian Republic of Venezuela', 'Democratic Republic of Timor-Leste', 'Ireland', 'Republic of Slovenia', 'Commonwealth of Australia', 'BelSSR', 'Colombia', 'Dominica ', 'Socialist Republic of Viet Nam', 'State of Palestine', 'Macedonia, the former Yugoslav Republic of', 'Uzbekistan', 'Libya ', 'So Tome and Principe', 'Namibia ', 'Seychelles ', 'Netherlands ', 'Jamaica', 'Zaire', 'Democratic Republic of Congo ', 'Cape verde', 'Grenada', 'Tuvalu ', 'Mauritius ', 'Republic of Peru', 'Lesotho ', 'Islamic Republic of Pakistan', 'Holy See (Vatican City State)', 'Mongolia ', 'Germany ', 'Georgia', 'Argentine Republic', 'Kenya', 'Laos', 'Siam', 'Sri Lanka', 'Chile ', 'Belize ', 'Ghana ', 'Nauru', 'Congo, the Democratic Republic of the/Zaire', 'Bosnia and Herzegovina', 'Tunisia ', 'Japan', 'Saint Kitts and Nevis ', 'Norway ', 'Peru ', 'Republic of Niger', 'Montenegro ', 'Lesotho', 'Egypt ', 'Sao Tome and Principe ', 'Republic of Côte d’Ivoire', 'Slovenia ', 'Islamic Republic of Afghanistan', 'Taoiseach of Ireland', 'Republic of Naura', 'Congo', 'Republic of Fiji', 'Republic of Yemen', 'Republic of Sierra Leone', 'Brunei Darussalam', 'Gambia', 'Republic of Austria', 'Australia', 'Solomon Islands', 'Republic of Seychelles', 'Botswana', 'Costa Rica ', 'Argentina', 'GUATEMALA', 'Timor-Leste', 'Republic of Cyprus', 'Uganda ', 'Republic of Congo', 'Paraguay ', 'Slovakia', 'DRC', 'Trinidad and Tobado', 'Malta ', \"Lao People's Democratic Republic\", 'Federal Democratic Republic of Nepal', \"Lao People's Democratic Re\\xadpublic\", 'France ', 'Honduras ', 'United Mexican States', 'Salvador', 'Philippines', 'Venezuela', 'Oman', 'Republic of Rwanda', 'Pakistan', 'Commonwealth of the Bahamas', 'Belarus, Byelorussian Soviet Socialist Republic', 'Moldova ', \"Côte d'Ivoire \", 'Tajikistan ', 'Antigua', 'Panama ', 'St. Kitts and Nevis', 'Saint Kitts and Nevis', 'Lybian Arab Jamahiriya', 'Turkey ', 'Republic of the Niger', 'The Principality of Andorra', 'Saudi Arabia ', 'Papua New Guinea ', 'United Republic of Cameroon', 'Russian Federation', 'Papua Nueva Guinea', 'Southern Yemen', 'Republic of the Cabo Verde', 'St. Vincent and the Grenadines', 'THAILAND', 'Republic of Equatorial Guinea', 'Madagascar ', 'Holy See/Vatican', 'Holy SEE', 'Democratic Yemen', 'Republic of the Gambia', 'Palau', 'Ceylon (Sri Lanka)', \"Lao people's democratic Republic \", 'Upper Volta', 'New Zealnand', 'Republic of Belarus', 'Burma', 'DDR', 'El Salvador', 'Finland ', 'Togo', 'Comoras', 'Slovakia ', 'India', 'Vanuatu ', 'Algeria ', 'Philippine Republic', 'Poland ', 'Republic of Palau', 'Republic of Chad', 'Bulgaria', 'Italy', 'New Zealand ', 'Holy See/ Vatican', 'Upper Volta ', 'Eswatini ', 'Rwanda ', 'Brunei ', 'Republic of South Sudan', 'Holy See', 'Federal Republic Germany', 'Germany', 'Federated States of Micronesia', 'Republic of Senegal', 'Bolivia ', 'Solomon islands', 'China ', 'Estonia', 'Iceland ', 'Mozambique', 'Laos PDR', 'Ethiopia ', 'Chad ', 'Colombia ', 'Chad', 'Canada ', 'Botswana ', 'Hungary ', 'Ghana', 'Palestine Liberation Organization', 'Barbados', 'Bangladesh', 'Albania', 'Republic of Turkey', 'Finland', 'Antigua and Barbuda', 'Kenya ', 'Republic of Tanzania', 'Ecuador', 'Republic of Indonesia', 'Republic of India', 'Niger ', 'Dominican Republic ', 'Islamic Republic of Mauritania', 'Laos ', 'Mauritania ', 'Republic of Armenia', 'Serbia ', 'Republic of Nicaragua', 'Iran', \"Lao People's Democratic Republic \", 'Somoa', 'Saint Vincent and the Grenadines', 'Afganistan', 'Cabo Verde '}\n",
      "231 756\n",
      "799 634 165\n"
     ]
    }
   ],
   "source": [
    "disaster_countries = set(df_disasters['Country'])\n",
    "speeches_countries = set(df_speeches['Country'])\n",
    "all_countries = set(list(df_emissions['Country']) + list(df_speeches['Country']))\n",
    "\n",
    "intersection = disaster_countries.intersection(speeches_countries)\n",
    "missing_countries = all_countries - intersection\n",
    "\n",
    "print(speeches_countries)\n",
    "print(len(disaster_countries), len(speeches_countries))\n",
    "print(len(all_countries), len(missing_countries), len(intersection))\n",
    "# len(all_countries)\n",
    "# len(missing_countries)\n",
    "\n",
    "shared_countries = intersection\n",
    "df_disasters = df_disasters[df_disasters['Country'].isin(shared_countries)]"
   ]
  },
  {
   "cell_type": "markdown",
   "metadata": {},
   "source": [
    "# Explore disaster data"
   ]
  },
  {
   "cell_type": "code",
   "execution_count": 6,
   "metadata": {},
   "outputs": [
    {
     "data": {
      "text/plain": [
       "Index(['Dis No', 'Year', 'Seq', 'Glide', 'Disaster Group', 'Disaster Subgroup',\n",
       "       'Disaster Type', 'Disaster Subtype', 'Disaster Subsubtype',\n",
       "       'Event Name', 'Country', 'ISO', 'Region', 'Continent', 'Location',\n",
       "       'Origin', 'Associated Dis', 'Associated Dis2', 'OFDA Response',\n",
       "       'Appeal', 'Declaration', 'AID Contribution ('000 US$)', 'Dis Mag Value',\n",
       "       'Dis Mag Scale', 'Latitude', 'Longitude', 'Local Time', 'River Basin',\n",
       "       'Start Year', 'Start Month', 'Start Day', 'End Year', 'End Month',\n",
       "       'End Day', 'Total Deaths', 'No Injured', 'No Affected', 'No Homeless',\n",
       "       'Total Affected', 'Reconstruction Costs ('000 US$)',\n",
       "       'Reconstruction Costs, Adjusted ('000 US$)',\n",
       "       'Insured Damages ('000 US$)', 'Insured Damages, Adjusted ('000 US$)',\n",
       "       'Total Damages ('000 US$)', 'Total Damages, Adjusted ('000 US$)', 'CPI',\n",
       "       'Adm Level', 'Admin1 Code', 'Admin2 Code', 'Geo Locations'],\n",
       "      dtype='object')"
      ]
     },
     "execution_count": 6,
     "metadata": {},
     "output_type": "execute_result"
    }
   ],
   "source": [
    "# select data from 2021\n",
    "df = df_disasters[df_disasters['Year'] == 2021]\n",
    "df.head()\n",
    "\n",
    "df.columns"
   ]
  },
  {
   "cell_type": "code",
   "execution_count": 7,
   "metadata": {},
   "outputs": [
    {
     "name": "stderr",
     "output_type": "stream",
     "text": [
      "/var/folders/pz/pqdfb44x6z56nqs5vr77b6rw0000gn/T/ipykernel_22231/1214363770.py:14: SettingWithCopyWarning: \n",
      "A value is trying to be set on a copy of a slice from a DataFrame.\n",
      "Try using .loc[row_indexer,col_indexer] = value instead\n",
      "\n",
      "See the caveats in the documentation: https://pandas.pydata.org/pandas-docs/stable/user_guide/indexing.html#returning-a-view-versus-a-copy\n",
      "  df[new_column_name] = df[\"Disaster Type\"].apply(lambda x: False if x in types_to_drop else True)\n"
     ]
    },
    {
     "data": {
      "application/vnd.plotly.v1+json": {
       "config": {
        "plotlyServerURL": "https://plot.ly"
       },
       "data": [
        {
         "alignmentgroup": "True",
         "bingroup": "x",
         "hovertemplate": "causes climate change sentiment=True<br>Disaster Type=%{x}<br>count=%{y}<extra></extra>",
         "legendgroup": "True",
         "marker": {
          "color": "rgba(0, 0, 100, 1)",
          "pattern": {
           "shape": ""
          }
         },
         "name": "True",
         "offsetgroup": "True",
         "orientation": "v",
         "showlegend": true,
         "type": "histogram",
         "x": [
          "Storm",
          "Storm",
          "Flood",
          "Flood",
          "Flood",
          "Flood",
          "Flood",
          "Flood",
          "Flood",
          "Flood",
          "Flood",
          "Flood",
          "Flood",
          "Flood",
          "Flood",
          "Flood",
          "Flood",
          "Storm",
          "Flood",
          "Flood",
          "Storm",
          "Flood",
          "Storm",
          "Wildfire",
          "Wildfire",
          "Wildfire",
          "Wildfire",
          "Extreme temperature ",
          "Storm",
          "Storm",
          "Drought",
          "Landslide",
          "Storm",
          "Storm",
          "Flood",
          "Flood",
          "Flood",
          "Landslide",
          "Flood",
          "Flood",
          "Flood",
          "Flood",
          "Wildfire",
          "Flood",
          "Storm",
          "Wildfire",
          "Flood",
          "Flood",
          "Flood",
          "Flood",
          "Storm",
          "Flood",
          "Storm",
          "Flood",
          "Drought",
          "Flood",
          "Flood",
          "Flood",
          "Flood",
          "Storm",
          "Flood",
          "Storm",
          "Flood",
          "Storm",
          "Storm",
          "Storm",
          "Flood",
          "Storm",
          "Drought",
          "Flood",
          "Flood",
          "Flood",
          "Flood",
          "Flood",
          "Flood",
          "Landslide",
          "Flood",
          "Flood",
          "Storm",
          "Storm",
          "Flood",
          "Storm",
          "Storm",
          "Storm",
          "Storm",
          "Storm",
          "Flood",
          "Flood",
          "Landslide",
          "Flood",
          "Storm",
          "Storm",
          "Storm",
          "Storm",
          "Flood",
          "Flood",
          "Flood",
          "Flood",
          "Storm",
          "Storm",
          "Flood",
          "Flood",
          "Flood",
          "Flood",
          "Flood",
          "Flood",
          "Flood",
          "Flood",
          "Flood",
          "Flood",
          "Flood",
          "Flood",
          "Flood",
          "Glacial lake outburst",
          "Flood",
          "Flood",
          "Flood",
          "Flood",
          "Flood",
          "Flood",
          "Flood",
          "Flood",
          "Flood",
          "Flood",
          "Flood",
          "Flood",
          "Flood",
          "Flood",
          "Flood",
          "Flood",
          "Flood",
          "Flood",
          "Flood",
          "Flood",
          "Flood",
          "Flood",
          "Flood",
          "Landslide",
          "Flood",
          "Flood",
          "Flood",
          "Flood",
          "Storm",
          "Wildfire",
          "Drought",
          "Drought",
          "Landslide",
          "Storm",
          "Glacial lake outburst",
          "Storm",
          "Storm",
          "Storm",
          "Drought",
          "Storm",
          "Storm",
          "Flood",
          "Flood",
          "Flood",
          "Flood",
          "Flood",
          "Flood",
          "Flood",
          "Storm",
          "Storm",
          "Extreme temperature ",
          "Flood",
          "Flood",
          "Flood",
          "Flood",
          "Flood",
          "Flood",
          "Flood",
          "Wildfire",
          "Flood",
          "Storm",
          "Storm",
          "Flood",
          "Flood",
          "Landslide",
          "Flood",
          "Flood",
          "Flood",
          "Flood",
          "Flood",
          "Flood",
          "Flood",
          "Flood",
          "Flood",
          "Flood",
          "Storm",
          "Storm",
          "Storm",
          "Storm",
          "Flood",
          "Flood",
          "Flood",
          "Flood",
          "Flood",
          "Wildfire",
          "Landslide",
          "Flood",
          "Landslide",
          "Storm",
          "Flood",
          "Flood",
          "Storm",
          "Storm",
          "Storm",
          "Flood",
          "Flood",
          "Storm",
          "Storm",
          "Storm",
          "Flood",
          "Flood",
          "Flood",
          "Flood",
          "Flood",
          "Drought",
          "Flood",
          "Flood",
          "Flood",
          "Flood",
          "Flood",
          "Flood",
          "Flood",
          "Storm",
          "Flood",
          "Flood",
          "Flood",
          "Flood",
          "Flood",
          "Flood",
          "Flood",
          "Flood",
          "Storm",
          "Flood",
          "Flood",
          "Storm",
          "Flood",
          "Flood",
          "Flood",
          "Flood",
          "Flood",
          "Flood",
          "Flood",
          "Flood",
          "Flood",
          "Flood",
          "Storm",
          "Flood",
          "Wildfire",
          "Storm",
          "Storm",
          "Storm",
          "Storm",
          "Storm",
          "Storm",
          "Drought",
          "Drought",
          "Drought",
          "Drought",
          "Drought",
          "Storm",
          "Storm",
          "Flood",
          "Storm",
          "Flood",
          "Flood",
          "Flood",
          "Flood",
          "Flood",
          "Flood",
          "Flood",
          "Flood",
          "Flood",
          "Flood",
          "Flood",
          "Landslide",
          "Wildfire",
          "Flood",
          "Drought",
          "Flood",
          "Flood",
          "Landslide",
          "Storm",
          "Storm",
          "Flood",
          "Storm",
          "Storm",
          "Flood",
          "Flood",
          "Flood",
          "Flood",
          "Flood",
          "Drought"
         ],
         "xaxis": "x",
         "yaxis": "y"
        },
        {
         "alignmentgroup": "True",
         "bingroup": "x",
         "hovertemplate": "causes climate change sentiment=False<br>Disaster Type=%{x}<br>count=%{y}<extra></extra>",
         "legendgroup": "False",
         "marker": {
          "color": "rgba(0, 0, 100, 0.5)",
          "pattern": {
           "shape": ""
          }
         },
         "name": "False",
         "offsetgroup": "False",
         "orientation": "v",
         "showlegend": true,
         "type": "histogram",
         "x": [
          "Industrial accident",
          "Earthquake",
          "Transport accident",
          "Miscellaneous accident",
          "Industrial accident",
          "Transport accident",
          "Transport accident",
          "Transport accident",
          "Transport accident",
          "Transport accident",
          "Industrial accident",
          "Miscellaneous accident",
          "Miscellaneous accident",
          "Transport accident",
          "Transport accident",
          "Earthquake",
          "Earthquake",
          "Earthquake",
          "Earthquake",
          "Earthquake",
          "Earthquake",
          "Transport accident",
          "Industrial accident",
          "Industrial accident",
          "Miscellaneous accident",
          "Miscellaneous accident",
          "Miscellaneous accident",
          "Miscellaneous accident",
          "Transport accident",
          "Transport accident",
          "Transport accident",
          "Transport accident",
          "Transport accident",
          "Transport accident",
          "Transport accident",
          "Transport accident",
          "Transport accident",
          "Transport accident",
          "Miscellaneous accident",
          "Earthquake",
          "Industrial accident",
          "Earthquake",
          "Earthquake",
          "Transport accident",
          "Earthquake",
          "Earthquake",
          "Transport accident",
          "Volcanic activity",
          "Transport accident",
          "Transport accident",
          "Transport accident",
          "Transport accident",
          "Transport accident",
          "Transport accident",
          "Industrial accident",
          "Transport accident",
          "Transport accident",
          "Epidemic",
          "Industrial accident",
          "Transport accident",
          "Miscellaneous accident",
          "Earthquake",
          "Earthquake",
          "Transport accident",
          "Transport accident",
          "Transport accident",
          "Earthquake",
          "Earthquake",
          "Earthquake",
          "Earthquake",
          "Volcanic activity",
          "Volcanic activity",
          "Transport accident",
          "Transport accident",
          "Transport accident",
          "Miscellaneous accident",
          "Earthquake",
          "Transport accident",
          "Transport accident",
          "Transport accident",
          "Transport accident",
          "Industrial accident",
          "Miscellaneous accident",
          "Miscellaneous accident",
          "Miscellaneous accident",
          "Miscellaneous accident",
          "Miscellaneous accident",
          "Transport accident",
          "Transport accident",
          "Transport accident",
          "Earthquake",
          "Earthquake",
          "Miscellaneous accident",
          "Epidemic",
          "Transport accident",
          "Transport accident",
          "Industrial accident",
          "Transport accident",
          "Transport accident",
          "Transport accident",
          "Transport accident",
          "Transport accident",
          "Transport accident",
          "Transport accident",
          "Transport accident",
          "Transport accident",
          "Transport accident",
          "Miscellaneous accident",
          "Transport accident",
          "Transport accident",
          "Transport accident",
          "Transport accident",
          "Transport accident",
          "Epidemic",
          "Transport accident",
          "Transport accident",
          "Transport accident",
          "Transport accident",
          "Industrial accident",
          "Epidemic",
          "Transport accident",
          "Transport accident",
          "Transport accident",
          "Transport accident",
          "Transport accident",
          "Miscellaneous accident",
          "Earthquake",
          "Earthquake",
          "Transport accident",
          "Transport accident",
          "Transport accident",
          "Transport accident",
          "Volcanic activity",
          "Transport accident",
          "Miscellaneous accident",
          "Industrial accident",
          "Earthquake",
          "Transport accident",
          "Transport accident",
          "Transport accident",
          "Transport accident",
          "Transport accident",
          "Transport accident",
          "Transport accident",
          "Miscellaneous accident",
          "Transport accident",
          "Miscellaneous accident",
          "Volcanic activity",
          "Volcanic activity",
          "Miscellaneous accident",
          "Transport accident",
          "Transport accident",
          "Miscellaneous accident",
          "Miscellaneous accident"
         ],
         "xaxis": "x",
         "yaxis": "y"
        }
       ],
       "layout": {
        "barmode": "relative",
        "legend": {
         "title": {
          "text": "causes climate change sentiment"
         },
         "tracegroupgap": 0
        },
        "margin": {
         "t": 60
        },
        "template": {
         "data": {
          "bar": [
           {
            "error_x": {
             "color": "#2a3f5f"
            },
            "error_y": {
             "color": "#2a3f5f"
            },
            "marker": {
             "line": {
              "color": "#E5ECF6",
              "width": 0.5
             },
             "pattern": {
              "fillmode": "overlay",
              "size": 10,
              "solidity": 0.2
             }
            },
            "type": "bar"
           }
          ],
          "barpolar": [
           {
            "marker": {
             "line": {
              "color": "#E5ECF6",
              "width": 0.5
             },
             "pattern": {
              "fillmode": "overlay",
              "size": 10,
              "solidity": 0.2
             }
            },
            "type": "barpolar"
           }
          ],
          "carpet": [
           {
            "aaxis": {
             "endlinecolor": "#2a3f5f",
             "gridcolor": "white",
             "linecolor": "white",
             "minorgridcolor": "white",
             "startlinecolor": "#2a3f5f"
            },
            "baxis": {
             "endlinecolor": "#2a3f5f",
             "gridcolor": "white",
             "linecolor": "white",
             "minorgridcolor": "white",
             "startlinecolor": "#2a3f5f"
            },
            "type": "carpet"
           }
          ],
          "choropleth": [
           {
            "colorbar": {
             "outlinewidth": 0,
             "ticks": ""
            },
            "type": "choropleth"
           }
          ],
          "contour": [
           {
            "colorbar": {
             "outlinewidth": 0,
             "ticks": ""
            },
            "colorscale": [
             [
              0,
              "#0d0887"
             ],
             [
              0.1111111111111111,
              "#46039f"
             ],
             [
              0.2222222222222222,
              "#7201a8"
             ],
             [
              0.3333333333333333,
              "#9c179e"
             ],
             [
              0.4444444444444444,
              "#bd3786"
             ],
             [
              0.5555555555555556,
              "#d8576b"
             ],
             [
              0.6666666666666666,
              "#ed7953"
             ],
             [
              0.7777777777777778,
              "#fb9f3a"
             ],
             [
              0.8888888888888888,
              "#fdca26"
             ],
             [
              1,
              "#f0f921"
             ]
            ],
            "type": "contour"
           }
          ],
          "contourcarpet": [
           {
            "colorbar": {
             "outlinewidth": 0,
             "ticks": ""
            },
            "type": "contourcarpet"
           }
          ],
          "heatmap": [
           {
            "colorbar": {
             "outlinewidth": 0,
             "ticks": ""
            },
            "colorscale": [
             [
              0,
              "#0d0887"
             ],
             [
              0.1111111111111111,
              "#46039f"
             ],
             [
              0.2222222222222222,
              "#7201a8"
             ],
             [
              0.3333333333333333,
              "#9c179e"
             ],
             [
              0.4444444444444444,
              "#bd3786"
             ],
             [
              0.5555555555555556,
              "#d8576b"
             ],
             [
              0.6666666666666666,
              "#ed7953"
             ],
             [
              0.7777777777777778,
              "#fb9f3a"
             ],
             [
              0.8888888888888888,
              "#fdca26"
             ],
             [
              1,
              "#f0f921"
             ]
            ],
            "type": "heatmap"
           }
          ],
          "heatmapgl": [
           {
            "colorbar": {
             "outlinewidth": 0,
             "ticks": ""
            },
            "colorscale": [
             [
              0,
              "#0d0887"
             ],
             [
              0.1111111111111111,
              "#46039f"
             ],
             [
              0.2222222222222222,
              "#7201a8"
             ],
             [
              0.3333333333333333,
              "#9c179e"
             ],
             [
              0.4444444444444444,
              "#bd3786"
             ],
             [
              0.5555555555555556,
              "#d8576b"
             ],
             [
              0.6666666666666666,
              "#ed7953"
             ],
             [
              0.7777777777777778,
              "#fb9f3a"
             ],
             [
              0.8888888888888888,
              "#fdca26"
             ],
             [
              1,
              "#f0f921"
             ]
            ],
            "type": "heatmapgl"
           }
          ],
          "histogram": [
           {
            "marker": {
             "pattern": {
              "fillmode": "overlay",
              "size": 10,
              "solidity": 0.2
             }
            },
            "type": "histogram"
           }
          ],
          "histogram2d": [
           {
            "colorbar": {
             "outlinewidth": 0,
             "ticks": ""
            },
            "colorscale": [
             [
              0,
              "#0d0887"
             ],
             [
              0.1111111111111111,
              "#46039f"
             ],
             [
              0.2222222222222222,
              "#7201a8"
             ],
             [
              0.3333333333333333,
              "#9c179e"
             ],
             [
              0.4444444444444444,
              "#bd3786"
             ],
             [
              0.5555555555555556,
              "#d8576b"
             ],
             [
              0.6666666666666666,
              "#ed7953"
             ],
             [
              0.7777777777777778,
              "#fb9f3a"
             ],
             [
              0.8888888888888888,
              "#fdca26"
             ],
             [
              1,
              "#f0f921"
             ]
            ],
            "type": "histogram2d"
           }
          ],
          "histogram2dcontour": [
           {
            "colorbar": {
             "outlinewidth": 0,
             "ticks": ""
            },
            "colorscale": [
             [
              0,
              "#0d0887"
             ],
             [
              0.1111111111111111,
              "#46039f"
             ],
             [
              0.2222222222222222,
              "#7201a8"
             ],
             [
              0.3333333333333333,
              "#9c179e"
             ],
             [
              0.4444444444444444,
              "#bd3786"
             ],
             [
              0.5555555555555556,
              "#d8576b"
             ],
             [
              0.6666666666666666,
              "#ed7953"
             ],
             [
              0.7777777777777778,
              "#fb9f3a"
             ],
             [
              0.8888888888888888,
              "#fdca26"
             ],
             [
              1,
              "#f0f921"
             ]
            ],
            "type": "histogram2dcontour"
           }
          ],
          "mesh3d": [
           {
            "colorbar": {
             "outlinewidth": 0,
             "ticks": ""
            },
            "type": "mesh3d"
           }
          ],
          "parcoords": [
           {
            "line": {
             "colorbar": {
              "outlinewidth": 0,
              "ticks": ""
             }
            },
            "type": "parcoords"
           }
          ],
          "pie": [
           {
            "automargin": true,
            "type": "pie"
           }
          ],
          "scatter": [
           {
            "fillpattern": {
             "fillmode": "overlay",
             "size": 10,
             "solidity": 0.2
            },
            "type": "scatter"
           }
          ],
          "scatter3d": [
           {
            "line": {
             "colorbar": {
              "outlinewidth": 0,
              "ticks": ""
             }
            },
            "marker": {
             "colorbar": {
              "outlinewidth": 0,
              "ticks": ""
             }
            },
            "type": "scatter3d"
           }
          ],
          "scattercarpet": [
           {
            "marker": {
             "colorbar": {
              "outlinewidth": 0,
              "ticks": ""
             }
            },
            "type": "scattercarpet"
           }
          ],
          "scattergeo": [
           {
            "marker": {
             "colorbar": {
              "outlinewidth": 0,
              "ticks": ""
             }
            },
            "type": "scattergeo"
           }
          ],
          "scattergl": [
           {
            "marker": {
             "colorbar": {
              "outlinewidth": 0,
              "ticks": ""
             }
            },
            "type": "scattergl"
           }
          ],
          "scattermapbox": [
           {
            "marker": {
             "colorbar": {
              "outlinewidth": 0,
              "ticks": ""
             }
            },
            "type": "scattermapbox"
           }
          ],
          "scatterpolar": [
           {
            "marker": {
             "colorbar": {
              "outlinewidth": 0,
              "ticks": ""
             }
            },
            "type": "scatterpolar"
           }
          ],
          "scatterpolargl": [
           {
            "marker": {
             "colorbar": {
              "outlinewidth": 0,
              "ticks": ""
             }
            },
            "type": "scatterpolargl"
           }
          ],
          "scatterternary": [
           {
            "marker": {
             "colorbar": {
              "outlinewidth": 0,
              "ticks": ""
             }
            },
            "type": "scatterternary"
           }
          ],
          "surface": [
           {
            "colorbar": {
             "outlinewidth": 0,
             "ticks": ""
            },
            "colorscale": [
             [
              0,
              "#0d0887"
             ],
             [
              0.1111111111111111,
              "#46039f"
             ],
             [
              0.2222222222222222,
              "#7201a8"
             ],
             [
              0.3333333333333333,
              "#9c179e"
             ],
             [
              0.4444444444444444,
              "#bd3786"
             ],
             [
              0.5555555555555556,
              "#d8576b"
             ],
             [
              0.6666666666666666,
              "#ed7953"
             ],
             [
              0.7777777777777778,
              "#fb9f3a"
             ],
             [
              0.8888888888888888,
              "#fdca26"
             ],
             [
              1,
              "#f0f921"
             ]
            ],
            "type": "surface"
           }
          ],
          "table": [
           {
            "cells": {
             "fill": {
              "color": "#EBF0F8"
             },
             "line": {
              "color": "white"
             }
            },
            "header": {
             "fill": {
              "color": "#C8D4E3"
             },
             "line": {
              "color": "white"
             }
            },
            "type": "table"
           }
          ]
         },
         "layout": {
          "annotationdefaults": {
           "arrowcolor": "#2a3f5f",
           "arrowhead": 0,
           "arrowwidth": 1
          },
          "autotypenumbers": "strict",
          "coloraxis": {
           "colorbar": {
            "outlinewidth": 0,
            "ticks": ""
           }
          },
          "colorscale": {
           "diverging": [
            [
             0,
             "#8e0152"
            ],
            [
             0.1,
             "#c51b7d"
            ],
            [
             0.2,
             "#de77ae"
            ],
            [
             0.3,
             "#f1b6da"
            ],
            [
             0.4,
             "#fde0ef"
            ],
            [
             0.5,
             "#f7f7f7"
            ],
            [
             0.6,
             "#e6f5d0"
            ],
            [
             0.7,
             "#b8e186"
            ],
            [
             0.8,
             "#7fbc41"
            ],
            [
             0.9,
             "#4d9221"
            ],
            [
             1,
             "#276419"
            ]
           ],
           "sequential": [
            [
             0,
             "#0d0887"
            ],
            [
             0.1111111111111111,
             "#46039f"
            ],
            [
             0.2222222222222222,
             "#7201a8"
            ],
            [
             0.3333333333333333,
             "#9c179e"
            ],
            [
             0.4444444444444444,
             "#bd3786"
            ],
            [
             0.5555555555555556,
             "#d8576b"
            ],
            [
             0.6666666666666666,
             "#ed7953"
            ],
            [
             0.7777777777777778,
             "#fb9f3a"
            ],
            [
             0.8888888888888888,
             "#fdca26"
            ],
            [
             1,
             "#f0f921"
            ]
           ],
           "sequentialminus": [
            [
             0,
             "#0d0887"
            ],
            [
             0.1111111111111111,
             "#46039f"
            ],
            [
             0.2222222222222222,
             "#7201a8"
            ],
            [
             0.3333333333333333,
             "#9c179e"
            ],
            [
             0.4444444444444444,
             "#bd3786"
            ],
            [
             0.5555555555555556,
             "#d8576b"
            ],
            [
             0.6666666666666666,
             "#ed7953"
            ],
            [
             0.7777777777777778,
             "#fb9f3a"
            ],
            [
             0.8888888888888888,
             "#fdca26"
            ],
            [
             1,
             "#f0f921"
            ]
           ]
          },
          "colorway": [
           "#636efa",
           "#EF553B",
           "#00cc96",
           "#ab63fa",
           "#FFA15A",
           "#19d3f3",
           "#FF6692",
           "#B6E880",
           "#FF97FF",
           "#FECB52"
          ],
          "font": {
           "color": "#2a3f5f"
          },
          "geo": {
           "bgcolor": "white",
           "lakecolor": "white",
           "landcolor": "#E5ECF6",
           "showlakes": true,
           "showland": true,
           "subunitcolor": "white"
          },
          "hoverlabel": {
           "align": "left"
          },
          "hovermode": "closest",
          "mapbox": {
           "style": "light"
          },
          "paper_bgcolor": "white",
          "plot_bgcolor": "#E5ECF6",
          "polar": {
           "angularaxis": {
            "gridcolor": "white",
            "linecolor": "white",
            "ticks": ""
           },
           "bgcolor": "#E5ECF6",
           "radialaxis": {
            "gridcolor": "white",
            "linecolor": "white",
            "ticks": ""
           }
          },
          "scene": {
           "xaxis": {
            "backgroundcolor": "#E5ECF6",
            "gridcolor": "white",
            "gridwidth": 2,
            "linecolor": "white",
            "showbackground": true,
            "ticks": "",
            "zerolinecolor": "white"
           },
           "yaxis": {
            "backgroundcolor": "#E5ECF6",
            "gridcolor": "white",
            "gridwidth": 2,
            "linecolor": "white",
            "showbackground": true,
            "ticks": "",
            "zerolinecolor": "white"
           },
           "zaxis": {
            "backgroundcolor": "#E5ECF6",
            "gridcolor": "white",
            "gridwidth": 2,
            "linecolor": "white",
            "showbackground": true,
            "ticks": "",
            "zerolinecolor": "white"
           }
          },
          "shapedefaults": {
           "line": {
            "color": "#2a3f5f"
           }
          },
          "ternary": {
           "aaxis": {
            "gridcolor": "white",
            "linecolor": "white",
            "ticks": ""
           },
           "baxis": {
            "gridcolor": "white",
            "linecolor": "white",
            "ticks": ""
           },
           "bgcolor": "#E5ECF6",
           "caxis": {
            "gridcolor": "white",
            "linecolor": "white",
            "ticks": ""
           }
          },
          "title": {
           "x": 0.05
          },
          "xaxis": {
           "automargin": true,
           "gridcolor": "white",
           "linecolor": "white",
           "ticks": "",
           "title": {
            "standoff": 15
           },
           "zerolinecolor": "white",
           "zerolinewidth": 2
          },
          "yaxis": {
           "automargin": true,
           "gridcolor": "white",
           "linecolor": "white",
           "ticks": "",
           "title": {
            "standoff": 15
           },
           "zerolinecolor": "white",
           "zerolinewidth": 2
          }
         }
        },
        "xaxis": {
         "anchor": "y",
         "domain": [
          0,
          1
         ],
         "title": {
          "text": "Disaster Type"
         }
        },
        "yaxis": {
         "anchor": "x",
         "domain": [
          0,
          1
         ],
         "title": {
          "text": "count"
         }
        }
       }
      }
     },
     "metadata": {},
     "output_type": "display_data"
    }
   ],
   "source": [
    "# plot grouped barchart where each bar represents a disaster subgroup and they are grouped per distater group\n",
    "# df.groupby(['Disaster Type', 'Disaster Subtype']).size().unstack().plot(kind='bar', stacked=True)\n",
    "# df['Disaster Subgroup'].value_counts().plot(kind='bar')\n",
    "\n",
    "\n",
    "# plot disater types\n",
    "# df['Disaster Type'].value_counts().plot(kind='bar')\n",
    "\n",
    "# keep only types that could be caused by climate change\n",
    "\n",
    "new_column_name = \"causes climate change sentiment\"\n",
    "\n",
    "types_to_drop = [\"Earthquake\", \"Transport accident\", \"Miscellaneous accident\", \"Industrial accident\", \"Epidemic\", \"Volcanic activity\", \"Complex Disasters\", \"Impact\", \"Animal accident\"]\n",
    "df[new_column_name] = df[\"Disaster Type\"].apply(lambda x: False if x in types_to_drop else True)\n",
    "# types_to_keep = [x for x in list(df[\"Disaster Type\"].unique()) if x not in types_to_drop]\n",
    "# keep_dict = {x: True if x in types_to_keep else False for x in list(df[\"Disaster Type\"].unique())}\n",
    "# print(keep_dict)\n",
    "# map values of\n",
    "# color_dict = {x: 'blue' if keep_dict[x] else 'red' for x in keep_dict.keys()}\n",
    "# print(color_dict)\n",
    "# plot disater types in barplot using color dict with plotly\n",
    "colorkeep = 'rgba(0, 0, 100, 1)'\n",
    "colordelete = 'rgba(0, 0, 100, 0.5)'\n",
    "\n",
    "px.histogram(df, x=\"Disaster Type\", color=new_column_name, color_discrete_map={True: colorkeep, False: colordelete})\n",
    "# px.bar(df, x='Disaster Type', color_discrete_map=color_dict)\n",
    "\n",
    "\n",
    "# df['Disaster Type'].value_counts().plot(kind='bar', color=color_dict.values())\n",
    "# df['Disaster Type'].value_counts().plot(kind='bar', color=colors)\n",
    "\n",
    "\n",
    "# df['Disaster Type'].value_counts().plot(kind='bar', alpha=0.5)\n",
    "# df = df[~df['Disaster Type'].isin(drop_types)]\n",
    "\n",
    "\n",
    "# plot disater types\n",
    "# df['Disaster Type'].value_counts().plot(kind='bar')\n"
   ]
  },
  {
   "cell_type": "code",
   "execution_count": 8,
   "metadata": {},
   "outputs": [
    {
     "data": {
      "application/vnd.plotly.v1+json": {
       "config": {
        "plotlyServerURL": "https://plot.ly"
       },
       "data": [
        {
         "alignmentgroup": "True",
         "bingroup": "x",
         "hovertemplate": "Disaster Type=%{x}<br>count=%{y}<extra></extra>",
         "legendgroup": "",
         "marker": {
          "color": "#636efa",
          "pattern": {
           "shape": ""
          }
         },
         "name": "",
         "offsetgroup": "",
         "orientation": "v",
         "showlegend": false,
         "type": "histogram",
         "x": [
          "Storm",
          "Storm",
          "Flood",
          "Flood",
          "Flood",
          "Flood",
          "Flood",
          "Flood",
          "Flood",
          "Flood",
          "Flood",
          "Flood",
          "Flood",
          "Flood",
          "Flood",
          "Flood",
          "Flood",
          "Storm",
          "Flood",
          "Flood",
          "Storm",
          "Flood",
          "Storm",
          "Wildfire",
          "Wildfire",
          "Wildfire",
          "Wildfire",
          "Extreme temperature ",
          "Storm",
          "Storm",
          "Drought",
          "Landslide",
          "Storm",
          "Storm",
          "Flood",
          "Flood",
          "Flood",
          "Landslide",
          "Flood",
          "Flood",
          "Flood",
          "Flood",
          "Wildfire",
          "Flood",
          "Storm",
          "Wildfire",
          "Flood",
          "Flood",
          "Flood",
          "Flood",
          "Storm",
          "Flood",
          "Storm",
          "Flood",
          "Drought",
          "Flood",
          "Flood",
          "Flood",
          "Flood",
          "Storm",
          "Flood",
          "Storm",
          "Flood",
          "Storm",
          "Storm",
          "Storm",
          "Flood",
          "Storm",
          "Drought",
          "Flood",
          "Flood",
          "Flood",
          "Flood",
          "Flood",
          "Flood",
          "Landslide",
          "Flood",
          "Flood",
          "Storm",
          "Storm",
          "Flood",
          "Storm",
          "Storm",
          "Storm",
          "Storm",
          "Storm",
          "Flood",
          "Flood",
          "Landslide",
          "Flood",
          "Storm",
          "Storm",
          "Storm",
          "Storm",
          "Flood",
          "Flood",
          "Flood",
          "Flood",
          "Storm",
          "Storm",
          "Flood",
          "Flood",
          "Flood",
          "Flood",
          "Flood",
          "Flood",
          "Flood",
          "Flood",
          "Flood",
          "Flood",
          "Flood",
          "Flood",
          "Flood",
          "Glacial lake outburst",
          "Flood",
          "Flood",
          "Flood",
          "Flood",
          "Flood",
          "Flood",
          "Flood",
          "Flood",
          "Flood",
          "Flood",
          "Flood",
          "Flood",
          "Flood",
          "Flood",
          "Flood",
          "Flood",
          "Flood",
          "Flood",
          "Flood",
          "Flood",
          "Flood",
          "Flood",
          "Flood",
          "Landslide",
          "Flood",
          "Flood",
          "Flood",
          "Flood",
          "Storm",
          "Wildfire",
          "Drought",
          "Drought",
          "Landslide",
          "Storm",
          "Glacial lake outburst",
          "Storm",
          "Storm",
          "Storm",
          "Drought",
          "Storm",
          "Storm",
          "Flood",
          "Flood",
          "Flood",
          "Flood",
          "Flood",
          "Flood",
          "Flood",
          "Storm",
          "Storm",
          "Extreme temperature ",
          "Flood",
          "Flood",
          "Flood",
          "Flood",
          "Flood",
          "Flood",
          "Flood",
          "Wildfire",
          "Flood",
          "Storm",
          "Storm",
          "Flood",
          "Flood",
          "Landslide",
          "Flood",
          "Flood",
          "Flood",
          "Flood",
          "Flood",
          "Flood",
          "Flood",
          "Flood",
          "Flood",
          "Flood",
          "Storm",
          "Storm",
          "Storm",
          "Storm",
          "Flood",
          "Flood",
          "Flood",
          "Flood",
          "Flood",
          "Wildfire",
          "Landslide",
          "Flood",
          "Landslide",
          "Storm",
          "Flood",
          "Flood",
          "Storm",
          "Storm",
          "Storm",
          "Flood",
          "Flood",
          "Storm",
          "Storm",
          "Storm",
          "Flood",
          "Flood",
          "Flood",
          "Flood",
          "Flood",
          "Drought",
          "Flood",
          "Flood",
          "Flood",
          "Flood",
          "Flood",
          "Flood",
          "Flood",
          "Storm",
          "Flood",
          "Flood",
          "Flood",
          "Flood",
          "Flood",
          "Flood",
          "Flood",
          "Flood",
          "Storm",
          "Flood",
          "Flood",
          "Storm",
          "Flood",
          "Flood",
          "Flood",
          "Flood",
          "Flood",
          "Flood",
          "Flood",
          "Flood",
          "Flood",
          "Flood",
          "Storm",
          "Flood",
          "Wildfire",
          "Storm",
          "Storm",
          "Storm",
          "Storm",
          "Storm",
          "Storm",
          "Drought",
          "Drought",
          "Drought",
          "Drought",
          "Drought",
          "Storm",
          "Storm",
          "Flood",
          "Storm",
          "Flood",
          "Flood",
          "Flood",
          "Flood",
          "Flood",
          "Flood",
          "Flood",
          "Flood",
          "Flood",
          "Flood",
          "Flood",
          "Landslide",
          "Wildfire",
          "Flood",
          "Drought",
          "Flood",
          "Flood",
          "Landslide",
          "Storm",
          "Storm",
          "Flood",
          "Storm",
          "Storm",
          "Flood",
          "Flood",
          "Flood",
          "Flood",
          "Flood",
          "Drought"
         ],
         "xaxis": "x",
         "yaxis": "y"
        }
       ],
       "layout": {
        "barmode": "relative",
        "legend": {
         "tracegroupgap": 0
        },
        "margin": {
         "t": 60
        },
        "template": {
         "data": {
          "bar": [
           {
            "error_x": {
             "color": "#2a3f5f"
            },
            "error_y": {
             "color": "#2a3f5f"
            },
            "marker": {
             "line": {
              "color": "#E5ECF6",
              "width": 0.5
             },
             "pattern": {
              "fillmode": "overlay",
              "size": 10,
              "solidity": 0.2
             }
            },
            "type": "bar"
           }
          ],
          "barpolar": [
           {
            "marker": {
             "line": {
              "color": "#E5ECF6",
              "width": 0.5
             },
             "pattern": {
              "fillmode": "overlay",
              "size": 10,
              "solidity": 0.2
             }
            },
            "type": "barpolar"
           }
          ],
          "carpet": [
           {
            "aaxis": {
             "endlinecolor": "#2a3f5f",
             "gridcolor": "white",
             "linecolor": "white",
             "minorgridcolor": "white",
             "startlinecolor": "#2a3f5f"
            },
            "baxis": {
             "endlinecolor": "#2a3f5f",
             "gridcolor": "white",
             "linecolor": "white",
             "minorgridcolor": "white",
             "startlinecolor": "#2a3f5f"
            },
            "type": "carpet"
           }
          ],
          "choropleth": [
           {
            "colorbar": {
             "outlinewidth": 0,
             "ticks": ""
            },
            "type": "choropleth"
           }
          ],
          "contour": [
           {
            "colorbar": {
             "outlinewidth": 0,
             "ticks": ""
            },
            "colorscale": [
             [
              0,
              "#0d0887"
             ],
             [
              0.1111111111111111,
              "#46039f"
             ],
             [
              0.2222222222222222,
              "#7201a8"
             ],
             [
              0.3333333333333333,
              "#9c179e"
             ],
             [
              0.4444444444444444,
              "#bd3786"
             ],
             [
              0.5555555555555556,
              "#d8576b"
             ],
             [
              0.6666666666666666,
              "#ed7953"
             ],
             [
              0.7777777777777778,
              "#fb9f3a"
             ],
             [
              0.8888888888888888,
              "#fdca26"
             ],
             [
              1,
              "#f0f921"
             ]
            ],
            "type": "contour"
           }
          ],
          "contourcarpet": [
           {
            "colorbar": {
             "outlinewidth": 0,
             "ticks": ""
            },
            "type": "contourcarpet"
           }
          ],
          "heatmap": [
           {
            "colorbar": {
             "outlinewidth": 0,
             "ticks": ""
            },
            "colorscale": [
             [
              0,
              "#0d0887"
             ],
             [
              0.1111111111111111,
              "#46039f"
             ],
             [
              0.2222222222222222,
              "#7201a8"
             ],
             [
              0.3333333333333333,
              "#9c179e"
             ],
             [
              0.4444444444444444,
              "#bd3786"
             ],
             [
              0.5555555555555556,
              "#d8576b"
             ],
             [
              0.6666666666666666,
              "#ed7953"
             ],
             [
              0.7777777777777778,
              "#fb9f3a"
             ],
             [
              0.8888888888888888,
              "#fdca26"
             ],
             [
              1,
              "#f0f921"
             ]
            ],
            "type": "heatmap"
           }
          ],
          "heatmapgl": [
           {
            "colorbar": {
             "outlinewidth": 0,
             "ticks": ""
            },
            "colorscale": [
             [
              0,
              "#0d0887"
             ],
             [
              0.1111111111111111,
              "#46039f"
             ],
             [
              0.2222222222222222,
              "#7201a8"
             ],
             [
              0.3333333333333333,
              "#9c179e"
             ],
             [
              0.4444444444444444,
              "#bd3786"
             ],
             [
              0.5555555555555556,
              "#d8576b"
             ],
             [
              0.6666666666666666,
              "#ed7953"
             ],
             [
              0.7777777777777778,
              "#fb9f3a"
             ],
             [
              0.8888888888888888,
              "#fdca26"
             ],
             [
              1,
              "#f0f921"
             ]
            ],
            "type": "heatmapgl"
           }
          ],
          "histogram": [
           {
            "marker": {
             "pattern": {
              "fillmode": "overlay",
              "size": 10,
              "solidity": 0.2
             }
            },
            "type": "histogram"
           }
          ],
          "histogram2d": [
           {
            "colorbar": {
             "outlinewidth": 0,
             "ticks": ""
            },
            "colorscale": [
             [
              0,
              "#0d0887"
             ],
             [
              0.1111111111111111,
              "#46039f"
             ],
             [
              0.2222222222222222,
              "#7201a8"
             ],
             [
              0.3333333333333333,
              "#9c179e"
             ],
             [
              0.4444444444444444,
              "#bd3786"
             ],
             [
              0.5555555555555556,
              "#d8576b"
             ],
             [
              0.6666666666666666,
              "#ed7953"
             ],
             [
              0.7777777777777778,
              "#fb9f3a"
             ],
             [
              0.8888888888888888,
              "#fdca26"
             ],
             [
              1,
              "#f0f921"
             ]
            ],
            "type": "histogram2d"
           }
          ],
          "histogram2dcontour": [
           {
            "colorbar": {
             "outlinewidth": 0,
             "ticks": ""
            },
            "colorscale": [
             [
              0,
              "#0d0887"
             ],
             [
              0.1111111111111111,
              "#46039f"
             ],
             [
              0.2222222222222222,
              "#7201a8"
             ],
             [
              0.3333333333333333,
              "#9c179e"
             ],
             [
              0.4444444444444444,
              "#bd3786"
             ],
             [
              0.5555555555555556,
              "#d8576b"
             ],
             [
              0.6666666666666666,
              "#ed7953"
             ],
             [
              0.7777777777777778,
              "#fb9f3a"
             ],
             [
              0.8888888888888888,
              "#fdca26"
             ],
             [
              1,
              "#f0f921"
             ]
            ],
            "type": "histogram2dcontour"
           }
          ],
          "mesh3d": [
           {
            "colorbar": {
             "outlinewidth": 0,
             "ticks": ""
            },
            "type": "mesh3d"
           }
          ],
          "parcoords": [
           {
            "line": {
             "colorbar": {
              "outlinewidth": 0,
              "ticks": ""
             }
            },
            "type": "parcoords"
           }
          ],
          "pie": [
           {
            "automargin": true,
            "type": "pie"
           }
          ],
          "scatter": [
           {
            "fillpattern": {
             "fillmode": "overlay",
             "size": 10,
             "solidity": 0.2
            },
            "type": "scatter"
           }
          ],
          "scatter3d": [
           {
            "line": {
             "colorbar": {
              "outlinewidth": 0,
              "ticks": ""
             }
            },
            "marker": {
             "colorbar": {
              "outlinewidth": 0,
              "ticks": ""
             }
            },
            "type": "scatter3d"
           }
          ],
          "scattercarpet": [
           {
            "marker": {
             "colorbar": {
              "outlinewidth": 0,
              "ticks": ""
             }
            },
            "type": "scattercarpet"
           }
          ],
          "scattergeo": [
           {
            "marker": {
             "colorbar": {
              "outlinewidth": 0,
              "ticks": ""
             }
            },
            "type": "scattergeo"
           }
          ],
          "scattergl": [
           {
            "marker": {
             "colorbar": {
              "outlinewidth": 0,
              "ticks": ""
             }
            },
            "type": "scattergl"
           }
          ],
          "scattermapbox": [
           {
            "marker": {
             "colorbar": {
              "outlinewidth": 0,
              "ticks": ""
             }
            },
            "type": "scattermapbox"
           }
          ],
          "scatterpolar": [
           {
            "marker": {
             "colorbar": {
              "outlinewidth": 0,
              "ticks": ""
             }
            },
            "type": "scatterpolar"
           }
          ],
          "scatterpolargl": [
           {
            "marker": {
             "colorbar": {
              "outlinewidth": 0,
              "ticks": ""
             }
            },
            "type": "scatterpolargl"
           }
          ],
          "scatterternary": [
           {
            "marker": {
             "colorbar": {
              "outlinewidth": 0,
              "ticks": ""
             }
            },
            "type": "scatterternary"
           }
          ],
          "surface": [
           {
            "colorbar": {
             "outlinewidth": 0,
             "ticks": ""
            },
            "colorscale": [
             [
              0,
              "#0d0887"
             ],
             [
              0.1111111111111111,
              "#46039f"
             ],
             [
              0.2222222222222222,
              "#7201a8"
             ],
             [
              0.3333333333333333,
              "#9c179e"
             ],
             [
              0.4444444444444444,
              "#bd3786"
             ],
             [
              0.5555555555555556,
              "#d8576b"
             ],
             [
              0.6666666666666666,
              "#ed7953"
             ],
             [
              0.7777777777777778,
              "#fb9f3a"
             ],
             [
              0.8888888888888888,
              "#fdca26"
             ],
             [
              1,
              "#f0f921"
             ]
            ],
            "type": "surface"
           }
          ],
          "table": [
           {
            "cells": {
             "fill": {
              "color": "#EBF0F8"
             },
             "line": {
              "color": "white"
             }
            },
            "header": {
             "fill": {
              "color": "#C8D4E3"
             },
             "line": {
              "color": "white"
             }
            },
            "type": "table"
           }
          ]
         },
         "layout": {
          "annotationdefaults": {
           "arrowcolor": "#2a3f5f",
           "arrowhead": 0,
           "arrowwidth": 1
          },
          "autotypenumbers": "strict",
          "coloraxis": {
           "colorbar": {
            "outlinewidth": 0,
            "ticks": ""
           }
          },
          "colorscale": {
           "diverging": [
            [
             0,
             "#8e0152"
            ],
            [
             0.1,
             "#c51b7d"
            ],
            [
             0.2,
             "#de77ae"
            ],
            [
             0.3,
             "#f1b6da"
            ],
            [
             0.4,
             "#fde0ef"
            ],
            [
             0.5,
             "#f7f7f7"
            ],
            [
             0.6,
             "#e6f5d0"
            ],
            [
             0.7,
             "#b8e186"
            ],
            [
             0.8,
             "#7fbc41"
            ],
            [
             0.9,
             "#4d9221"
            ],
            [
             1,
             "#276419"
            ]
           ],
           "sequential": [
            [
             0,
             "#0d0887"
            ],
            [
             0.1111111111111111,
             "#46039f"
            ],
            [
             0.2222222222222222,
             "#7201a8"
            ],
            [
             0.3333333333333333,
             "#9c179e"
            ],
            [
             0.4444444444444444,
             "#bd3786"
            ],
            [
             0.5555555555555556,
             "#d8576b"
            ],
            [
             0.6666666666666666,
             "#ed7953"
            ],
            [
             0.7777777777777778,
             "#fb9f3a"
            ],
            [
             0.8888888888888888,
             "#fdca26"
            ],
            [
             1,
             "#f0f921"
            ]
           ],
           "sequentialminus": [
            [
             0,
             "#0d0887"
            ],
            [
             0.1111111111111111,
             "#46039f"
            ],
            [
             0.2222222222222222,
             "#7201a8"
            ],
            [
             0.3333333333333333,
             "#9c179e"
            ],
            [
             0.4444444444444444,
             "#bd3786"
            ],
            [
             0.5555555555555556,
             "#d8576b"
            ],
            [
             0.6666666666666666,
             "#ed7953"
            ],
            [
             0.7777777777777778,
             "#fb9f3a"
            ],
            [
             0.8888888888888888,
             "#fdca26"
            ],
            [
             1,
             "#f0f921"
            ]
           ]
          },
          "colorway": [
           "#636efa",
           "#EF553B",
           "#00cc96",
           "#ab63fa",
           "#FFA15A",
           "#19d3f3",
           "#FF6692",
           "#B6E880",
           "#FF97FF",
           "#FECB52"
          ],
          "font": {
           "color": "#2a3f5f"
          },
          "geo": {
           "bgcolor": "white",
           "lakecolor": "white",
           "landcolor": "#E5ECF6",
           "showlakes": true,
           "showland": true,
           "subunitcolor": "white"
          },
          "hoverlabel": {
           "align": "left"
          },
          "hovermode": "closest",
          "mapbox": {
           "style": "light"
          },
          "paper_bgcolor": "white",
          "plot_bgcolor": "#E5ECF6",
          "polar": {
           "angularaxis": {
            "gridcolor": "white",
            "linecolor": "white",
            "ticks": ""
           },
           "bgcolor": "#E5ECF6",
           "radialaxis": {
            "gridcolor": "white",
            "linecolor": "white",
            "ticks": ""
           }
          },
          "scene": {
           "xaxis": {
            "backgroundcolor": "#E5ECF6",
            "gridcolor": "white",
            "gridwidth": 2,
            "linecolor": "white",
            "showbackground": true,
            "ticks": "",
            "zerolinecolor": "white"
           },
           "yaxis": {
            "backgroundcolor": "#E5ECF6",
            "gridcolor": "white",
            "gridwidth": 2,
            "linecolor": "white",
            "showbackground": true,
            "ticks": "",
            "zerolinecolor": "white"
           },
           "zaxis": {
            "backgroundcolor": "#E5ECF6",
            "gridcolor": "white",
            "gridwidth": 2,
            "linecolor": "white",
            "showbackground": true,
            "ticks": "",
            "zerolinecolor": "white"
           }
          },
          "shapedefaults": {
           "line": {
            "color": "#2a3f5f"
           }
          },
          "ternary": {
           "aaxis": {
            "gridcolor": "white",
            "linecolor": "white",
            "ticks": ""
           },
           "baxis": {
            "gridcolor": "white",
            "linecolor": "white",
            "ticks": ""
           },
           "bgcolor": "#E5ECF6",
           "caxis": {
            "gridcolor": "white",
            "linecolor": "white",
            "ticks": ""
           }
          },
          "title": {
           "x": 0.05
          },
          "xaxis": {
           "automargin": true,
           "gridcolor": "white",
           "linecolor": "white",
           "ticks": "",
           "title": {
            "standoff": 15
           },
           "zerolinecolor": "white",
           "zerolinewidth": 2
          },
          "yaxis": {
           "automargin": true,
           "gridcolor": "white",
           "linecolor": "white",
           "ticks": "",
           "title": {
            "standoff": 15
           },
           "zerolinecolor": "white",
           "zerolinewidth": 2
          }
         }
        },
        "xaxis": {
         "anchor": "y",
         "domain": [
          0,
          1
         ],
         "title": {
          "text": "Disaster Type"
         }
        },
        "yaxis": {
         "anchor": "x",
         "domain": [
          0,
          1
         ],
         "title": {
          "text": "count"
         }
        }
       }
      }
     },
     "metadata": {},
     "output_type": "display_data"
    }
   ],
   "source": [
    "df = df[df[new_column_name] == True]\n",
    "px.histogram(df, x='Disaster Type')"
   ]
  },
  {
   "cell_type": "code",
   "execution_count": 9,
   "metadata": {},
   "outputs": [],
   "source": [
    "df[\"disaster_count\"] = 1\n",
    "# df = df.groupby([\"Country\"]).sum()\n",
    "# df = df.groupby([\"Country\", \"Year\", \"Disaster Type\"]).sum()\n",
    "# df\n",
    "# plot horizontal bartchart in plotly where each bar represents a country and the height is the number of disasters\n"
   ]
  },
  {
   "cell_type": "code",
   "execution_count": 10,
   "metadata": {},
   "outputs": [
    {
     "data": {
      "application/vnd.plotly.v1+json": {
       "config": {
        "plotlyServerURL": "https://plot.ly"
       },
       "data": [
        {
         "alignmentgroup": "True",
         "bingroup": "x",
         "histfunc": "sum",
         "hovertemplate": "Country=%{x}<br>sum of disaster_count=%{y}<extra></extra>",
         "legendgroup": "",
         "marker": {
          "color": "#636efa",
          "pattern": {
           "shape": ""
          }
         },
         "name": "",
         "offsetgroup": "",
         "orientation": "v",
         "showlegend": false,
         "type": "histogram",
         "x": [
          "Chile",
          "China",
          "Austria",
          "Bangladesh",
          "Bosnia and Herzegovina",
          "Brazil",
          "Brazil",
          "Brazil",
          "Bhutan",
          "Canada",
          "Chile",
          "China",
          "Colombia",
          "Colombia",
          "Colombia",
          "Colombia",
          "Colombia",
          "Cuba",
          "Germany",
          "Benin",
          "Switzerland",
          "Brazil",
          "China",
          "Bulgaria",
          "Canada",
          "Cyprus",
          "Algeria",
          "Canada",
          "Australia",
          "Germany",
          "Afghanistan",
          "Switzerland",
          "China",
          "Belgium",
          "Algeria",
          "Afghanistan",
          "Afghanistan",
          "Afghanistan",
          "Angola",
          "Angola",
          "Albania",
          "Argentina",
          "Argentina",
          "Australia",
          "Australia",
          "Australia",
          "Australia",
          "Australia",
          "Australia",
          "Burundi",
          "Belgium",
          "Belgium",
          "Bangladesh",
          "Bulgaria",
          "Brazil",
          "Brazil",
          "Brazil",
          "Brazil",
          "Brazil",
          "Barbados",
          "Central African Republic",
          "Canada",
          "Switzerland",
          "China",
          "China",
          "China",
          "China",
          "China",
          "China",
          "China",
          "China",
          "Colombia",
          "Colombia",
          "Colombia",
          "Colombia",
          "Colombia",
          "Colombia",
          "Costa Rica",
          "Cuba",
          "Germany",
          "Algeria",
          "Mexico",
          "Mexico",
          "Mexico",
          "Oman",
          "Mexico",
          "Nepal",
          "Pakistan",
          "India",
          "Italy",
          "Mexico",
          "France",
          "Spain",
          "Malawi",
          "Spain",
          "Egypt",
          "Iraq",
          "Sri Lanka",
          "Pakistan",
          "Pakistan",
          "Ecuador",
          "France",
          "France",
          "Georgia",
          "Guatemala",
          "Guatemala",
          "Indonesia",
          "Indonesia",
          "Indonesia",
          "Indonesia",
          "Indonesia",
          "Indonesia",
          "Indonesia",
          "India",
          "India",
          "India",
          "Japan",
          "Japan",
          "Cambodia",
          "Sri Lanka",
          "Sri Lanka",
          "Luxembourg",
          "Madagascar",
          "Malaysia",
          "Malaysia",
          "Malaysia",
          "Nepal",
          "Nepal",
          "Nepal",
          "New Zealand",
          "Panama",
          "Panama",
          "Peru",
          "Peru",
          "Peru",
          "Peru",
          "Peru",
          "India",
          "India",
          "India",
          "Nigeria",
          "Pakistan",
          "Japan",
          "Greece",
          "Iraq",
          "Kazakhstan",
          "Indonesia",
          "Indonesia",
          "India",
          "Mexico",
          "Mozambique",
          "Oman",
          "Ethiopia",
          "India",
          "Mongolia",
          "Spain",
          "France",
          "France",
          "Sri Lanka",
          "Malaysia",
          "Ecuador",
          "Ethiopia",
          "Fiji",
          "France",
          "France",
          "France",
          "France",
          "Ghana",
          "Ghana",
          "Guinea",
          "Guatemala",
          "Guyana",
          "Honduras",
          "Haiti",
          "Haiti",
          "Haiti",
          "Indonesia",
          "Indonesia",
          "Indonesia",
          "Indonesia",
          "Indonesia",
          "Indonesia",
          "Indonesia",
          "Indonesia",
          "Indonesia",
          "Indonesia",
          "Indonesia",
          "Indonesia",
          "India",
          "India",
          "India",
          "India",
          "India",
          "India",
          "India",
          "India",
          "India",
          "Iraq",
          "Italy",
          "Japan",
          "Kenya",
          "Kyrgyzstan",
          "Cambodia",
          "Cambodia",
          "Cambodia",
          "Saint Lucia",
          "Sri Lanka",
          "Lesotho",
          "Morocco",
          "Morocco",
          "Madagascar",
          "Maldives",
          "Mexico",
          "Mexico",
          "Mexico",
          "Mexico",
          "Myanmar",
          "Mongolia",
          "Mozambique",
          "Mozambique",
          "Malaysia",
          "Malaysia",
          "Malaysia",
          "Malaysia",
          "Namibia",
          "Nigeria",
          "New Zealand",
          "New Zealand",
          "New Zealand",
          "Pakistan",
          "Pakistan",
          "Peru",
          "Peru",
          "Peru",
          "Rwanda",
          "Viet Nam",
          "Uganda",
          "Sao Tome and Principe",
          "Timor-Leste",
          "Paraguay",
          "El Salvador",
          "Thailand",
          "Thailand",
          "Tajikistan",
          "Turkey",
          "Uganda",
          "Viet Nam",
          "Viet Nam",
          "Slovakia",
          "Poland",
          "Poland",
          "Turkey",
          "Tanzania, United Republic of",
          "Ukraine",
          "Viet Nam",
          "South Africa",
          "South Africa",
          "Zimbabwe",
          "Syrian Arab Republic",
          "South Africa",
          "Zambia",
          "Zimbabwe",
          "South Sudan",
          "Palau",
          "Thailand",
          "Tunisia",
          "Poland",
          "Paraguay",
          "Romania",
          "Somalia",
          "Suriname",
          "Slovenia",
          "Sweden",
          "Syrian Arab Republic",
          "Chad",
          "Thailand",
          "Thailand",
          "Thailand",
          "Tajikistan",
          "Tunisia",
          "Turkey",
          "Tuvalu",
          "Tanzania, United Republic of",
          "Uganda",
          "Uzbekistan",
          "Saint Vincent and the Grenadines",
          "Viet Nam",
          "Viet Nam",
          "Viet Nam",
          "Viet Nam",
          "Yemen",
          "Yemen",
          "South Africa",
          "Serbia",
          "South Sudan",
          "Tanzania, United Republic of"
         ],
         "xaxis": "x",
         "y": [
          1,
          1,
          1,
          1,
          1,
          1,
          1,
          1,
          1,
          1,
          1,
          1,
          1,
          1,
          1,
          1,
          1,
          1,
          1,
          1,
          1,
          1,
          1,
          1,
          1,
          1,
          1,
          1,
          1,
          1,
          1,
          1,
          1,
          1,
          1,
          1,
          1,
          1,
          1,
          1,
          1,
          1,
          1,
          1,
          1,
          1,
          1,
          1,
          1,
          1,
          1,
          1,
          1,
          1,
          1,
          1,
          1,
          1,
          1,
          1,
          1,
          1,
          1,
          1,
          1,
          1,
          1,
          1,
          1,
          1,
          1,
          1,
          1,
          1,
          1,
          1,
          1,
          1,
          1,
          1,
          1,
          1,
          1,
          1,
          1,
          1,
          1,
          1,
          1,
          1,
          1,
          1,
          1,
          1,
          1,
          1,
          1,
          1,
          1,
          1,
          1,
          1,
          1,
          1,
          1,
          1,
          1,
          1,
          1,
          1,
          1,
          1,
          1,
          1,
          1,
          1,
          1,
          1,
          1,
          1,
          1,
          1,
          1,
          1,
          1,
          1,
          1,
          1,
          1,
          1,
          1,
          1,
          1,
          1,
          1,
          1,
          1,
          1,
          1,
          1,
          1,
          1,
          1,
          1,
          1,
          1,
          1,
          1,
          1,
          1,
          1,
          1,
          1,
          1,
          1,
          1,
          1,
          1,
          1,
          1,
          1,
          1,
          1,
          1,
          1,
          1,
          1,
          1,
          1,
          1,
          1,
          1,
          1,
          1,
          1,
          1,
          1,
          1,
          1,
          1,
          1,
          1,
          1,
          1,
          1,
          1,
          1,
          1,
          1,
          1,
          1,
          1,
          1,
          1,
          1,
          1,
          1,
          1,
          1,
          1,
          1,
          1,
          1,
          1,
          1,
          1,
          1,
          1,
          1,
          1,
          1,
          1,
          1,
          1,
          1,
          1,
          1,
          1,
          1,
          1,
          1,
          1,
          1,
          1,
          1,
          1,
          1,
          1,
          1,
          1,
          1,
          1,
          1,
          1,
          1,
          1,
          1,
          1,
          1,
          1,
          1,
          1,
          1,
          1,
          1,
          1,
          1,
          1,
          1,
          1,
          1,
          1,
          1,
          1,
          1,
          1,
          1,
          1,
          1,
          1,
          1,
          1,
          1,
          1,
          1,
          1,
          1,
          1,
          1,
          1,
          1,
          1,
          1,
          1,
          1,
          1,
          1,
          1,
          1,
          1,
          1,
          1,
          1,
          1,
          1,
          1,
          1,
          1,
          1,
          1,
          1,
          1,
          1,
          1,
          1,
          1
         ],
         "yaxis": "y"
        }
       ],
       "layout": {
        "barmode": "relative",
        "legend": {
         "tracegroupgap": 0
        },
        "margin": {
         "t": 60
        },
        "template": {
         "data": {
          "bar": [
           {
            "error_x": {
             "color": "#2a3f5f"
            },
            "error_y": {
             "color": "#2a3f5f"
            },
            "marker": {
             "line": {
              "color": "#E5ECF6",
              "width": 0.5
             },
             "pattern": {
              "fillmode": "overlay",
              "size": 10,
              "solidity": 0.2
             }
            },
            "type": "bar"
           }
          ],
          "barpolar": [
           {
            "marker": {
             "line": {
              "color": "#E5ECF6",
              "width": 0.5
             },
             "pattern": {
              "fillmode": "overlay",
              "size": 10,
              "solidity": 0.2
             }
            },
            "type": "barpolar"
           }
          ],
          "carpet": [
           {
            "aaxis": {
             "endlinecolor": "#2a3f5f",
             "gridcolor": "white",
             "linecolor": "white",
             "minorgridcolor": "white",
             "startlinecolor": "#2a3f5f"
            },
            "baxis": {
             "endlinecolor": "#2a3f5f",
             "gridcolor": "white",
             "linecolor": "white",
             "minorgridcolor": "white",
             "startlinecolor": "#2a3f5f"
            },
            "type": "carpet"
           }
          ],
          "choropleth": [
           {
            "colorbar": {
             "outlinewidth": 0,
             "ticks": ""
            },
            "type": "choropleth"
           }
          ],
          "contour": [
           {
            "colorbar": {
             "outlinewidth": 0,
             "ticks": ""
            },
            "colorscale": [
             [
              0,
              "#0d0887"
             ],
             [
              0.1111111111111111,
              "#46039f"
             ],
             [
              0.2222222222222222,
              "#7201a8"
             ],
             [
              0.3333333333333333,
              "#9c179e"
             ],
             [
              0.4444444444444444,
              "#bd3786"
             ],
             [
              0.5555555555555556,
              "#d8576b"
             ],
             [
              0.6666666666666666,
              "#ed7953"
             ],
             [
              0.7777777777777778,
              "#fb9f3a"
             ],
             [
              0.8888888888888888,
              "#fdca26"
             ],
             [
              1,
              "#f0f921"
             ]
            ],
            "type": "contour"
           }
          ],
          "contourcarpet": [
           {
            "colorbar": {
             "outlinewidth": 0,
             "ticks": ""
            },
            "type": "contourcarpet"
           }
          ],
          "heatmap": [
           {
            "colorbar": {
             "outlinewidth": 0,
             "ticks": ""
            },
            "colorscale": [
             [
              0,
              "#0d0887"
             ],
             [
              0.1111111111111111,
              "#46039f"
             ],
             [
              0.2222222222222222,
              "#7201a8"
             ],
             [
              0.3333333333333333,
              "#9c179e"
             ],
             [
              0.4444444444444444,
              "#bd3786"
             ],
             [
              0.5555555555555556,
              "#d8576b"
             ],
             [
              0.6666666666666666,
              "#ed7953"
             ],
             [
              0.7777777777777778,
              "#fb9f3a"
             ],
             [
              0.8888888888888888,
              "#fdca26"
             ],
             [
              1,
              "#f0f921"
             ]
            ],
            "type": "heatmap"
           }
          ],
          "heatmapgl": [
           {
            "colorbar": {
             "outlinewidth": 0,
             "ticks": ""
            },
            "colorscale": [
             [
              0,
              "#0d0887"
             ],
             [
              0.1111111111111111,
              "#46039f"
             ],
             [
              0.2222222222222222,
              "#7201a8"
             ],
             [
              0.3333333333333333,
              "#9c179e"
             ],
             [
              0.4444444444444444,
              "#bd3786"
             ],
             [
              0.5555555555555556,
              "#d8576b"
             ],
             [
              0.6666666666666666,
              "#ed7953"
             ],
             [
              0.7777777777777778,
              "#fb9f3a"
             ],
             [
              0.8888888888888888,
              "#fdca26"
             ],
             [
              1,
              "#f0f921"
             ]
            ],
            "type": "heatmapgl"
           }
          ],
          "histogram": [
           {
            "marker": {
             "pattern": {
              "fillmode": "overlay",
              "size": 10,
              "solidity": 0.2
             }
            },
            "type": "histogram"
           }
          ],
          "histogram2d": [
           {
            "colorbar": {
             "outlinewidth": 0,
             "ticks": ""
            },
            "colorscale": [
             [
              0,
              "#0d0887"
             ],
             [
              0.1111111111111111,
              "#46039f"
             ],
             [
              0.2222222222222222,
              "#7201a8"
             ],
             [
              0.3333333333333333,
              "#9c179e"
             ],
             [
              0.4444444444444444,
              "#bd3786"
             ],
             [
              0.5555555555555556,
              "#d8576b"
             ],
             [
              0.6666666666666666,
              "#ed7953"
             ],
             [
              0.7777777777777778,
              "#fb9f3a"
             ],
             [
              0.8888888888888888,
              "#fdca26"
             ],
             [
              1,
              "#f0f921"
             ]
            ],
            "type": "histogram2d"
           }
          ],
          "histogram2dcontour": [
           {
            "colorbar": {
             "outlinewidth": 0,
             "ticks": ""
            },
            "colorscale": [
             [
              0,
              "#0d0887"
             ],
             [
              0.1111111111111111,
              "#46039f"
             ],
             [
              0.2222222222222222,
              "#7201a8"
             ],
             [
              0.3333333333333333,
              "#9c179e"
             ],
             [
              0.4444444444444444,
              "#bd3786"
             ],
             [
              0.5555555555555556,
              "#d8576b"
             ],
             [
              0.6666666666666666,
              "#ed7953"
             ],
             [
              0.7777777777777778,
              "#fb9f3a"
             ],
             [
              0.8888888888888888,
              "#fdca26"
             ],
             [
              1,
              "#f0f921"
             ]
            ],
            "type": "histogram2dcontour"
           }
          ],
          "mesh3d": [
           {
            "colorbar": {
             "outlinewidth": 0,
             "ticks": ""
            },
            "type": "mesh3d"
           }
          ],
          "parcoords": [
           {
            "line": {
             "colorbar": {
              "outlinewidth": 0,
              "ticks": ""
             }
            },
            "type": "parcoords"
           }
          ],
          "pie": [
           {
            "automargin": true,
            "type": "pie"
           }
          ],
          "scatter": [
           {
            "fillpattern": {
             "fillmode": "overlay",
             "size": 10,
             "solidity": 0.2
            },
            "type": "scatter"
           }
          ],
          "scatter3d": [
           {
            "line": {
             "colorbar": {
              "outlinewidth": 0,
              "ticks": ""
             }
            },
            "marker": {
             "colorbar": {
              "outlinewidth": 0,
              "ticks": ""
             }
            },
            "type": "scatter3d"
           }
          ],
          "scattercarpet": [
           {
            "marker": {
             "colorbar": {
              "outlinewidth": 0,
              "ticks": ""
             }
            },
            "type": "scattercarpet"
           }
          ],
          "scattergeo": [
           {
            "marker": {
             "colorbar": {
              "outlinewidth": 0,
              "ticks": ""
             }
            },
            "type": "scattergeo"
           }
          ],
          "scattergl": [
           {
            "marker": {
             "colorbar": {
              "outlinewidth": 0,
              "ticks": ""
             }
            },
            "type": "scattergl"
           }
          ],
          "scattermapbox": [
           {
            "marker": {
             "colorbar": {
              "outlinewidth": 0,
              "ticks": ""
             }
            },
            "type": "scattermapbox"
           }
          ],
          "scatterpolar": [
           {
            "marker": {
             "colorbar": {
              "outlinewidth": 0,
              "ticks": ""
             }
            },
            "type": "scatterpolar"
           }
          ],
          "scatterpolargl": [
           {
            "marker": {
             "colorbar": {
              "outlinewidth": 0,
              "ticks": ""
             }
            },
            "type": "scatterpolargl"
           }
          ],
          "scatterternary": [
           {
            "marker": {
             "colorbar": {
              "outlinewidth": 0,
              "ticks": ""
             }
            },
            "type": "scatterternary"
           }
          ],
          "surface": [
           {
            "colorbar": {
             "outlinewidth": 0,
             "ticks": ""
            },
            "colorscale": [
             [
              0,
              "#0d0887"
             ],
             [
              0.1111111111111111,
              "#46039f"
             ],
             [
              0.2222222222222222,
              "#7201a8"
             ],
             [
              0.3333333333333333,
              "#9c179e"
             ],
             [
              0.4444444444444444,
              "#bd3786"
             ],
             [
              0.5555555555555556,
              "#d8576b"
             ],
             [
              0.6666666666666666,
              "#ed7953"
             ],
             [
              0.7777777777777778,
              "#fb9f3a"
             ],
             [
              0.8888888888888888,
              "#fdca26"
             ],
             [
              1,
              "#f0f921"
             ]
            ],
            "type": "surface"
           }
          ],
          "table": [
           {
            "cells": {
             "fill": {
              "color": "#EBF0F8"
             },
             "line": {
              "color": "white"
             }
            },
            "header": {
             "fill": {
              "color": "#C8D4E3"
             },
             "line": {
              "color": "white"
             }
            },
            "type": "table"
           }
          ]
         },
         "layout": {
          "annotationdefaults": {
           "arrowcolor": "#2a3f5f",
           "arrowhead": 0,
           "arrowwidth": 1
          },
          "autotypenumbers": "strict",
          "coloraxis": {
           "colorbar": {
            "outlinewidth": 0,
            "ticks": ""
           }
          },
          "colorscale": {
           "diverging": [
            [
             0,
             "#8e0152"
            ],
            [
             0.1,
             "#c51b7d"
            ],
            [
             0.2,
             "#de77ae"
            ],
            [
             0.3,
             "#f1b6da"
            ],
            [
             0.4,
             "#fde0ef"
            ],
            [
             0.5,
             "#f7f7f7"
            ],
            [
             0.6,
             "#e6f5d0"
            ],
            [
             0.7,
             "#b8e186"
            ],
            [
             0.8,
             "#7fbc41"
            ],
            [
             0.9,
             "#4d9221"
            ],
            [
             1,
             "#276419"
            ]
           ],
           "sequential": [
            [
             0,
             "#0d0887"
            ],
            [
             0.1111111111111111,
             "#46039f"
            ],
            [
             0.2222222222222222,
             "#7201a8"
            ],
            [
             0.3333333333333333,
             "#9c179e"
            ],
            [
             0.4444444444444444,
             "#bd3786"
            ],
            [
             0.5555555555555556,
             "#d8576b"
            ],
            [
             0.6666666666666666,
             "#ed7953"
            ],
            [
             0.7777777777777778,
             "#fb9f3a"
            ],
            [
             0.8888888888888888,
             "#fdca26"
            ],
            [
             1,
             "#f0f921"
            ]
           ],
           "sequentialminus": [
            [
             0,
             "#0d0887"
            ],
            [
             0.1111111111111111,
             "#46039f"
            ],
            [
             0.2222222222222222,
             "#7201a8"
            ],
            [
             0.3333333333333333,
             "#9c179e"
            ],
            [
             0.4444444444444444,
             "#bd3786"
            ],
            [
             0.5555555555555556,
             "#d8576b"
            ],
            [
             0.6666666666666666,
             "#ed7953"
            ],
            [
             0.7777777777777778,
             "#fb9f3a"
            ],
            [
             0.8888888888888888,
             "#fdca26"
            ],
            [
             1,
             "#f0f921"
            ]
           ]
          },
          "colorway": [
           "#636efa",
           "#EF553B",
           "#00cc96",
           "#ab63fa",
           "#FFA15A",
           "#19d3f3",
           "#FF6692",
           "#B6E880",
           "#FF97FF",
           "#FECB52"
          ],
          "font": {
           "color": "#2a3f5f"
          },
          "geo": {
           "bgcolor": "white",
           "lakecolor": "white",
           "landcolor": "#E5ECF6",
           "showlakes": true,
           "showland": true,
           "subunitcolor": "white"
          },
          "hoverlabel": {
           "align": "left"
          },
          "hovermode": "closest",
          "mapbox": {
           "style": "light"
          },
          "paper_bgcolor": "white",
          "plot_bgcolor": "#E5ECF6",
          "polar": {
           "angularaxis": {
            "gridcolor": "white",
            "linecolor": "white",
            "ticks": ""
           },
           "bgcolor": "#E5ECF6",
           "radialaxis": {
            "gridcolor": "white",
            "linecolor": "white",
            "ticks": ""
           }
          },
          "scene": {
           "xaxis": {
            "backgroundcolor": "#E5ECF6",
            "gridcolor": "white",
            "gridwidth": 2,
            "linecolor": "white",
            "showbackground": true,
            "ticks": "",
            "zerolinecolor": "white"
           },
           "yaxis": {
            "backgroundcolor": "#E5ECF6",
            "gridcolor": "white",
            "gridwidth": 2,
            "linecolor": "white",
            "showbackground": true,
            "ticks": "",
            "zerolinecolor": "white"
           },
           "zaxis": {
            "backgroundcolor": "#E5ECF6",
            "gridcolor": "white",
            "gridwidth": 2,
            "linecolor": "white",
            "showbackground": true,
            "ticks": "",
            "zerolinecolor": "white"
           }
          },
          "shapedefaults": {
           "line": {
            "color": "#2a3f5f"
           }
          },
          "ternary": {
           "aaxis": {
            "gridcolor": "white",
            "linecolor": "white",
            "ticks": ""
           },
           "baxis": {
            "gridcolor": "white",
            "linecolor": "white",
            "ticks": ""
           },
           "bgcolor": "#E5ECF6",
           "caxis": {
            "gridcolor": "white",
            "linecolor": "white",
            "ticks": ""
           }
          },
          "title": {
           "x": 0.05
          },
          "xaxis": {
           "automargin": true,
           "gridcolor": "white",
           "linecolor": "white",
           "ticks": "",
           "title": {
            "standoff": 15
           },
           "zerolinecolor": "white",
           "zerolinewidth": 2
          },
          "yaxis": {
           "automargin": true,
           "gridcolor": "white",
           "linecolor": "white",
           "ticks": "",
           "title": {
            "standoff": 15
           },
           "zerolinecolor": "white",
           "zerolinewidth": 2
          }
         }
        },
        "xaxis": {
         "anchor": "y",
         "domain": [
          0,
          1
         ],
         "title": {
          "text": "Country"
         }
        },
        "yaxis": {
         "anchor": "x",
         "domain": [
          0,
          1
         ],
         "title": {
          "text": "sum of disaster_count"
         }
        }
       }
      }
     },
     "metadata": {},
     "output_type": "display_data"
    }
   ],
   "source": [
    "# df.reset_index()\n",
    "px.histogram(df, x='Country', y='disaster_count')"
   ]
  },
  {
   "cell_type": "code",
   "execution_count": null,
   "metadata": {},
   "outputs": [],
   "source": []
  },
  {
   "cell_type": "markdown",
   "metadata": {},
   "source": [
    "# Feature Engineering"
   ]
  },
  {
   "cell_type": "markdown",
   "metadata": {},
   "source": [
    "For each country, for each year, we want one feature vector containg good predictors for the content of the speech they give that year.\n",
    "  "
   ]
  },
  {
   "cell_type": "markdown",
   "metadata": {},
   "source": []
  },
  {
   "cell_type": "code",
   "execution_count": 1,
   "metadata": {},
   "outputs": [
    {
     "ename": "ModuleNotFoundError",
     "evalue": "No module named 'utils'",
     "output_type": "error",
     "traceback": [
      "\u001b[0;31m---------------------------------------------------------------------------\u001b[0m",
      "\u001b[0;31mModuleNotFoundError\u001b[0m                       Traceback (most recent call last)",
      "\u001b[1;32m/Users/julius/repos/fundamentals_project/notebooks/explore_disaster_data.ipynb Cell 16\u001b[0m line \u001b[0;36m1\n\u001b[0;32m----> <a href='vscode-notebook-cell:/Users/julius/repos/fundamentals_project/notebooks/explore_disaster_data.ipynb#X43sZmlsZQ%3D%3D?line=0'>1</a>\u001b[0m \u001b[39mfrom\u001b[39;00m \u001b[39mutils\u001b[39;00m\u001b[39m.\u001b[39;00m\u001b[39mdisaster_data_utils\u001b[39;00m \u001b[39mimport\u001b[39;00m \u001b[39m*\u001b[39m\n\u001b[1;32m      <a href='vscode-notebook-cell:/Users/julius/repos/fundamentals_project/notebooks/explore_disaster_data.ipynb#X43sZmlsZQ%3D%3D?line=2'>3</a>\u001b[0m df \u001b[39m=\u001b[39m build_dataframe()\n\u001b[1;32m      <a href='vscode-notebook-cell:/Users/julius/repos/fundamentals_project/notebooks/explore_disaster_data.ipynb#X43sZmlsZQ%3D%3D?line=3'>4</a>\u001b[0m df \u001b[39m=\u001b[39m build_clean_dataframe(df)\n",
      "\u001b[0;31mModuleNotFoundError\u001b[0m: No module named 'utils'"
     ]
    }
   ],
   "source": [
    "from utils.disaster_data_utils import *\n",
    "\n",
    "df = build_dataframe()\n",
    "df = build_clean_dataframe(df)\n",
    "\n",
    "\n",
    "def build_feature_vector(df, country, year) -> np.array:\n",
    "    row = df[(df['Country'] == country) & (df['Year'] == year)]\n",
    "    total_number_of_disasters = len(row)\n",
    "    return np.array([total_number_of_disasters])\n",
    "    "
   ]
  },
  {
   "cell_type": "code",
   "execution_count": 12,
   "metadata": {},
   "outputs": [
    {
     "data": {
      "text/plain": [
       "array([4])"
      ]
     },
     "execution_count": 12,
     "metadata": {},
     "output_type": "execute_result"
    }
   ],
   "source": [
    "build_feature_vector(df, 'Afghanistan', 2021)"
   ]
  },
  {
   "cell_type": "code",
   "execution_count": null,
   "metadata": {},
   "outputs": [],
   "source": []
  }
 ],
 "metadata": {
  "kernelspec": {
   "display_name": "fundamentals-of-data-science-2324-HhVpa_72-py3.11",
   "language": "python",
   "name": "python3"
  },
  "language_info": {
   "codemirror_mode": {
    "name": "ipython",
    "version": 3
   },
   "file_extension": ".py",
   "mimetype": "text/x-python",
   "name": "python",
   "nbconvert_exporter": "python",
   "pygments_lexer": "ipython3",
   "version": "3.11.5"
  },
  "orig_nbformat": 4
 },
 "nbformat": 4,
 "nbformat_minor": 2
}
