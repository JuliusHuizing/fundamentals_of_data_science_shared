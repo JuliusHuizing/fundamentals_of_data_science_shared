{
 "cells": [
  {
   "cell_type": "code",
   "execution_count": 1,
   "metadata": {},
   "outputs": [
    {
     "name": "stderr",
     "output_type": "stream",
     "text": [
      "/Users/julius/repos/fundamentals_project/notebooks/disaster_data/utils/disaster_data_utils.py:70: SyntaxWarning: assertion is always true, perhaps remove parentheses?\n",
      "  assert(result.shape[0] == len(country_year_pairs), \"The number of rows in the feature matrix should be equal to the number of country-year pairs.\")\n"
     ]
    }
   ],
   "source": [
    "import utils.disaster_data_utils as disaster\n",
    "import utils.speech_data_utils as speech"
   ]
  },
  {
   "cell_type": "markdown",
   "metadata": {},
   "source": [
    "# Ensure we use only year and country pairs that both datasets share, so we get exaclty the same length feature and target matrices."
   ]
  },
  {
   "cell_type": "code",
   "execution_count": 2,
   "metadata": {},
   "outputs": [
    {
     "name": "stderr",
     "output_type": "stream",
     "text": [
      "/Users/julius/repos/fundamentals_project/.venv/lib/python3.11/site-packages/openpyxl/styles/stylesheet.py:226: UserWarning: Workbook contains no default style, apply openpyxl's default\n",
      "  warn(\"Workbook contains no default style, apply openpyxl's default\")\n"
     ]
    }
   ],
   "source": [
    "# Prepare training data\n",
    "df_disaster = disaster.build_clean_dataframe()\n",
    "df_speech = speech.build_dataframe()"
   ]
  },
  {
   "cell_type": "code",
   "execution_count": 3,
   "metadata": {},
   "outputs": [],
   "source": [
    "\n",
    "speech_countries = set(df_speech[\"country\"].unique())\n",
    "speech_years = set(df_speech[\"year\"].unique())\n",
    "disaster_years = set(df_disaster[\"Year\"].unique())\n",
    "diaster_countries = set(df_disaster[\"Country\"].unique())"
   ]
  },
  {
   "cell_type": "code",
   "execution_count": 4,
   "metadata": {},
   "outputs": [],
   "source": [
    "# for the speech dataframes, create country year pairs\n",
    "speech_country_year_pairs = []\n",
    "for row in df_speech.iterrows():\n",
    "    country = row[1][\"country\"]\n",
    "    year = row[1][\"year\"]\n",
    "    speech_country_year_pairs.append((country, year))\n",
    "speech_country_year_pairs = set(speech_country_year_pairs)\n",
    "    \n",
    "# for the disaster dataframes, create country year pairs\n",
    "disaster_country_year_pairs = []\n",
    "for row in df_disaster.iterrows():\n",
    "    country = row[1][\"Country\"]\n",
    "    year = row[1][\"Year\"]\n",
    "    disaster_country_year_pairs.append((country, year))\n",
    "disaster_country_year_pairs = set(disaster_country_year_pairs)\n",
    "\n",
    "   \n",
    "   \n",
    "shared_pairs = list(speech_country_year_pairs.intersection(disaster_country_year_pairs))\n",
    "\n",
    "\n",
    "keywords = [\"Co2\", \"climate change\"]\n",
    "\n",
    "# shared_pairs = shared_pairs"
   ]
  },
  {
   "cell_type": "code",
   "execution_count": 5,
   "metadata": {},
   "outputs": [
    {
     "name": "stdout",
     "output_type": "stream",
     "text": [
      "10\n",
      "Creating feature matrix for 10 country-year pairs)\n"
     ]
    },
    {
     "name": "stderr",
     "output_type": "stream",
     "text": [
      "/Users/julius/repos/fundamentals_project/.venv/lib/python3.11/site-packages/openpyxl/styles/stylesheet.py:226: UserWarning: Workbook contains no default style, apply openpyxl's default\n",
      "  warn(\"Workbook contains no default style, apply openpyxl's default\")\n"
     ]
    },
    {
     "name": "stdout",
     "output_type": "stream",
     "text": [
      "(10, 4)\n"
     ]
    }
   ],
   "source": [
    "print(len(shared_pairs))\n",
    "X_train = disaster.create_feature_train_matrix(country_year_pairs=shared_pairs)\n",
    "print(X_train.shape)\n",
    "\n"
   ]
  },
  {
   "cell_type": "code",
   "execution_count": 6,
   "metadata": {},
   "outputs": [
    {
     "name": "stdout",
     "output_type": "stream",
     "text": [
      "Creating feature matrix for 10 country-year pairs)\n",
      "prepoccesing df\n",
      "adding keyword counts column to df by matching keywords in stemmed stemmed text\n",
      "adding year score column to df\n"
     ]
    }
   ],
   "source": [
    "T_train = speech.create_target_value_matrix(country_year_pairs=shared_pairs, keywords=keywords)\n"
   ]
  },
  {
   "cell_type": "code",
   "execution_count": 7,
   "metadata": {},
   "outputs": [
    {
     "data": {
      "text/plain": [
       "array([[1.        ],\n",
       "       [0.        ],\n",
       "       [0.        ],\n",
       "       [0.33333333],\n",
       "       [0.        ],\n",
       "       [0.        ],\n",
       "       [0.        ],\n",
       "       [1.        ],\n",
       "       [0.55555556],\n",
       "       [0.        ]])"
      ]
     },
     "execution_count": 7,
     "metadata": {},
     "output_type": "execute_result"
    }
   ],
   "source": [
    "T_train"
   ]
  },
  {
   "cell_type": "code",
   "execution_count": 8,
   "metadata": {},
   "outputs": [
    {
     "name": "stdout",
     "output_type": "stream",
     "text": [
      "(10, 1)\n",
      "(10, 4)\n"
     ]
    }
   ],
   "source": [
    "print(T_train.shape)\n",
    "print(X_train.shape)\n",
    "# # FIXME: Should be same size.\n",
    "# assert(X_train.shape[0] == T_train[0])\n",
    "\n"
   ]
  },
  {
   "cell_type": "code",
   "execution_count": 9,
   "metadata": {},
   "outputs": [
    {
     "data": {
      "text/html": [
       "<style>#sk-container-id-1 {color: black;}#sk-container-id-1 pre{padding: 0;}#sk-container-id-1 div.sk-toggleable {background-color: white;}#sk-container-id-1 label.sk-toggleable__label {cursor: pointer;display: block;width: 100%;margin-bottom: 0;padding: 0.3em;box-sizing: border-box;text-align: center;}#sk-container-id-1 label.sk-toggleable__label-arrow:before {content: \"▸\";float: left;margin-right: 0.25em;color: #696969;}#sk-container-id-1 label.sk-toggleable__label-arrow:hover:before {color: black;}#sk-container-id-1 div.sk-estimator:hover label.sk-toggleable__label-arrow:before {color: black;}#sk-container-id-1 div.sk-toggleable__content {max-height: 0;max-width: 0;overflow: hidden;text-align: left;background-color: #f0f8ff;}#sk-container-id-1 div.sk-toggleable__content pre {margin: 0.2em;color: black;border-radius: 0.25em;background-color: #f0f8ff;}#sk-container-id-1 input.sk-toggleable__control:checked~div.sk-toggleable__content {max-height: 200px;max-width: 100%;overflow: auto;}#sk-container-id-1 input.sk-toggleable__control:checked~label.sk-toggleable__label-arrow:before {content: \"▾\";}#sk-container-id-1 div.sk-estimator input.sk-toggleable__control:checked~label.sk-toggleable__label {background-color: #d4ebff;}#sk-container-id-1 div.sk-label input.sk-toggleable__control:checked~label.sk-toggleable__label {background-color: #d4ebff;}#sk-container-id-1 input.sk-hidden--visually {border: 0;clip: rect(1px 1px 1px 1px);clip: rect(1px, 1px, 1px, 1px);height: 1px;margin: -1px;overflow: hidden;padding: 0;position: absolute;width: 1px;}#sk-container-id-1 div.sk-estimator {font-family: monospace;background-color: #f0f8ff;border: 1px dotted black;border-radius: 0.25em;box-sizing: border-box;margin-bottom: 0.5em;}#sk-container-id-1 div.sk-estimator:hover {background-color: #d4ebff;}#sk-container-id-1 div.sk-parallel-item::after {content: \"\";width: 100%;border-bottom: 1px solid gray;flex-grow: 1;}#sk-container-id-1 div.sk-label:hover label.sk-toggleable__label {background-color: #d4ebff;}#sk-container-id-1 div.sk-serial::before {content: \"\";position: absolute;border-left: 1px solid gray;box-sizing: border-box;top: 0;bottom: 0;left: 50%;z-index: 0;}#sk-container-id-1 div.sk-serial {display: flex;flex-direction: column;align-items: center;background-color: white;padding-right: 0.2em;padding-left: 0.2em;position: relative;}#sk-container-id-1 div.sk-item {position: relative;z-index: 1;}#sk-container-id-1 div.sk-parallel {display: flex;align-items: stretch;justify-content: center;background-color: white;position: relative;}#sk-container-id-1 div.sk-item::before, #sk-container-id-1 div.sk-parallel-item::before {content: \"\";position: absolute;border-left: 1px solid gray;box-sizing: border-box;top: 0;bottom: 0;left: 50%;z-index: -1;}#sk-container-id-1 div.sk-parallel-item {display: flex;flex-direction: column;z-index: 1;position: relative;background-color: white;}#sk-container-id-1 div.sk-parallel-item:first-child::after {align-self: flex-end;width: 50%;}#sk-container-id-1 div.sk-parallel-item:last-child::after {align-self: flex-start;width: 50%;}#sk-container-id-1 div.sk-parallel-item:only-child::after {width: 0;}#sk-container-id-1 div.sk-dashed-wrapped {border: 1px dashed gray;margin: 0 0.4em 0.5em 0.4em;box-sizing: border-box;padding-bottom: 0.4em;background-color: white;}#sk-container-id-1 div.sk-label label {font-family: monospace;font-weight: bold;display: inline-block;line-height: 1.2em;}#sk-container-id-1 div.sk-label-container {text-align: center;}#sk-container-id-1 div.sk-container {/* jupyter's `normalize.less` sets `[hidden] { display: none; }` but bootstrap.min.css set `[hidden] { display: none !important; }` so we also need the `!important` here to be able to override the default hidden behavior on the sphinx rendered scikit-learn.org. See: https://github.com/scikit-learn/scikit-learn/issues/21755 */display: inline-block !important;position: relative;}#sk-container-id-1 div.sk-text-repr-fallback {display: none;}</style><div id=\"sk-container-id-1\" class=\"sk-top-container\"><div class=\"sk-text-repr-fallback\"><pre>LinearRegression()</pre><b>In a Jupyter environment, please rerun this cell to show the HTML representation or trust the notebook. <br />On GitHub, the HTML representation is unable to render, please try loading this page with nbviewer.org.</b></div><div class=\"sk-container\" hidden><div class=\"sk-item\"><div class=\"sk-estimator sk-toggleable\"><input class=\"sk-toggleable__control sk-hidden--visually\" id=\"sk-estimator-id-1\" type=\"checkbox\" checked><label for=\"sk-estimator-id-1\" class=\"sk-toggleable__label sk-toggleable__label-arrow\">LinearRegression</label><div class=\"sk-toggleable__content\"><pre>LinearRegression()</pre></div></div></div></div></div>"
      ],
      "text/plain": [
       "LinearRegression()"
      ]
     },
     "execution_count": 9,
     "metadata": {},
     "output_type": "execute_result"
    }
   ],
   "source": [
    "from sklearn.linear_model import LinearRegression\n",
    "model = LinearRegression(fit_intercept=True)\n",
    "# TODO: fix Nan Values\n",
    "model.fit(X_train, T_train)"
   ]
  },
  {
   "cell_type": "markdown",
   "metadata": {},
   "source": []
  },
  {
   "cell_type": "code",
   "execution_count": null,
   "metadata": {},
   "outputs": [],
   "source": []
  },
  {
   "cell_type": "code",
   "execution_count": null,
   "metadata": {},
   "outputs": [],
   "source": []
  },
  {
   "cell_type": "code",
   "execution_count": null,
   "metadata": {},
   "outputs": [],
   "source": []
  },
  {
   "cell_type": "code",
   "execution_count": null,
   "metadata": {},
   "outputs": [],
   "source": [
    "\n"
   ]
  },
  {
   "cell_type": "code",
   "execution_count": 10,
   "metadata": {},
   "outputs": [],
   "source": [
    "# map iso code to countries\n",
    "import pandas as pd\n",
    "path = \"../../data/CO2emissions.csv\"\n",
    "# create df\n",
    "df = pd.read_csv(path)# Replace 'your_file.csv' with the actual path to your CSV file\n",
    "\n",
    "# create dictionary with iso codes as keys and countries as values using Country and ISO 3166-1 alpha-3 columns\n",
    "d = dict(zip(df['ISO 3166-1 alpha-3'], df[\"Country\"]))"
   ]
  },
  {
   "cell_type": "code",
   "execution_count": null,
   "metadata": {},
   "outputs": [],
   "source": []
  },
  {
   "cell_type": "code",
   "execution_count": 11,
   "metadata": {},
   "outputs": [
    {
     "data": {
      "text/plain": [
       "{'AFG': 'Afghanistan',\n",
       " 'ALB': 'Albania',\n",
       " 'DZA': 'Algeria',\n",
       " 'AND': 'Andorra',\n",
       " 'AGO': 'Angola',\n",
       " 'AIA': 'Anguilla',\n",
       " 'ATA': 'Antarctica',\n",
       " 'ATG': 'Antigua and Barbuda',\n",
       " 'ARG': 'Argentina',\n",
       " 'ARM': 'Armenia',\n",
       " 'ABW': 'Aruba',\n",
       " 'AUS': 'Australia',\n",
       " 'AUT': 'Austria',\n",
       " 'AZE': 'Azerbaijan',\n",
       " 'BHS': 'Bahamas',\n",
       " 'BHR': 'Bahrain',\n",
       " 'BGD': 'Bangladesh',\n",
       " 'BRB': 'Barbados',\n",
       " 'BLR': 'Belarus',\n",
       " 'BEL': 'Belgium',\n",
       " 'BLZ': 'Belize',\n",
       " 'BEN': 'Benin',\n",
       " 'BMU': 'Bermuda',\n",
       " 'BTN': 'Bhutan',\n",
       " 'BES': 'Bonaire, Saint Eustatius and Saba',\n",
       " 'BIH': 'Bosnia and Herzegovina',\n",
       " 'BWA': 'Botswana',\n",
       " 'BRA': 'Brazil',\n",
       " 'VGB': 'British Virgin Islands',\n",
       " 'BRN': 'Brunei Darussalam',\n",
       " 'BGR': 'Bulgaria',\n",
       " 'BFA': 'Burkina Faso',\n",
       " 'BDI': 'Burundi',\n",
       " 'KHM': 'Cambodia',\n",
       " 'CAN': 'Canada',\n",
       " 'CPV': 'Cape Verde',\n",
       " 'CAF': 'Central African Republic',\n",
       " 'TCD': 'Chad',\n",
       " 'CHL': 'Chile',\n",
       " 'CHN': 'China',\n",
       " 'CXR': 'Christmas Island',\n",
       " 'COL': 'Colombia',\n",
       " 'COM': 'Comoros',\n",
       " 'COG': 'Congo',\n",
       " 'COK': 'Cook Islands',\n",
       " 'CRI': 'Costa Rica',\n",
       " 'CIV': \"Côte d'Ivoire\",\n",
       " 'HRV': 'Croatia',\n",
       " 'CUB': 'Cuba',\n",
       " 'CUW': 'Curaçao',\n",
       " 'CYP': 'Cyprus',\n",
       " 'CZE': 'Czech Republic',\n",
       " 'PRK': 'North Korea',\n",
       " 'COD': 'Democratic Republic of the Congo',\n",
       " 'DNK': 'Denmark',\n",
       " 'DJI': 'Djibouti',\n",
       " 'DMA': 'Dominica',\n",
       " 'DOM': 'Dominican Republic',\n",
       " 'ECU': 'Ecuador',\n",
       " 'EGY': 'Egypt',\n",
       " 'SLV': 'El Salvador',\n",
       " 'GNQ': 'Equatorial Guinea',\n",
       " 'ERI': 'Eritrea',\n",
       " 'EST': 'Estonia',\n",
       " 'ETH': 'Ethiopia',\n",
       " 'FRO': 'Faeroe Islands',\n",
       " 'FSM': 'Micronesia (Federated States of)',\n",
       " 'FJI': 'Fiji',\n",
       " 'FIN': 'Finland',\n",
       " 'PCZ': 'Panama Canal Zone',\n",
       " 'FRA': 'France',\n",
       " nan: 'Ryukyu Islands',\n",
       " 'GUF': 'French Guiana',\n",
       " 'PYF': 'French Polynesia',\n",
       " 'GAB': 'Gabon',\n",
       " 'GMB': 'Gambia',\n",
       " 'GEO': 'Georgia',\n",
       " 'DEU': 'Germany',\n",
       " 'GHA': 'Ghana',\n",
       " 'GRC': 'Greece',\n",
       " 'GRL': 'Greenland',\n",
       " 'GRD': 'Grenada',\n",
       " 'GLP': 'Guadeloupe',\n",
       " 'GTM': 'Guatemala',\n",
       " 'GIN': 'Guinea',\n",
       " 'GNB': 'Guinea-Bissau',\n",
       " 'GUY': 'Guyana',\n",
       " 'HTI': 'Haiti',\n",
       " 'HND': 'Honduras',\n",
       " 'HKG': 'Hong Kong',\n",
       " 'HUN': 'Hungary',\n",
       " 'ISL': 'Iceland',\n",
       " 'IND': 'India',\n",
       " 'IDN': 'Indonesia',\n",
       " 'IRQ': 'Iraq',\n",
       " 'IRL': 'Ireland',\n",
       " 'IRN': 'Iran',\n",
       " 'ISR': 'Israel',\n",
       " 'ITA': 'Italy',\n",
       " 'JAM': 'Jamaica',\n",
       " 'JPN': 'Japan',\n",
       " 'JOR': 'Jordan',\n",
       " 'KAZ': 'Kazakhstan',\n",
       " 'KEN': 'Kenya',\n",
       " 'KIR': 'Kiribati',\n",
       " 'KSV': 'Kosovo',\n",
       " 'KWT': 'Kuwait',\n",
       " 'KGZ': 'Kyrgyzstan',\n",
       " 'LAO': 'Laos',\n",
       " 'LVA': 'Latvia',\n",
       " 'LBN': 'Lebanon',\n",
       " 'LSO': 'Lesotho',\n",
       " 'LBR': 'Liberia',\n",
       " 'LBY': 'Libya',\n",
       " 'LIE': 'Liechtenstein',\n",
       " 'LTU': 'Lithuania',\n",
       " 'LUX': 'Luxembourg',\n",
       " 'MAC': 'Macao',\n",
       " 'MKD': 'North Macedonia',\n",
       " 'MDG': 'Madagascar',\n",
       " 'MWI': 'Malawi',\n",
       " 'MYS': 'Malaysia',\n",
       " 'MDV': 'Maldives',\n",
       " 'MLI': 'Mali',\n",
       " 'MLT': 'Malta',\n",
       " 'MHL': 'Marshall Islands',\n",
       " 'MTQ': 'Martinique',\n",
       " 'MRT': 'Mauritania',\n",
       " 'MUS': 'Mauritius',\n",
       " 'MYT': 'Mayotte',\n",
       " 'MEX': 'Mexico',\n",
       " 'MNG': 'Mongolia',\n",
       " 'MNE': 'Montenegro',\n",
       " 'MSR': 'Montserrat',\n",
       " 'MAR': 'Morocco',\n",
       " 'MOZ': 'Mozambique',\n",
       " 'MMR': 'Myanmar',\n",
       " 'NAM': 'Namibia',\n",
       " 'NRU': 'Nauru',\n",
       " 'NPL': 'Nepal',\n",
       " 'NLD': 'Netherlands',\n",
       " 'NCL': 'New Caledonia',\n",
       " 'NZL': 'New Zealand',\n",
       " 'NIC': 'Nicaragua',\n",
       " 'NER': 'Niger',\n",
       " 'NGA': 'Nigeria',\n",
       " 'NIU': 'Niue',\n",
       " 'NOR': 'Norway',\n",
       " 'PSE': 'Occupied Palestinian Territory',\n",
       " 'OMN': 'Oman',\n",
       " 'PAK': 'Pakistan',\n",
       " 'PLW': 'Palau',\n",
       " 'PAN': 'Panama',\n",
       " 'PNG': 'Papua New Guinea',\n",
       " 'PRY': 'Paraguay',\n",
       " 'PER': 'Peru',\n",
       " 'PHL': 'Philippines',\n",
       " 'BOL': 'Bolivia',\n",
       " 'POL': 'Poland',\n",
       " 'PRT': 'Portugal',\n",
       " 'PRI': 'Puerto Rico',\n",
       " 'QAT': 'Qatar',\n",
       " 'CMR': 'Cameroon',\n",
       " 'KOR': 'South Korea',\n",
       " 'MDA': 'Moldova',\n",
       " 'SSD': 'South Sudan',\n",
       " 'SDN': 'Sudan',\n",
       " 'REU': 'Réunion',\n",
       " 'ROU': 'Romania',\n",
       " 'RUS': 'Russia',\n",
       " 'RWA': 'Rwanda',\n",
       " 'SHN': 'Saint Helena',\n",
       " 'LCA': 'Saint Lucia',\n",
       " 'SXM': 'Sint Maarten (Dutch part)',\n",
       " 'WSM': 'Samoa',\n",
       " 'STP': 'Sao Tome and Principe',\n",
       " 'SAU': 'Saudi Arabia',\n",
       " 'SEN': 'Senegal',\n",
       " 'SRB': 'Serbia',\n",
       " 'SYC': 'Seychelles',\n",
       " 'SLE': 'Sierra Leone',\n",
       " 'SGP': 'Singapore',\n",
       " 'SVK': 'Slovakia',\n",
       " 'SVN': 'Slovenia',\n",
       " 'SLB': 'Solomon Islands',\n",
       " 'SOM': 'Somalia',\n",
       " 'ZAF': 'South Africa',\n",
       " 'ESP': 'Spain',\n",
       " 'LKA': 'Sri Lanka',\n",
       " 'KNA': 'St. Kitts-Nevis-Anguilla',\n",
       " 'SPM': 'Saint Pierre and Miquelon',\n",
       " 'VCT': 'Saint Vincent and the Grenadines',\n",
       " 'SUR': 'Suriname',\n",
       " 'SWZ': 'Swaziland',\n",
       " 'SWE': 'Sweden',\n",
       " 'CHE': 'Switzerland',\n",
       " 'SYR': 'Syria',\n",
       " 'TWN': 'Taiwan',\n",
       " 'TJK': 'Tajikistan',\n",
       " 'THA': 'Thailand',\n",
       " 'TLS': 'Timor-Leste',\n",
       " 'TGO': 'Togo',\n",
       " 'TON': 'Tonga',\n",
       " 'TTO': 'Trinidad and Tobago',\n",
       " 'TUN': 'Tunisia',\n",
       " 'TUR': 'Turkey',\n",
       " 'TKM': 'Turkmenistan',\n",
       " 'TCA': 'Turks and Caicos Islands',\n",
       " 'TUV': 'Tuvalu',\n",
       " 'UGA': 'Uganda',\n",
       " 'UKR': 'Ukraine',\n",
       " 'ARE': 'United Arab Emirates',\n",
       " 'GBR': 'United Kingdom',\n",
       " 'TZA': 'Tanzania',\n",
       " 'USA': 'USA',\n",
       " 'URY': 'Uruguay',\n",
       " 'UZB': 'Uzbekistan',\n",
       " 'VUT': 'Vanuatu',\n",
       " 'VEN': 'Venezuela',\n",
       " 'VNM': 'Viet Nam',\n",
       " 'WLF': 'Wallis and Futuna Islands',\n",
       " 'YEM': 'Yemen',\n",
       " 'ZMB': 'Zambia',\n",
       " 'ZWE': 'Zimbabwe',\n",
       " 'XIT': 'International Transport',\n",
       " 'WLD': 'Global'}"
      ]
     },
     "execution_count": 11,
     "metadata": {},
     "output_type": "execute_result"
    }
   ],
   "source": [
    "d"
   ]
  },
  {
   "cell_type": "code",
   "execution_count": null,
   "metadata": {},
   "outputs": [],
   "source": []
  }
 ],
 "metadata": {
  "kernelspec": {
   "display_name": ".venv",
   "language": "python",
   "name": "python3"
  },
  "language_info": {
   "codemirror_mode": {
    "name": "ipython",
    "version": 3
   },
   "file_extension": ".py",
   "mimetype": "text/x-python",
   "name": "python",
   "nbconvert_exporter": "python",
   "pygments_lexer": "ipython3",
   "version": "3.11.5"
  },
  "orig_nbformat": 4
 },
 "nbformat": 4,
 "nbformat_minor": 2
}
