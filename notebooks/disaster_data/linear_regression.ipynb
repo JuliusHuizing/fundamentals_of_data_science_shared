{
 "cells": [
  {
   "cell_type": "code",
   "execution_count": 1,
   "metadata": {},
   "outputs": [],
   "source": [
    "import utils.disaster_data_utils as disaster\n",
    "import utils.speech_data_utils as speech"
   ]
  },
  {
   "cell_type": "markdown",
   "metadata": {},
   "source": [
    "# Ensure we use only year and country pairs that both datasets share, so we get exaclty the same length feature and target matrices."
   ]
  },
  {
   "cell_type": "code",
   "execution_count": 2,
   "metadata": {},
   "outputs": [
    {
     "name": "stderr",
     "output_type": "stream",
     "text": [
      "/Users/julius/repos/fundamentals_project/.venv/lib/python3.11/site-packages/openpyxl/styles/stylesheet.py:226: UserWarning: Workbook contains no default style, apply openpyxl's default\n",
      "  warn(\"Workbook contains no default style, apply openpyxl's default\")\n"
     ]
    }
   ],
   "source": [
    "# Prepare training data\n",
    "df_disaster = disaster.build_clean_dataframe()\n",
    "df_speech = speech.build_dataframe()"
   ]
  },
  {
   "cell_type": "code",
   "execution_count": 3,
   "metadata": {},
   "outputs": [],
   "source": [
    "\n",
    "speech_countries = set(df_speech[\"country\"].unique())\n",
    "speech_years = set(df_speech[\"year\"].unique())\n",
    "disaster_years = set(df_disaster[\"Year\"].unique())\n",
    "diaster_countries = set(df_disaster[\"Country\"].unique())"
   ]
  },
  {
   "cell_type": "code",
   "execution_count": 4,
   "metadata": {},
   "outputs": [],
   "source": [
    "# for the speech dataframes, create country year pairs\n",
    "speech_country_year_pairs = []\n",
    "for row in df_speech.iterrows():\n",
    "    country = row[1][\"country\"]\n",
    "    year = row[1][\"year\"]\n",
    "    speech_country_year_pairs.append((country, year))\n",
    "speech_country_year_pairs = set(speech_country_year_pairs)\n",
    "    \n",
    "# for the disaster dataframes, create country year pairs\n",
    "disaster_country_year_pairs = []\n",
    "for row in df_disaster.iterrows():\n",
    "    country = row[1][\"Country\"]\n",
    "    year = row[1][\"Year\"]\n",
    "    disaster_country_year_pairs.append((country, year))\n",
    "disaster_country_year_pairs = set(disaster_country_year_pairs)\n",
    "\n",
    "   \n",
    "   \n",
    "shared_pairs = list(speech_country_year_pairs.intersection(disaster_country_year_pairs))\n",
    "shared_pairs = [pair for pair in shared_pairs if pair[1] >= 1988 and pair[1] <= 2022]\n",
    "\n",
    "\n",
    "# keywords = [\"Co2\", \"climate change\"]\n",
    "keywords = speech.keywords\n",
    "\n",
    "# shared_pairs = shared_pairs"
   ]
  },
  {
   "cell_type": "code",
   "execution_count": 5,
   "metadata": {},
   "outputs": [
    {
     "name": "stdout",
     "output_type": "stream",
     "text": [
      "2056\n",
      "Creating feature matrix for 2056 country-year pairs)\n"
     ]
    },
    {
     "name": "stderr",
     "output_type": "stream",
     "text": [
      "/Users/julius/repos/fundamentals_project/.venv/lib/python3.11/site-packages/openpyxl/styles/stylesheet.py:226: UserWarning: Workbook contains no default style, apply openpyxl's default\n",
      "  warn(\"Workbook contains no default style, apply openpyxl's default\")\n"
     ]
    },
    {
     "name": "stdout",
     "output_type": "stream",
     "text": [
      "(2056, 4)\n"
     ]
    }
   ],
   "source": [
    "print(len(shared_pairs))\n",
    "X_train = disaster.create_feature_train_matrix(country_year_pairs=shared_pairs)\n",
    "print(X_train.shape)\n",
    "\n"
   ]
  },
  {
   "cell_type": "code",
   "execution_count": 6,
   "metadata": {},
   "outputs": [
    {
     "name": "stdout",
     "output_type": "stream",
     "text": [
      "Creating feature matrix for 2056 country-year pairs)\n",
      "prepoccesing df\n",
      "adding keyword counts column to df by matching keywords in stemmed stemmed text\n",
      "adding year score column to df\n"
     ]
    }
   ],
   "source": [
    "T_train = speech.create_target_value_matrix(country_year_pairs=shared_pairs, keywords=keywords)\n"
   ]
  },
  {
   "cell_type": "code",
   "execution_count": 7,
   "metadata": {},
   "outputs": [
    {
     "data": {
      "text/plain": [
       "array([[0.40425532],\n",
       "       [0.36      ],\n",
       "       [0.35064935],\n",
       "       ...,\n",
       "       [0.23469388],\n",
       "       [0.26890756],\n",
       "       [0.62068966]])"
      ]
     },
     "execution_count": 7,
     "metadata": {},
     "output_type": "execute_result"
    }
   ],
   "source": [
    "T_train"
   ]
  },
  {
   "cell_type": "code",
   "execution_count": 8,
   "metadata": {},
   "outputs": [
    {
     "name": "stdout",
     "output_type": "stream",
     "text": [
      "(2056, 1)\n",
      "(2056, 4)\n"
     ]
    }
   ],
   "source": [
    "print(T_train.shape)\n",
    "print(X_train.shape)\n",
    "# # FIXME: Should be same size.\n",
    "# assert(X_train.shape[0] == T_train[0])\n",
    "\n"
   ]
  },
  {
   "cell_type": "code",
   "execution_count": 9,
   "metadata": {},
   "outputs": [],
   "source": [
    "# from sklearn.linear_model import LinearRegression\n",
    "# # TODO: fix Nan Values\n",
    "# model.fit(X_train, T_train)"
   ]
  },
  {
   "cell_type": "markdown",
   "metadata": {},
   "source": [
    "# Cross Fold Validation"
   ]
  },
  {
   "cell_type": "code",
   "execution_count": 13,
   "metadata": {},
   "outputs": [],
   "source": [
    "from sklearn.model_selection import GridSearchCV\n",
    "from sklearn.linear_model import LinearRegression\n",
    "from sklearn.model_selection import train_test_split\n",
    "from sklearn.preprocessing import PolynomialFeatures\n",
    "from sklearn.pipeline import make_pipeline\n",
    "from sklearn.metrics import mean_squared_error, r2_score\n",
    "model = LinearRegression(fit_intercept=True)\n",
    "\n",
    "\n",
    "import numpy as np\n",
    "\n",
    "def kfold_cross_validation(X, Y):\n",
    "    X_train, X_test, Y_train, Y_test = train_test_split(X, Y, test_size=0.3, random_state=0)\n",
    "    \n",
    "    # Create grid of parameters to test through cross-validation\n",
    "    param_grid = {'polynomialfeatures__degree': np.arange(5),\n",
    "                'linearregression__fit_intercept': [True, False]}\n",
    "\n",
    "    model = make_pipeline(PolynomialFeatures(), LinearRegression())\n",
    "    grid = GridSearchCV(model, param_grid, cv=10)\n",
    "    grid.fit(X_train, Y_train);\n",
    "\n",
    "    # Let us know check the results with the best estimator after Grid Search\n",
    "    print(\"Best hyperparameters found:\")\n",
    "    print(grid.best_params_)\n",
    "    y_pred = grid.best_estimator_.predict(X_test)\n",
    "    print(\"\")\n",
    "\n",
    "    # Compute test error and variance score\n",
    "    print(\"Model accuracy:\")\n",
    "    print(\"Mean squared error: %.2f\" % mean_squared_error(Y_test, y_pred))\n",
    "    print('Variance score: %.2f' % r2_score(Y_test, y_pred))\n",
    "    print(\"\")\n",
    "\n",
    "    #Plot with test data and fitted model\n",
    "    # print(\"Plot:\")\n",
    "    # x.plot.scatter(x=\"Freedom to make life choices\", y=\"Perceptions of corruption\",c='black')\n",
    "    # xfit = np.linspace(min(X_test), max(X_test), 1000)\n",
    "    # yfit = grid.best_estimator_.predict(xfit[:, np.newaxis])\n",
    "    # plt.plot(xfit, yfit, c='red');"
   ]
  },
  {
   "cell_type": "code",
   "execution_count": 14,
   "metadata": {},
   "outputs": [
    {
     "name": "stdout",
     "output_type": "stream",
     "text": [
      "Best hyperparameters found:\n",
      "{'linearregression__fit_intercept': False, 'polynomialfeatures__degree': 0}\n",
      "\n",
      "Model accuracy:\n",
      "Mean squared error: 0.03\n",
      "Variance score: -0.00\n",
      "\n"
     ]
    }
   ],
   "source": [
    "kfold_cross_validation(X_train, T_train)"
   ]
  },
  {
   "cell_type": "code",
   "execution_count": null,
   "metadata": {},
   "outputs": [],
   "source": []
  },
  {
   "cell_type": "code",
   "execution_count": null,
   "metadata": {},
   "outputs": [],
   "source": [
    "\n"
   ]
  },
  {
   "cell_type": "code",
   "execution_count": null,
   "metadata": {},
   "outputs": [],
   "source": [
    "# map iso code to countries\n",
    "import pandas as pd\n",
    "path = \"../../data/CO2emissions.csv\"\n",
    "# create df\n",
    "df = pd.read_csv(path)# Replace 'your_file.csv' with the actual path to your CSV file\n",
    "\n",
    "# create dictionary with iso codes as keys and countries as values using Country and ISO 3166-1 alpha-3 columns\n",
    "d = dict(zip(df['ISO 3166-1 alpha-3'], df[\"Country\"]))"
   ]
  },
  {
   "cell_type": "code",
   "execution_count": null,
   "metadata": {},
   "outputs": [],
   "source": []
  },
  {
   "cell_type": "code",
   "execution_count": null,
   "metadata": {},
   "outputs": [],
   "source": [
    "d"
   ]
  },
  {
   "cell_type": "code",
   "execution_count": null,
   "metadata": {},
   "outputs": [],
   "source": []
  }
 ],
 "metadata": {
  "kernelspec": {
   "display_name": ".venv",
   "language": "python",
   "name": "python3"
  },
  "language_info": {
   "codemirror_mode": {
    "name": "ipython",
    "version": 3
   },
   "file_extension": ".py",
   "mimetype": "text/x-python",
   "name": "python",
   "nbconvert_exporter": "python",
   "pygments_lexer": "ipython3",
   "version": "3.11.5"
  },
  "orig_nbformat": 4
 },
 "nbformat": 4,
 "nbformat_minor": 2
}
