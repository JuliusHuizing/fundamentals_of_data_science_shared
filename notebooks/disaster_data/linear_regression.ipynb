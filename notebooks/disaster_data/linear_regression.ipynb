{
 "cells": [
  {
   "cell_type": "code",
   "execution_count": 1,
   "metadata": {},
   "outputs": [],
   "source": [
    "import utils.disaster_data_utils as disaster\n",
    "import utils.speech_data_utils as speech"
   ]
  },
  {
   "cell_type": "markdown",
   "metadata": {},
   "source": [
    "# Ensure we use only year and country pairs that both datasets share, so we get exaclty the same length feature and target matrices."
   ]
  },
  {
   "cell_type": "code",
   "execution_count": 2,
   "metadata": {},
   "outputs": [
    {
     "name": "stderr",
     "output_type": "stream",
     "text": [
      "/Users/julius/repos/fundamentals_project/.venv/lib/python3.11/site-packages/openpyxl/styles/stylesheet.py:226: UserWarning: Workbook contains no default style, apply openpyxl's default\n",
      "  warn(\"Workbook contains no default style, apply openpyxl's default\")\n"
     ]
    }
   ],
   "source": [
    "# Prepare training data\n",
    "df_disaster = disaster.build_dataframe()\n",
    "df_speech = speech.build_dataframe()"
   ]
  },
  {
   "cell_type": "code",
   "execution_count": 3,
   "metadata": {},
   "outputs": [],
   "source": [
    "\n",
    "speech_countries = set(df_speech[\"country\"].unique())\n",
    "speech_years = set(df_speech[\"year\"].unique())\n",
    "disaster_years = set(df_disaster[\"Year\"].unique())\n",
    "diaster_countries = set(df_disaster[\"Country\"].unique())"
   ]
  },
  {
   "cell_type": "code",
   "execution_count": 4,
   "metadata": {},
   "outputs": [],
   "source": [
    "# for the speech dataframes, create country year pairs\n",
    "speech_country_year_pairs = []\n",
    "for row in df_speech.iterrows():\n",
    "    country = row[1][\"country\"]\n",
    "    year = row[1][\"year\"]\n",
    "    speech_country_year_pairs.append((country, year))\n",
    "speech_country_year_pairs = set(speech_country_year_pairs)\n",
    "    \n",
    "# for the disaster dataframes, create country year pairs\n",
    "disaster_country_year_pairs = []\n",
    "for row in df_disaster.iterrows():\n",
    "    country = row[1][\"Country\"]\n",
    "    year = row[1][\"Year\"]\n",
    "    disaster_country_year_pairs.append((country, year))\n",
    "disaster_country_year_pairs = set(disaster_country_year_pairs)\n",
    "\n",
    "   \n",
    "shared_pairs = speech_country_year_pairs.intersection(disaster_country_year_pairs)\n",
    "keywords = [\"Co2\", \"climate change\"]"
   ]
  },
  {
   "cell_type": "code",
   "execution_count": 5,
   "metadata": {},
   "outputs": [
    {
     "name": "stdout",
     "output_type": "stream",
     "text": [
      "Creating feature matrix for 3359 country-year pairs)\n"
     ]
    },
    {
     "name": "stderr",
     "output_type": "stream",
     "text": [
      "/Users/julius/repos/fundamentals_project/.venv/lib/python3.11/site-packages/openpyxl/styles/stylesheet.py:226: UserWarning: Workbook contains no default style, apply openpyxl's default\n",
      "  warn(\"Workbook contains no default style, apply openpyxl's default\")\n"
     ]
    }
   ],
   "source": [
    "X_train = disaster.create_feature_train_matrix(country_year_pairs=shared_pairs)\n"
   ]
  },
  {
   "cell_type": "code",
   "execution_count": 6,
   "metadata": {},
   "outputs": [
    {
     "name": "stdout",
     "output_type": "stream",
     "text": [
      "prepoccesing df\n"
     ]
    }
   ],
   "source": [
    "T_train = speech.create_target_value_matrix(country_year_pairs=shared_pairs, keywords=keywords)\n"
   ]
  },
  {
   "cell_type": "code",
   "execution_count": null,
   "metadata": {},
   "outputs": [],
   "source": [
    "print(T_train.shape)\n",
    "print(X_train.shape)\n",
    "# FIXME: Should be same size.\n",
    "assert(X_train.shape[0] == T_train[0])\n",
    "\n"
   ]
  },
  {
   "cell_type": "code",
   "execution_count": null,
   "metadata": {},
   "outputs": [],
   "source": [
    "T_train.shape"
   ]
  },
  {
   "cell_type": "markdown",
   "metadata": {},
   "source": []
  },
  {
   "cell_type": "code",
   "execution_count": null,
   "metadata": {},
   "outputs": [],
   "source": [
    "X_train = disaster.create_feature_train_matrix(countries=shared_countries, years=years)\n"
   ]
  },
  {
   "cell_type": "code",
   "execution_count": null,
   "metadata": {},
   "outputs": [],
   "source": [
    "X_train.shape"
   ]
  },
  {
   "cell_type": "code",
   "execution_count": null,
   "metadata": {},
   "outputs": [],
   "source": []
  },
  {
   "cell_type": "code",
   "execution_count": null,
   "metadata": {},
   "outputs": [],
   "source": [
    "from sklearn.linear_model import LinearRegression\n",
    "\n",
    "model = LinearRegression(fit_intercept=True) \n",
    "X_train = X_train\n",
    "# TODO: create proper y targets based on speech data.\n",
    "# let's first try to overfit to verify we have implemented everything correctly\n",
    "## create a y vector with a one if there are more than 10 disasters, 0 otherwise\n",
    "Y_train = np.array([1 if x > 10 else 0 for x in X_train[:, 0]])\n",
    "# Y_train = np.random.rand(X_train.shape[0]).reshape(-1, 1)\n",
    "# TODO: fix Nan Values\n",
    "model.fit(X_train, Y_train)\n"
   ]
  },
  {
   "cell_type": "code",
   "execution_count": null,
   "metadata": {},
   "outputs": [],
   "source": [
    "# map iso code to countries\n",
    "import pandas as pd\n",
    "path = \"../../data/CO2emissions.csv\"\n",
    "# create df\n",
    "df = pd.read_csv(path)# Replace 'your_file.csv' with the actual path to your CSV file\n",
    "\n",
    "# create dictionary with iso codes as keys and countries as values using Country and ISO 3166-1 alpha-3 columns\n",
    "d = dict(zip(df['ISO 3166-1 alpha-3'], df[\"Country\"]))"
   ]
  },
  {
   "cell_type": "code",
   "execution_count": null,
   "metadata": {},
   "outputs": [],
   "source": []
  },
  {
   "cell_type": "code",
   "execution_count": null,
   "metadata": {},
   "outputs": [],
   "source": [
    "d"
   ]
  },
  {
   "cell_type": "code",
   "execution_count": null,
   "metadata": {},
   "outputs": [],
   "source": []
  }
 ],
 "metadata": {
  "kernelspec": {
   "display_name": ".venv",
   "language": "python",
   "name": "python3"
  },
  "language_info": {
   "codemirror_mode": {
    "name": "ipython",
    "version": 3
   },
   "file_extension": ".py",
   "mimetype": "text/x-python",
   "name": "python",
   "nbconvert_exporter": "python",
   "pygments_lexer": "ipython3",
   "version": "3.11.5"
  },
  "orig_nbformat": 4
 },
 "nbformat": 4,
 "nbformat_minor": 2
}
