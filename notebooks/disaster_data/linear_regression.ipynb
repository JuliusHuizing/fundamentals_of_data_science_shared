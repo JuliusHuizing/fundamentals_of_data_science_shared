{
 "cells": [
  {
   "cell_type": "code",
   "execution_count": 1,
   "metadata": {},
   "outputs": [],
   "source": [
    "import utils.disaster_data_utils as disaster\n",
    "import utils.speech_data_utils as speech"
   ]
  },
  {
   "cell_type": "markdown",
   "metadata": {},
   "source": [
    "# Ensure we use only year and country pairs that both datasets share, so we get exaclty the same length feature and target matrices."
   ]
  },
  {
   "cell_type": "code",
   "execution_count": 2,
   "metadata": {},
   "outputs": [
    {
     "name": "stderr",
     "output_type": "stream",
     "text": [
      "C:\\Users\\wim_p\\AppData\\Local\\Packages\\PythonSoftwareFoundation.Python.3.10_qbz5n2kfra8p0\\LocalCache\\local-packages\\Python310\\site-packages\\openpyxl\\styles\\stylesheet.py:226: UserWarning: Workbook contains no default style, apply openpyxl's default\n",
      "  warn(\"Workbook contains no default style, apply openpyxl's default\")\n"
     ]
    }
   ],
   "source": [
    "# Prepare training data\n",
    "df_disaster = disaster.build_clean_dataframe()\n",
    "df_speech = speech.build_dataframe()"
   ]
  },
  {
   "cell_type": "code",
   "execution_count": 3,
   "metadata": {},
   "outputs": [],
   "source": [
    "\n",
    "speech_countries = set(df_speech[\"country\"].unique())\n",
    "speech_years = set(df_speech[\"year\"].unique())\n",
    "disaster_years = set(df_disaster[\"Year\"].unique())\n",
    "diaster_countries = set(df_disaster[\"Country\"].unique())"
   ]
  },
  {
   "cell_type": "code",
   "execution_count": 4,
   "metadata": {},
   "outputs": [],
   "source": [
    "# for the speech dataframes, create country year pairs\n",
    "speech_country_year_pairs = []\n",
    "for row in df_speech.iterrows():\n",
    "    country = row[1][\"country\"]\n",
    "    year = row[1][\"year\"]\n",
    "    speech_country_year_pairs.append((country, year))\n",
    "speech_country_year_pairs = set(speech_country_year_pairs)\n",
    "    \n",
    "# for the disaster dataframes, create country year pairs\n",
    "disaster_country_year_pairs = []\n",
    "for row in df_disaster.iterrows():\n",
    "    country = row[1][\"Country\"]\n",
    "    year = row[1][\"Year\"]\n",
    "    disaster_country_year_pairs.append((country, year))\n",
    "disaster_country_year_pairs = set(disaster_country_year_pairs)\n",
    "\n",
    "   \n",
    "   \n",
    "shared_pairs = list(speech_country_year_pairs.intersection(disaster_country_year_pairs))\n",
    "shared_pairs = [pair for pair in shared_pairs if pair[1] >= 1988 and pair[1] <= 2022]\n",
    "\n",
    "\n",
    "# keywords = [\"Co2\", \"climate change\"]\n",
    "keywords = speech.keywords\n",
    "\n",
    "# shared_pairs = shared_pairs"
   ]
  },
  {
   "cell_type": "code",
   "execution_count": 5,
   "metadata": {},
   "outputs": [
    {
     "name": "stdout",
     "output_type": "stream",
     "text": [
      "2056\n",
      "Creating feature matrix for 2056 country-year pairs)\n"
     ]
    },
    {
     "name": "stderr",
     "output_type": "stream",
     "text": [
      "C:\\Users\\wim_p\\AppData\\Local\\Packages\\PythonSoftwareFoundation.Python.3.10_qbz5n2kfra8p0\\LocalCache\\local-packages\\Python310\\site-packages\\openpyxl\\styles\\stylesheet.py:226: UserWarning: Workbook contains no default style, apply openpyxl's default\n",
      "  warn(\"Workbook contains no default style, apply openpyxl's default\")\n"
     ]
    },
    {
     "name": "stdout",
     "output_type": "stream",
     "text": [
      "(2056, 4)\n"
     ]
    }
   ],
   "source": [
    "print(len(shared_pairs))\n",
    "X_train = disaster.create_feature_train_matrix(country_year_pairs=shared_pairs)\n",
    "print(X_train.shape)\n",
    "\n"
   ]
  },
  {
   "cell_type": "code",
   "execution_count": 6,
   "metadata": {},
   "outputs": [
    {
     "name": "stdout",
     "output_type": "stream",
     "text": [
      "Creating feature matrix for 2056 country-year pairs)\n",
      "prepoccesing df\n",
      "adding keyword counts column to df by matching keywords in stemmed stemmed text\n",
      "adding year score column to df\n"
     ]
    }
   ],
   "source": [
    "T_train = speech.create_target_value_matrix(country_year_pairs=shared_pairs, keywords=keywords)\n"
   ]
  },
  {
   "cell_type": "code",
   "execution_count": 7,
   "metadata": {},
   "outputs": [
    {
     "data": {
      "text/plain": [
       "array([[0.88888889],\n",
       "       [0.07228916],\n",
       "       [0.62608696],\n",
       "       ...,\n",
       "       [0.3908046 ],\n",
       "       [0.3559322 ],\n",
       "       [0.10091743]])"
      ]
     },
     "execution_count": 7,
     "metadata": {},
     "output_type": "execute_result"
    }
   ],
   "source": [
    "T_train"
   ]
  },
  {
   "cell_type": "code",
   "execution_count": 8,
   "metadata": {},
   "outputs": [
    {
     "name": "stdout",
     "output_type": "stream",
     "text": [
      "(2056, 1)\n",
      "(2056, 4)\n"
     ]
    }
   ],
   "source": [
    "print(T_train.shape)\n",
    "print(X_train.shape)\n",
    "# # FIXME: Should be same size.\n",
    "# assert(X_train.shape[0] == T_train[0])\n",
    "\n"
   ]
  },
  {
   "cell_type": "code",
   "execution_count": 9,
   "metadata": {},
   "outputs": [],
   "source": [
    "# from sklearn.linear_model import LinearRegression\n",
    "# # TODO: fix Nan Values\n",
    "# model.fit(X_train, T_train)"
   ]
  },
  {
   "cell_type": "markdown",
   "metadata": {},
   "source": [
    "# Cross Fold Validation"
   ]
  },
  {
   "cell_type": "code",
   "execution_count": 144,
   "metadata": {},
   "outputs": [],
   "source": [
    "from sklearn.model_selection import GridSearchCV\n",
    "from sklearn.linear_model import LinearRegression\n",
    "from sklearn.model_selection import train_test_split\n",
    "from sklearn.preprocessing import PolynomialFeatures\n",
    "from sklearn.pipeline import make_pipeline, Pipeline\n",
    "from sklearn.metrics import mean_squared_error, r2_score, explained_variance_score\n",
    "model = LinearRegression(fit_intercept=True)\n",
    "\n",
    "\n",
    "import numpy as np\n",
    "\n",
    "def kfold_cross_validation(X, Y):\n",
    "    X_train, X_test, Y_train, Y_test = train_test_split(X, Y, test_size=0.3)\n",
    "\n",
    "    # Create grid of parameters to test through cross-validation\n",
    "    param_grid = { \n",
    "                  'polynomialfeatures__degree': np.arange(1,3),\n",
    "                 'linearregression__fit_intercept': [True, False],\n",
    "                 'polynomialfeatures__include_bias':[True, False], \n",
    "                 'linearregression__positive':[True, False]\n",
    "                 }\n",
    "\n",
    "\n",
    "    \n",
    "    model = make_pipeline(PolynomialFeatures(), LinearRegression())\n",
    "    \n",
    "    \n",
    "\n",
    "    grid = GridSearchCV(model, param_grid, cv=100)\n",
    "    grid.fit(X_train, Y_train)\n",
    "    print(model.get_params().keys())\n",
    "    # Let us know check the results with the best estimator after Grid Search\n",
    "    print(\"Best hyperparameters found:\")\n",
    "    print(grid.best_params_)\n",
    "    y_pred = grid.best_estimator_.predict(X_test)\n",
    "    print(\"\")\n",
    "\n",
    "    # Compute test error and variance score\n",
    "    print(\"Model accuracy:\")\n",
    "    print(\"Mean squared error: %.5f\" % mean_squared_error(Y_test, y_pred))\n",
    "    print('r2 score: %.5f' % r2_score(Y_test, y_pred))\n",
    "    \n",
    "    print(\"\")\n",
    "\n",
    "    #Plot with test data and fitted model\n",
    "    # print(\"Plot:\")\n",
    "    # x.plot.scatter(x=\"Freedom to make life choices\", y=\"Perceptions of corruption\",c='black')\n",
    "    # xfit = np.linspace(min(X_test), max(X_test), 1000)\n",
    "    # yfit = grid.best_estimator_.predict(xfit[:, np.newaxis])\n",
    "    # plt.plot(xfit, yfit, c='red');\n",
    "    return grid"
   ]
  },
  {
   "cell_type": "code",
   "execution_count": 145,
   "metadata": {},
   "outputs": [
    {
     "name": "stdout",
     "output_type": "stream",
     "text": [
      "dict_keys(['memory', 'steps', 'verbose', 'polynomialfeatures', 'linearregression', 'polynomialfeatures__degree', 'polynomialfeatures__include_bias', 'polynomialfeatures__interaction_only', 'polynomialfeatures__order', 'linearregression__copy_X', 'linearregression__fit_intercept', 'linearregression__n_jobs', 'linearregression__normalize', 'linearregression__positive'])\n",
      "Best hyperparameters found:\n",
      "{'linearregression__fit_intercept': True, 'linearregression__positive': True, 'polynomialfeatures__degree': 1, 'polynomialfeatures__include_bias': True}\n",
      "\n",
      "Model accuracy:\n",
      "Mean squared error: 0.03783\n",
      "r2 score: -0.00429\n",
      "\n"
     ]
    }
   ],
   "source": [
    "grid = kfold_cross_validation(X_train, T_train)"
   ]
  },
  {
   "cell_type": "code",
   "execution_count": 24,
   "metadata": {},
   "outputs": [
    {
     "data": {
      "text/plain": [
       "{'mean_fit_time': array([0.00108573, 0.00200522, 0.00335608, 0.01082702, 0.03637023]),\n",
       " 'std_fit_time': array([0.00229527, 0.00117453, 0.00443402, 0.00709385, 0.00699289]),\n",
       " 'mean_score_time': array([0.00010166, 0.00043402, 0.00075557, 0.00156291, 0.00156271]),\n",
       " 'std_score_time': array([0.00030499, 0.00045111, 0.00195619, 0.00468872, 0.00468814]),\n",
       " 'param_polynomialfeatures__degree': masked_array(data=[1, 2, 3, 4, 5],\n",
       "              mask=[False, False, False, False, False],\n",
       "        fill_value='?',\n",
       "             dtype=object),\n",
       " 'params': [{'polynomialfeatures__degree': 1},\n",
       "  {'polynomialfeatures__degree': 2},\n",
       "  {'polynomialfeatures__degree': 3},\n",
       "  {'polynomialfeatures__degree': 4},\n",
       "  {'polynomialfeatures__degree': 5}],\n",
       " 'split0_test_score': array([-1.55716897e-02, -6.36067536e-02, -2.32420718e+02, -7.52388136e+05,\n",
       "        -3.11791514e+08]),\n",
       " 'split1_test_score': array([ 3.01481598e-04, -8.73733549e-04, -1.66531750e-01, -3.20040367e+01,\n",
       "        -2.41494941e+02]),\n",
       " 'split2_test_score': array([-0.01085477, -0.01503546, -0.12665745, -0.69287795, -7.33723577]),\n",
       " 'split3_test_score': array([ 0.0008567 , -0.01056002, -0.0720719 , -0.06644695, -0.64739779]),\n",
       " 'split4_test_score': array([-3.32563275e-04,  4.57053990e-03, -2.90376675e-02, -5.48827767e+00,\n",
       "        -2.03568622e+03]),\n",
       " 'split5_test_score': array([-1.42377400e-02, -4.08827903e-02, -2.44487136e+01, -1.86812647e+02,\n",
       "        -3.76685288e+03]),\n",
       " 'split6_test_score': array([-3.10999609e-01, -1.95537934e+01, -3.30655295e+06, -1.97332537e+11,\n",
       "        -2.49286793e+16]),\n",
       " 'split7_test_score': array([ 1.03586887e-02, -5.26727813e-03, -1.17321767e-02, -8.24116674e+00,\n",
       "        -7.65250328e+01]),\n",
       " 'split8_test_score': array([-1.06720415e-02, -4.80959822e-02, -8.64190391e+00, -5.87691734e+04,\n",
       "        -2.74154416e+07]),\n",
       " 'split9_test_score': array([ 3.10617779e-03,  7.87336633e-04, -8.21870870e-01, -2.13875293e+01,\n",
       "        -3.20943728e+03]),\n",
       " 'mean_test_score': array([-3.48045368e-02, -1.97327575e+00, -3.30681969e+05, -1.97333348e+10,\n",
       "        -2.49286796e+15]),\n",
       " 'std_test_score': array([9.24131995e-02, 5.86021400e+00, 9.91956996e+05, 5.91997340e+10,\n",
       "        7.47860377e+15]),\n",
       " 'rank_test_score': array([1, 2, 3, 4, 5])}"
      ]
     },
     "execution_count": 24,
     "metadata": {},
     "output_type": "execute_result"
    }
   ],
   "source": [
    "grid.cv_results_\n"
   ]
  },
  {
   "cell_type": "code",
   "execution_count": 129,
   "metadata": {},
   "outputs": [
    {
     "name": "stdout",
     "output_type": "stream",
     "text": [
      "[[  2.          58.          29.          47.        ]\n",
      " [  2.          86.          43.          69.        ]\n",
      " [  1.          10.          10.          10.        ]\n",
      " ...\n",
      " [  1.           7.           7.           7.        ]\n",
      " [  2.           4.           2.           3.        ]\n",
      " [  3.         103.          34.33333333  90.        ]]\n"
     ]
    }
   ],
   "source": [
    "\n",
    "print(X_train)"
   ]
  },
  {
   "cell_type": "code",
   "execution_count": 13,
   "metadata": {},
   "outputs": [],
   "source": [
    "# map iso code to countries\n",
    "import pandas as pd\n",
    "path = \"../../data/CO2emissions.csv\"\n",
    "# create df\n",
    "df = pd.read_csv(path)# Replace 'your_file.csv' with the actual path to your CSV file\n",
    "\n",
    "# create dictionary with iso codes as keys and countries as values using Country and ISO 3166-1 alpha-3 columns\n",
    "d = dict(zip(df['ISO 3166-1 alpha-3'], df[\"Country\"]))"
   ]
  },
  {
   "cell_type": "code",
   "execution_count": null,
   "metadata": {},
   "outputs": [],
   "source": []
  },
  {
   "cell_type": "code",
   "execution_count": 14,
   "metadata": {},
   "outputs": [
    {
     "data": {
      "text/plain": [
       "{'AFG': 'Afghanistan',\n",
       " 'ALB': 'Albania',\n",
       " 'DZA': 'Algeria',\n",
       " 'AND': 'Andorra',\n",
       " 'AGO': 'Angola',\n",
       " 'AIA': 'Anguilla',\n",
       " 'ATA': 'Antarctica',\n",
       " 'ATG': 'Antigua and Barbuda',\n",
       " 'ARG': 'Argentina',\n",
       " 'ARM': 'Armenia',\n",
       " 'ABW': 'Aruba',\n",
       " 'AUS': 'Australia',\n",
       " 'AUT': 'Austria',\n",
       " 'AZE': 'Azerbaijan',\n",
       " 'BHS': 'Bahamas',\n",
       " 'BHR': 'Bahrain',\n",
       " 'BGD': 'Bangladesh',\n",
       " 'BRB': 'Barbados',\n",
       " 'BLR': 'Belarus',\n",
       " 'BEL': 'Belgium',\n",
       " 'BLZ': 'Belize',\n",
       " 'BEN': 'Benin',\n",
       " 'BMU': 'Bermuda',\n",
       " 'BTN': 'Bhutan',\n",
       " 'BES': 'Bonaire, Saint Eustatius and Saba',\n",
       " 'BIH': 'Bosnia and Herzegovina',\n",
       " 'BWA': 'Botswana',\n",
       " 'BRA': 'Brazil',\n",
       " 'VGB': 'British Virgin Islands',\n",
       " 'BRN': 'Brunei Darussalam',\n",
       " 'BGR': 'Bulgaria',\n",
       " 'BFA': 'Burkina Faso',\n",
       " 'BDI': 'Burundi',\n",
       " 'KHM': 'Cambodia',\n",
       " 'CAN': 'Canada',\n",
       " 'CPV': 'Cape Verde',\n",
       " 'CAF': 'Central African Republic',\n",
       " 'TCD': 'Chad',\n",
       " 'CHL': 'Chile',\n",
       " 'CHN': 'China',\n",
       " 'CXR': 'Christmas Island',\n",
       " 'COL': 'Colombia',\n",
       " 'COM': 'Comoros',\n",
       " 'COG': 'Congo',\n",
       " 'COK': 'Cook Islands',\n",
       " 'CRI': 'Costa Rica',\n",
       " 'CIV': \"Côte d'Ivoire\",\n",
       " 'HRV': 'Croatia',\n",
       " 'CUB': 'Cuba',\n",
       " 'CUW': 'Curaçao',\n",
       " 'CYP': 'Cyprus',\n",
       " 'CZE': 'Czech Republic',\n",
       " 'PRK': 'North Korea',\n",
       " 'COD': 'Democratic Republic of the Congo',\n",
       " 'DNK': 'Denmark',\n",
       " 'DJI': 'Djibouti',\n",
       " 'DMA': 'Dominica',\n",
       " 'DOM': 'Dominican Republic',\n",
       " 'ECU': 'Ecuador',\n",
       " 'EGY': 'Egypt',\n",
       " 'SLV': 'El Salvador',\n",
       " 'GNQ': 'Equatorial Guinea',\n",
       " 'ERI': 'Eritrea',\n",
       " 'EST': 'Estonia',\n",
       " 'ETH': 'Ethiopia',\n",
       " 'FRO': 'Faeroe Islands',\n",
       " 'FSM': 'Micronesia (Federated States of)',\n",
       " 'FJI': 'Fiji',\n",
       " 'FIN': 'Finland',\n",
       " 'PCZ': 'Panama Canal Zone',\n",
       " 'FRA': 'France',\n",
       " nan: 'Ryukyu Islands',\n",
       " 'GUF': 'French Guiana',\n",
       " 'PYF': 'French Polynesia',\n",
       " 'GAB': 'Gabon',\n",
       " 'GMB': 'Gambia',\n",
       " 'GEO': 'Georgia',\n",
       " 'DEU': 'Germany',\n",
       " 'GHA': 'Ghana',\n",
       " 'GRC': 'Greece',\n",
       " 'GRL': 'Greenland',\n",
       " 'GRD': 'Grenada',\n",
       " 'GLP': 'Guadeloupe',\n",
       " 'GTM': 'Guatemala',\n",
       " 'GIN': 'Guinea',\n",
       " 'GNB': 'Guinea-Bissau',\n",
       " 'GUY': 'Guyana',\n",
       " 'HTI': 'Haiti',\n",
       " 'HND': 'Honduras',\n",
       " 'HKG': 'Hong Kong',\n",
       " 'HUN': 'Hungary',\n",
       " 'ISL': 'Iceland',\n",
       " 'IND': 'India',\n",
       " 'IDN': 'Indonesia',\n",
       " 'IRQ': 'Iraq',\n",
       " 'IRL': 'Ireland',\n",
       " 'IRN': 'Iran',\n",
       " 'ISR': 'Israel',\n",
       " 'ITA': 'Italy',\n",
       " 'JAM': 'Jamaica',\n",
       " 'JPN': 'Japan',\n",
       " 'JOR': 'Jordan',\n",
       " 'KAZ': 'Kazakhstan',\n",
       " 'KEN': 'Kenya',\n",
       " 'KIR': 'Kiribati',\n",
       " 'KSV': 'Kosovo',\n",
       " 'KWT': 'Kuwait',\n",
       " 'KGZ': 'Kyrgyzstan',\n",
       " 'LAO': 'Laos',\n",
       " 'LVA': 'Latvia',\n",
       " 'LBN': 'Lebanon',\n",
       " 'LSO': 'Lesotho',\n",
       " 'LBR': 'Liberia',\n",
       " 'LBY': 'Libya',\n",
       " 'LIE': 'Liechtenstein',\n",
       " 'LTU': 'Lithuania',\n",
       " 'LUX': 'Luxembourg',\n",
       " 'MAC': 'Macao',\n",
       " 'MKD': 'North Macedonia',\n",
       " 'MDG': 'Madagascar',\n",
       " 'MWI': 'Malawi',\n",
       " 'MYS': 'Malaysia',\n",
       " 'MDV': 'Maldives',\n",
       " 'MLI': 'Mali',\n",
       " 'MLT': 'Malta',\n",
       " 'MHL': 'Marshall Islands',\n",
       " 'MTQ': 'Martinique',\n",
       " 'MRT': 'Mauritania',\n",
       " 'MUS': 'Mauritius',\n",
       " 'MYT': 'Mayotte',\n",
       " 'MEX': 'Mexico',\n",
       " 'MNG': 'Mongolia',\n",
       " 'MNE': 'Montenegro',\n",
       " 'MSR': 'Montserrat',\n",
       " 'MAR': 'Morocco',\n",
       " 'MOZ': 'Mozambique',\n",
       " 'MMR': 'Myanmar',\n",
       " 'NAM': 'Namibia',\n",
       " 'NRU': 'Nauru',\n",
       " 'NPL': 'Nepal',\n",
       " 'NLD': 'Netherlands',\n",
       " 'NCL': 'New Caledonia',\n",
       " 'NZL': 'New Zealand',\n",
       " 'NIC': 'Nicaragua',\n",
       " 'NER': 'Niger',\n",
       " 'NGA': 'Nigeria',\n",
       " 'NIU': 'Niue',\n",
       " 'NOR': 'Norway',\n",
       " 'PSE': 'Occupied Palestinian Territory',\n",
       " 'OMN': 'Oman',\n",
       " 'PAK': 'Pakistan',\n",
       " 'PLW': 'Palau',\n",
       " 'PAN': 'Panama',\n",
       " 'PNG': 'Papua New Guinea',\n",
       " 'PRY': 'Paraguay',\n",
       " 'PER': 'Peru',\n",
       " 'PHL': 'Philippines',\n",
       " 'BOL': 'Bolivia',\n",
       " 'POL': 'Poland',\n",
       " 'PRT': 'Portugal',\n",
       " 'PRI': 'Puerto Rico',\n",
       " 'QAT': 'Qatar',\n",
       " 'CMR': 'Cameroon',\n",
       " 'KOR': 'South Korea',\n",
       " 'MDA': 'Moldova',\n",
       " 'SSD': 'South Sudan',\n",
       " 'SDN': 'Sudan',\n",
       " 'REU': 'Réunion',\n",
       " 'ROU': 'Romania',\n",
       " 'RUS': 'Russia',\n",
       " 'RWA': 'Rwanda',\n",
       " 'SHN': 'Saint Helena',\n",
       " 'LCA': 'Saint Lucia',\n",
       " 'SXM': 'Sint Maarten (Dutch part)',\n",
       " 'WSM': 'Samoa',\n",
       " 'STP': 'Sao Tome and Principe',\n",
       " 'SAU': 'Saudi Arabia',\n",
       " 'SEN': 'Senegal',\n",
       " 'SRB': 'Serbia',\n",
       " 'SYC': 'Seychelles',\n",
       " 'SLE': 'Sierra Leone',\n",
       " 'SGP': 'Singapore',\n",
       " 'SVK': 'Slovakia',\n",
       " 'SVN': 'Slovenia',\n",
       " 'SLB': 'Solomon Islands',\n",
       " 'SOM': 'Somalia',\n",
       " 'ZAF': 'South Africa',\n",
       " 'ESP': 'Spain',\n",
       " 'LKA': 'Sri Lanka',\n",
       " 'KNA': 'St. Kitts-Nevis-Anguilla',\n",
       " 'SPM': 'Saint Pierre and Miquelon',\n",
       " 'VCT': 'Saint Vincent and the Grenadines',\n",
       " 'SUR': 'Suriname',\n",
       " 'SWZ': 'Swaziland',\n",
       " 'SWE': 'Sweden',\n",
       " 'CHE': 'Switzerland',\n",
       " 'SYR': 'Syria',\n",
       " 'TWN': 'Taiwan',\n",
       " 'TJK': 'Tajikistan',\n",
       " 'THA': 'Thailand',\n",
       " 'TLS': 'Timor-Leste',\n",
       " 'TGO': 'Togo',\n",
       " 'TON': 'Tonga',\n",
       " 'TTO': 'Trinidad and Tobago',\n",
       " 'TUN': 'Tunisia',\n",
       " 'TUR': 'Turkey',\n",
       " 'TKM': 'Turkmenistan',\n",
       " 'TCA': 'Turks and Caicos Islands',\n",
       " 'TUV': 'Tuvalu',\n",
       " 'UGA': 'Uganda',\n",
       " 'UKR': 'Ukraine',\n",
       " 'ARE': 'United Arab Emirates',\n",
       " 'GBR': 'United Kingdom',\n",
       " 'TZA': 'Tanzania',\n",
       " 'USA': 'USA',\n",
       " 'URY': 'Uruguay',\n",
       " 'UZB': 'Uzbekistan',\n",
       " 'VUT': 'Vanuatu',\n",
       " 'VEN': 'Venezuela',\n",
       " 'VNM': 'Viet Nam',\n",
       " 'WLF': 'Wallis and Futuna Islands',\n",
       " 'YEM': 'Yemen',\n",
       " 'ZMB': 'Zambia',\n",
       " 'ZWE': 'Zimbabwe',\n",
       " 'XIT': 'International Transport',\n",
       " 'WLD': 'Global'}"
      ]
     },
     "execution_count": 14,
     "metadata": {},
     "output_type": "execute_result"
    }
   ],
   "source": [
    "d"
   ]
  },
  {
   "cell_type": "code",
   "execution_count": null,
   "metadata": {},
   "outputs": [],
   "source": []
  }
 ],
 "metadata": {
  "kernelspec": {
   "display_name": ".venv",
   "language": "python",
   "name": "python3"
  },
  "language_info": {
   "codemirror_mode": {
    "name": "ipython",
    "version": 3
   },
   "file_extension": ".py",
   "mimetype": "text/x-python",
   "name": "python",
   "nbconvert_exporter": "python",
   "pygments_lexer": "ipython3",
   "version": "3.10.11"
  },
  "orig_nbformat": 4
 },
 "nbformat": 4,
 "nbformat_minor": 2
}
