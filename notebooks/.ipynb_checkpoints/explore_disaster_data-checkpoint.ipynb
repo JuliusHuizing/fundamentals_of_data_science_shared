{
 "cells": [
  {
   "cell_type": "code",
   "execution_count": 1,
   "metadata": {},
   "outputs": [],
   "source": [
    "import pandas as pd\n",
    "import matplotlib.pyplot as plt\n",
    "import plotly.express as px"
   ]
  },
  {
   "cell_type": "code",
   "execution_count": 2,
   "metadata": {},
   "outputs": [],
   "source": [
    "emissions_path = '../../data/CO2emissions.csv'\n",
    "speeches_path = '../../data/Speakers_by_session.csv'\n",
    "distaters_path = '../../data/disasters.xlsx'"
   ]
  },
  {
   "cell_type": "code",
   "execution_count": 3,
   "metadata": {},
   "outputs": [
    {
     "name": "stderr",
     "output_type": "stream",
     "text": [
      "/Users/julius/repos/fundamentals_project/.venv/lib/python3.11/site-packages/openpyxl/styles/stylesheet.py:226: UserWarning: Workbook contains no default style, apply openpyxl's default\n",
      "  warn(\"Workbook contains no default style, apply openpyxl's default\")\n"
     ]
    }
   ],
   "source": [
    "df_emissions = pd.read_csv(emissions_path)\n",
    "df_speeches = pd.read_csv(speeches_path, sep=';')\n",
    "# First six rows contain metadata like when the xls was created, so we skip them to read a clean dataframe.\n",
    "df_disasters = pd.read_excel(distaters_path, skiprows=6)\n"
   ]
  },
  {
   "cell_type": "code",
   "execution_count": 4,
   "metadata": {},
   "outputs": [
    {
     "data": {
      "text/html": [
       "<div>\n",
       "<style scoped>\n",
       "    .dataframe tbody tr th:only-of-type {\n",
       "        vertical-align: middle;\n",
       "    }\n",
       "\n",
       "    .dataframe tbody tr th {\n",
       "        vertical-align: top;\n",
       "    }\n",
       "\n",
       "    .dataframe thead th {\n",
       "        text-align: right;\n",
       "    }\n",
       "</style>\n",
       "<table border=\"1\" class=\"dataframe\">\n",
       "  <thead>\n",
       "    <tr style=\"text-align: right;\">\n",
       "      <th></th>\n",
       "      <th>Year</th>\n",
       "      <th>Session</th>\n",
       "      <th>ISO Code</th>\n",
       "      <th>Country</th>\n",
       "      <th>Name of Person Speaking</th>\n",
       "      <th>Post</th>\n",
       "      <th>Unnamed: 6</th>\n",
       "    </tr>\n",
       "  </thead>\n",
       "  <tbody>\n",
       "    <tr>\n",
       "      <th>0</th>\n",
       "      <td>2022</td>\n",
       "      <td>77</td>\n",
       "      <td>BRA</td>\n",
       "      <td>Brazil</td>\n",
       "      <td>Jair Bolsonaro</td>\n",
       "      <td>President</td>\n",
       "      <td>NaN</td>\n",
       "    </tr>\n",
       "    <tr>\n",
       "      <th>1</th>\n",
       "      <td>2022</td>\n",
       "      <td>77</td>\n",
       "      <td>SEN</td>\n",
       "      <td>Senegal</td>\n",
       "      <td>Macky Sail</td>\n",
       "      <td>President</td>\n",
       "      <td>NaN</td>\n",
       "    </tr>\n",
       "    <tr>\n",
       "      <th>2</th>\n",
       "      <td>2022</td>\n",
       "      <td>77</td>\n",
       "      <td>CHL</td>\n",
       "      <td>Chile</td>\n",
       "      <td>Gabriel Boric Font</td>\n",
       "      <td>President</td>\n",
       "      <td>NaN</td>\n",
       "    </tr>\n",
       "    <tr>\n",
       "      <th>3</th>\n",
       "      <td>2022</td>\n",
       "      <td>77</td>\n",
       "      <td>JOR</td>\n",
       "      <td>Jordan</td>\n",
       "      <td>Abdullah II ibn Al Hussein</td>\n",
       "      <td>King</td>\n",
       "      <td>NaN</td>\n",
       "    </tr>\n",
       "    <tr>\n",
       "      <th>4</th>\n",
       "      <td>2022</td>\n",
       "      <td>77</td>\n",
       "      <td>COL</td>\n",
       "      <td>Colombia</td>\n",
       "      <td>Gustavo Petro Urrego</td>\n",
       "      <td>President</td>\n",
       "      <td>NaN</td>\n",
       "    </tr>\n",
       "  </tbody>\n",
       "</table>\n",
       "</div>"
      ],
      "text/plain": [
       "   Year  Session ISO Code   Country     Name of Person Speaking        Post  \\\n",
       "0  2022       77      BRA   Brazil               Jair Bolsonaro  President    \n",
       "1  2022       77      SEN   Senegal                  Macky Sail  President    \n",
       "2  2022       77      CHL     Chile          Gabriel Boric Font  President    \n",
       "3  2022       77      JOR    Jordan  Abdullah II ibn Al Hussein        King   \n",
       "4  2022       77      COL  Colombia        Gustavo Petro Urrego  President    \n",
       "\n",
       "  Unnamed: 6  \n",
       "0        NaN  \n",
       "1        NaN  \n",
       "2        NaN  \n",
       "3        NaN  \n",
       "4        NaN  "
      ]
     },
     "execution_count": 4,
     "metadata": {},
     "output_type": "execute_result"
    }
   ],
   "source": [
    "df_emissions.head()\n",
    "df_speeches.head()\n"
   ]
  },
  {
   "cell_type": "code",
   "execution_count": 5,
   "metadata": {},
   "outputs": [
    {
     "name": "stdout",
     "output_type": "stream",
     "text": [
      "{'peru', 'kingdom of bahrain', 'germany ', 'viet nam ', 'djibouti', 'khmer republic ', 'monaco ', 'republic of ghana', 'colombia', 'republic of korea', 'ceylon', 'european union', 'moroco', 'cabo verde', 'malta ', 'maldives', 'zambia', 'kuwait', 'swiss confederation', 'saudi arabia', 'costa rica', 'federal republic of nigeria', 'the republic of the congo', 'venezuela, bolivarian republic of', 'egypt ', 'niger ', 'republic of trinidad and tobago', 'ukrssr', 'republic of the sudan', 'finland', 'republic of benin', 'lesotho ', 'albania', 'western samoa', 'mauritius ', 'ecuador ', 'macedonia, the former yugoslav republic of', 'pakistan', 'the republic of south africa', 'union of myanmar', 'socialist republic of viet nam', 'kazakhstan ', 'algeria ', 'republic of the philippines', 'libyan arab republic', 'czechoslovak socialist republic', 'guyana ', 'republic of el salvador', 'ivory coast ', 'finland ', 'salvador', 'bangladesh ', 'republic of slovenia', 'chad', 'vietnam', 'seychelles', 'republic of ecuador', 'uzbekistan ', 'burundi', 'new zealnand', 'grand duchy of luxembourg', 'republic of albania', 'united kingdom of great britain and nothern ireland', 'republic of tanzania', 'chile ', 'new zealand ', 'united kingdom ', 'upper volta ', 'comoros ', 'german democratic republic', 'european union ', 'saint kitts and nevis ', 'eritrea', 'congo, brazzaville', 'bahamas', 'honduras', 'french republic', 'republic of south sudan', 'ukraine ssr', 'afganistan', 'palestine liberation organization ', 'belize', 'barbados ', 'brunei darussalam', 'byelorussian soviet socialist repulic', 'ukrainian soviet socialist republic', 'tuvalu ', 'iran ', 'spain ', 'china', \"people's republic of korea\", 'kiribati', 'poland ', 'republic of iceland', 'switzerland ', 'republic of sierra leone', 'north korea', 'yugoslavia ', 'congo, the democratic republic of the/zaire', 'russia', 'norway', 'iran', 'taoiseach of ireland', 'ethiopia', 'republic of the congo', 'slovak republic', 'kampuchea', 'italy', 'eastern republic of uruguay', 'bahamas ', 'tonga', 'moldova', \"laos people's democratic republic\", 'romania', 'republic of moldova', 'turkmenistan ', 'bosnia and herzegovina ', 'republic of turkey', 'drc', 'federation of malaya', 'united arab emirates', 'cuba ', \"people's democratic republic of yemen\", 'republic of namibia', 'qatar', 'united states ', 'congo (brazzaville', 'angola', 'republic of honduras', 'kingdom of saudi arabia', 'suriname', 'san marino', 'republic of equatorial guinea', 'denmark', 'upper volta', 'panama', 'democratic republic of timor-leste', 'republic of turkmenistan', 'mali ', 'principality of andorra', 'sultanate of oman', 'mali', 'republic of the gambia', 'republic of bulgaria', 'estonia ', 'byelorussian soviet socialist republic', 'albania ', 'netherlands ', \"lao people's democratic republic \", 'united kindom', 'namibia', 'people’s democratic republic of algeria', 'democratic people’s republic of korea', 'khmer republic', 'malaysia ', 'serbia', 'yugoslavia', 'leage of arab states ', 'botswana ', 'srilanka', 'mauritania', 'dominican republic ', 'malawi', 'micronesia ', 'uae', 'republic of yemen', 'sao tome', 'hungary', 'republic of iraq', 'north macedonia ', 'croatia', 'laos', 'republic of rwanda', 'singapore', 'republic of senegal', 'ivory coast', 'australia ', 'federal democratic republic of ethiopia', 'republic of mauritius', 'kingdom of bhutan', 'macedonia', 'el salvador', 'central africa', 'liechtenstein', \"republic of cote d'ivoire\", 'kenya', 'sudan', 'malta', 'monaco', 'so tome and principe', 'austria', 'kenya ', 'cameroon ', 'japan ', 'republic of austria', \"côte d'ivoire\", 'belgium ', 'marshall islands', 'venezuela ', 'republic of congo', 'bosnia and herzegovia', 'the republic of niger', 'united republic of tanzania', 'armenia ', 'democratic republic of congo ', 'georgia', 'armenia', 'uruguay ', 'republic of armenia', 'cambodia ', 'morocco', 'republic of naura', 'fiji', 'bhutan', 'timor-leste', 'islamic republic of pakistan', 'democratic republic of yemen ', 'republic of poland', 'somalia', 'lybian arab jamahiriya', 'belssr', 'bolivia, plurinational state of', 'ceylon (sri lanka)', 'new zealand', \"mongolian people's republic\", 'republic of vanuatu', 'yemen', 'democratic republic of congo', 'car', 'singapor', 'congo, the democratic republic of the', 'democratic republic of the congo ', 'st kitts and nevis', 'papua new guinea', 'libya ', 'republic of estonia', 'republic of paraguay', 'republic of madagascar', 'republic of côte d’ivoire', 'state of israel', 'republic of indonesia', 'estonia', 'netherland', 'belize ', 'gabon ', 'holy see ', 'republic of tajikistan', 'saint lucia ', 'honduras ', 'israel', 'commonwealth of australia', 'venezuela', 'syrian arab republic', 'norway ', 'marshall islands ', 'thailand ', 'greece ', 'republic of peru', 'democratic yemen', 'cape verde', 'haiti ', 'republic of cabo verde', 'republic of guatemala', 'lithuania ', 'iraq', 'the federative republic of brazil', 'china ', 'tonga ', \"democratic people's republic of korea\", 'sierra leone', 'palestine, state of', 'russian federation', 'united arab  republic', 'vatican', 'lao ', 'vanuatu', 'south africa', 'upper volta/burkina faso', 'republic of liberia', 'yemen ', 'azerbaijan', 'equatorial guinea', 'nauru ', 'republic of maldives', 'turkey', 'luxembourg ', 'liberia', 'the united states of america', 'co-operative republic of guyana', 'brunei ', 'mexico', 'portugal', 'ukranian soviet socialist republic', 'somalia ', 'andorra', 'republic of singapore', 'commonwealth of the bahamas', 'australia', 'republic of malawi', 'gabonese republic', 'latvia', 'yemen arab republic', 'lebanon ', 'congo ', 'egypt', 'trinidad and tobado', 'trinidad and tobago', 'ghana', 'korea, republic of ', 'sierra leone ', 'lithuania', 'bolivia ', 'islamic republic of afghanistan', 'fdr (germany)', 'republic of seychelles', 'south korea', \"korea, democratic people's republic of\", 'independent state of samoa', 'central african empire/car', 'comoras', 'phillippines ', 'belarus', 'angola ', 'poland', 'congo, brazzavile', ' zaire', 'republic of russia', 'republic of latvia', 'nigeria', 'kyrgyzstan', 'holy see', 'montenegro', 'western sahara', 'republic of india', \"cote d'ivoire\", 'independent state of papua new guinea', 'holy see/ vatican', 'malawi ', 'sao tome and principe ', 'mongolia', 'cameroon', 'nigeria ', 'congo', 'argentina', 'republic of north macedonia', 'pakistan ', 'the principality of andorra', 'trinidad and tobago ', 'togo ', 'hungrary', 'kuwait ', \"côte d'ivoire \", 'usa', 'fiji ', 'kingdom of thailand', 'rwanda', 'germany', 'thailand', 'lesotho', 'federal republic of somalia', 'liberia ', 'chile', 'principality of liechtenstein', 'arab republic of egypt', 'cape verda', 'liechtenstein ', 'nepal ', 'united mexican states', 'canada', 'central african republic', 'jordan', 'seychelles ', 'kingdom of the netherlands', 'cyprus', 'bulgaria ', 'republic of italy', 'bssr', 'federal republic of germany', 'republic of djibouti', 'democratic republic of the congo', 'slovenia', 'austria ', 'united arab emirates ', 'palestine ', 'zimbabwe', 'republic of nicaragua', 'lao people’s democratic republic', 'netherlands', 'south africa ', 'tanzania, united republic of', 'ukraine ', 'oman ', 'south yemen', 'jamaica', 'tuvalu', 'costa rica ', 'vietnam ', 'kyrgyz republic', 'st. kitts and nevis', 'kyrgystan', 'saudi arabia ', 'israel ', 'republic of mali', 'european council', 'gabon', 'union of burma', 'syria', 'moldova ', 'belarus ', 'republic of lithuania', 'st vincent and the grenadines', 'libyan arab jamahiiya', 'antigua', 'maldives ', \"lao people's democratic re\\xadpublic\", 'colombia ', 'republic of fiji', 'argentina ', 'senegal', 'dominica', 'solomon islands ', 'viet nam', '29+c70+a7+d71:e74', 'laos pdr', 'botswana', 'romania ', 'samoa', 'republic of cuba', 'serbia and montenegro', 'france ', 'united kingdom of great britain and northern ireland', 'republic of san marino', 'portugal ', 'panama ', 'geranada', 'sweden', 'guatemala', 'hashemite kingdom of jordan', 'philippines', 'côte d’ivoire', 'benin', 'kazakhstan', 'canada ', 'czech republic', 'croatia ', 'moldova, republic of', 'solomon island', 'republic of the niger', 'republic of guinea', 'morocco ', 'india ', 'swistzerland', 'haiti', 'bahrain ', 'siam', 'bostwana', 'democratic socialist republic of sri lanka', 'malaysia', 'democratic kampuchea', 'mauritania ', 'lebanese republic', 'gambia ', 'micronesia', 'democratic republic of sao tome and principe', 'union of the comoros', 'brunei', 'greece', 'indonesia', 'democratic people’s republic', 'ussr ', 'people’s republic of china', 'el salvador ', 'republic of panama', 'republic of palau', 'korea, republic of', 'russian federation (ussr)', 'burundi ', 'paraguay ', 'central african republic ', 'republic of angola', 'maldive islands', 'kiribati ', 'vanuatu ', 'micronesia, federated states of', 'kingdom of lesotho', 'madagascar ', 'morroco', 'jamaica ', 'kingdom of morocco', 'nauru', 'papua nueva guinea', 'republic of haiti', 'mauritus', 'swaziland', 'myanmar / burma', 'cambodia /kampuchea', 'zimbabwe ', 'hungry', 'madagascar', 'republic of azerbaijan', 'south sudan ', 'mozambique', 'palau', 'belarus, byelorussian soviet socialist republic', 'palestine liberation organization', 'republic of mozambique', 'republic of kenya', 'myanmar', 'republic of the cabo verde', 'congo, leopoldville', 'slovakia', 'uzbekistan', 'belgium', 'oman', 'syrian arab republic ', 'zaire', 'algeria', 'saint kitts and nevis', 'djibouti ', 'tajikistan ', 'mongolia ', 'st. vincent and the grenadines', \"lao's people democratic republic\", 'nicaragua', 'state of eritrea', 'guinea ', 'syria ', 'mozambique ', 'india', 'bolivia', 'san marino ', 'eswatini ', 'grenada ', 'germany democratic republic', 'republic of cameroon', 'federative republic of brazil', 'argentine republic', 'luxembourg', 'iceland ', 'republic of nauru', 'south sudan', 'ukranian ssr', 'ecuador', 'singapore ', 'federal republic germany', 'state of qatar', 'republic of niger', 'kyrgyzstan ', 'mongolian people’s republic', 'azerbaijan ', 'papa new guinea', 'burkina faso', 'sudan ', 'rwanda ', 'burma', 'cabo verde ', 'republic of chad', 'commonwealth of dominica', 'guyana', 'benin (dahomey)', 'zambia ', 'ethiopia ', 'lebanon', 'laos ', 'lichtenstein', 'republic of malta', 'philpinnes', 'chad ', 'giunea-bissau', 'republic of cyprus', 'nicaragua ', 'cyprus ', 'montenegro ', 'guinea-bissau', 'federal democratic republic of nepal', 'saint christopher and nevis', 'democratic republic of germany ', 'people’s republic of bangladesh', 'kingdom of eswatini', 'north korea ', 'turkey ', 'mexico ', 'philippines ', 'magadascar', 'niger', 'union of sovier socialist republics', 'republic of colombia', 'ddr', 'turkmenistan', 'lao', 'federated states of micronesia', 'republic of serbia', 'são tomé and príncipe ', 'antigua and barbuda', 'uk ', 'gambia', 'slovakia ', 'slovenia ', 'papua new guinea ', 'portuguese republic', 'islamic republic of mauritania', 'surinam', 'iran, islamic republic of', 'congo, the peoples republic of the', 'cuba', 'lybia', 'southern yemen', 'republic of belarus', 'holy see (vatican city state)', 'solomon islands', 'tajikistan', 'senegal ', 'qatar ', 'united arab republic', 'united states of america', 'south afrioa', 'guatemala ', 'paraguay', 'palestinan authority', 'guinea', 'bulgaria', 'serbia ', 'iraq ', 'italy ', 'timor leste', 'kingdom of spain', 'sao tome and principe', 'peru ', 'equatorial guinea ', 'somoa', 'hellenic republic', 'barbados', 'eritrea ', 'soloman islands', 'denmark ', \"lao people's democratic republic\", 'union of south africa', 'ukraine', 'uganda ', 'georgia ', 'brunei-darussalam', 'dominican republic', 'bolivarian republic of venezuela', 'united states', 'czech republic ', 'grenada', 'sri lanka', 'ireland', 'libya', 'union of socialist soviet republics', 'ghana ', 'republic of the marshall islands', 'bhutan ', 'democratic yemen ', 'comoros', 'saint vincent and the grenadines ', 'bosnia', 'united republic of cameroon', 'namibia ', 'togo', 'italian republic', 'andorra ', 'republic of finland', 'bangladesh', 'sri lanka ', 'republic of kiribati', 'latvia ', 'tunisia ', 'mauritius', 'saint lucia', 'saint vincent and grenadines', 'holy see/vatican', 'republic of co', 'france', 'ussr', 'japan', 'republica federal alemana ', 'guinea bassau', 'kingdom of belgium', 'brazil', 'saint vincent and the grenadines', 'switzerland', 'uruguay', 'russia ', 'sweden ', 'brazil ', 'afghanistan', 'united kingdom', 'kingdom of tonga', 'republic of botswana', 'plurinational state of bolivia', 'vatican/holy see', 'united states minor outlying islands', 'cambodia', 'palau ', 'uk', 'burkina faso ', 'russian federation ', 'hungary ', 'state of kuwait', 'lybian arab republic', 'benin ', 'palestine', 'republic of kazakhstan', 'czechoslovakia', 'union of soviet socialist republics', 'korea', 'dahomey', 'republic of costa rica', 'libyan arab jamahiriya', 'suriname ', 'republic of zambia', 'spain', 'fdr', 'islamic republic of iran', 'tanzania', 'republic of chile', 'indonesia ', 'state of palestine', 'tanzania ', 'tunisia', 'uganda', 'philippine republic', 'bahrain', 'republic of burundi', 'iceland', 'kingdom of cambodia', 'ireland ', 'antigua and barbuda ', 'republic of croatia', 'republic of tunisia', 'republic of zimbabwe', 'dominica ', 'bosnia and herzegovina', 'south korea ', 'federal republic of germany ', 'republic of suriname', 'jordan ', 'macedonia ', 'samoa ', 'nepal', 'republic of guinea-bissau'}\n",
      "231 742\n",
      "799 799 0\n"
     ]
    }
   ],
   "source": [
    "disaster_countries = set(df_disasters['Country'])\n",
    "speeches_countries = set([x.lower() for x in list(df_speeches['Country'])])\n",
    "all_countries = set(list(df_emissions['Country']) + list(df_speeches['Country']))\n",
    "\n",
    "intersection = disaster_countries.intersection(speeches_countries)\n",
    "missing_countries = all_countries - intersection\n",
    "\n",
    "print(speeches_countries)\n",
    "print(len(disaster_countries), len(speeches_countries))\n",
    "print(len(all_countries), len(missing_countries), len(intersection))\n",
    "# len(all_countries)\n",
    "# len(missing_countries)"
   ]
  },
  {
   "cell_type": "markdown",
   "metadata": {},
   "source": [
    "# Explore disaster data"
   ]
  },
  {
   "cell_type": "code",
   "execution_count": 6,
   "metadata": {},
   "outputs": [
    {
     "data": {
      "text/html": [
       "<div>\n",
       "<style scoped>\n",
       "    .dataframe tbody tr th:only-of-type {\n",
       "        vertical-align: middle;\n",
       "    }\n",
       "\n",
       "    .dataframe tbody tr th {\n",
       "        vertical-align: top;\n",
       "    }\n",
       "\n",
       "    .dataframe thead th {\n",
       "        text-align: right;\n",
       "    }\n",
       "</style>\n",
       "<table border=\"1\" class=\"dataframe\">\n",
       "  <thead>\n",
       "    <tr style=\"text-align: right;\">\n",
       "      <th></th>\n",
       "      <th>Dis No</th>\n",
       "      <th>Year</th>\n",
       "      <th>Seq</th>\n",
       "      <th>Glide</th>\n",
       "      <th>Disaster Group</th>\n",
       "      <th>Disaster Subgroup</th>\n",
       "      <th>Disaster Type</th>\n",
       "      <th>Disaster Subtype</th>\n",
       "      <th>Disaster Subsubtype</th>\n",
       "      <th>Event Name</th>\n",
       "      <th>...</th>\n",
       "      <th>Reconstruction Costs, Adjusted ('000 US$)</th>\n",
       "      <th>Insured Damages ('000 US$)</th>\n",
       "      <th>Insured Damages, Adjusted ('000 US$)</th>\n",
       "      <th>Total Damages ('000 US$)</th>\n",
       "      <th>Total Damages, Adjusted ('000 US$)</th>\n",
       "      <th>CPI</th>\n",
       "      <th>Adm Level</th>\n",
       "      <th>Admin1 Code</th>\n",
       "      <th>Admin2 Code</th>\n",
       "      <th>Geo Locations</th>\n",
       "    </tr>\n",
       "  </thead>\n",
       "  <tbody>\n",
       "    <tr>\n",
       "      <th>23849</th>\n",
       "      <td>2021-0069-CHL</td>\n",
       "      <td>2021</td>\n",
       "      <td>69</td>\n",
       "      <td>NaN</td>\n",
       "      <td>Natural</td>\n",
       "      <td>Meteorological</td>\n",
       "      <td>Storm</td>\n",
       "      <td>Convective storm</td>\n",
       "      <td>Severe storm</td>\n",
       "      <td>NaN</td>\n",
       "      <td>...</td>\n",
       "      <td>NaN</td>\n",
       "      <td>NaN</td>\n",
       "      <td>NaN</td>\n",
       "      <td>175000.0</td>\n",
       "      <td>189005.0</td>\n",
       "      <td>92.590193</td>\n",
       "      <td>1;2</td>\n",
       "      <td>884;887;889;892;149630</td>\n",
       "      <td>12971</td>\n",
       "      <td>Araucania, Biobio, Libertador Gral. Bernardo O...</td>\n",
       "    </tr>\n",
       "    <tr>\n",
       "      <th>23850</th>\n",
       "      <td>2021-0351-CZE</td>\n",
       "      <td>2021</td>\n",
       "      <td>351</td>\n",
       "      <td>NaN</td>\n",
       "      <td>Natural</td>\n",
       "      <td>Meteorological</td>\n",
       "      <td>Storm</td>\n",
       "      <td>Convective storm</td>\n",
       "      <td>Severe storm</td>\n",
       "      <td>NaN</td>\n",
       "      <td>...</td>\n",
       "      <td>NaN</td>\n",
       "      <td>NaN</td>\n",
       "      <td>NaN</td>\n",
       "      <td>701000.0</td>\n",
       "      <td>757100.0</td>\n",
       "      <td>92.590193</td>\n",
       "      <td>2</td>\n",
       "      <td>NaN</td>\n",
       "      <td>14821;14824</td>\n",
       "      <td>Breclav, Hodonin (Adm2).</td>\n",
       "    </tr>\n",
       "    <tr>\n",
       "      <th>23851</th>\n",
       "      <td>2021-0248-CHN</td>\n",
       "      <td>2021</td>\n",
       "      <td>248</td>\n",
       "      <td>NaN</td>\n",
       "      <td>Natural</td>\n",
       "      <td>Meteorological</td>\n",
       "      <td>Storm</td>\n",
       "      <td>Convective storm</td>\n",
       "      <td>Lightning/Thunderstorms</td>\n",
       "      <td>NaN</td>\n",
       "      <td>...</td>\n",
       "      <td>NaN</td>\n",
       "      <td>NaN</td>\n",
       "      <td>NaN</td>\n",
       "      <td>2500.0</td>\n",
       "      <td>2700.0</td>\n",
       "      <td>92.590193</td>\n",
       "      <td>2</td>\n",
       "      <td>NaN</td>\n",
       "      <td>13149</td>\n",
       "      <td>Nantong (Adm2).</td>\n",
       "    </tr>\n",
       "    <tr>\n",
       "      <th>23852</th>\n",
       "      <td>2021-0411-AUT</td>\n",
       "      <td>2021</td>\n",
       "      <td>411</td>\n",
       "      <td>NaN</td>\n",
       "      <td>Natural</td>\n",
       "      <td>Hydrological</td>\n",
       "      <td>Flood</td>\n",
       "      <td>NaN</td>\n",
       "      <td>NaN</td>\n",
       "      <td>NaN</td>\n",
       "      <td>...</td>\n",
       "      <td>NaN</td>\n",
       "      <td>NaN</td>\n",
       "      <td>NaN</td>\n",
       "      <td>NaN</td>\n",
       "      <td>NaN</td>\n",
       "      <td>92.590193</td>\n",
       "      <td>1</td>\n",
       "      <td>480;482;483;484;485;486</td>\n",
       "      <td>NaN</td>\n",
       "      <td>Niederosterreich, Salzburg, Steiermark, Tirol,...</td>\n",
       "    </tr>\n",
       "    <tr>\n",
       "      <th>23853</th>\n",
       "      <td>2021-0455-BGD</td>\n",
       "      <td>2021</td>\n",
       "      <td>455</td>\n",
       "      <td>NaN</td>\n",
       "      <td>Natural</td>\n",
       "      <td>Hydrological</td>\n",
       "      <td>Flood</td>\n",
       "      <td>NaN</td>\n",
       "      <td>NaN</td>\n",
       "      <td>NaN</td>\n",
       "      <td>...</td>\n",
       "      <td>NaN</td>\n",
       "      <td>NaN</td>\n",
       "      <td>NaN</td>\n",
       "      <td>NaN</td>\n",
       "      <td>NaN</td>\n",
       "      <td>92.590193</td>\n",
       "      <td>2</td>\n",
       "      <td>NaN</td>\n",
       "      <td>5772</td>\n",
       "      <td>Cox's Bazar (Adm2).</td>\n",
       "    </tr>\n",
       "  </tbody>\n",
       "</table>\n",
       "<p>5 rows × 50 columns</p>\n",
       "</div>"
      ],
      "text/plain": [
       "              Dis No  Year  Seq Glide Disaster Group Disaster Subgroup  \\\n",
       "23849  2021-0069-CHL  2021   69   NaN        Natural    Meteorological   \n",
       "23850  2021-0351-CZE  2021  351   NaN        Natural    Meteorological   \n",
       "23851  2021-0248-CHN  2021  248   NaN        Natural    Meteorological   \n",
       "23852  2021-0411-AUT  2021  411   NaN        Natural      Hydrological   \n",
       "23853  2021-0455-BGD  2021  455   NaN        Natural      Hydrological   \n",
       "\n",
       "      Disaster Type  Disaster Subtype      Disaster Subsubtype Event Name  \\\n",
       "23849         Storm  Convective storm             Severe storm        NaN   \n",
       "23850         Storm  Convective storm             Severe storm        NaN   \n",
       "23851         Storm  Convective storm  Lightning/Thunderstorms        NaN   \n",
       "23852         Flood               NaN                      NaN        NaN   \n",
       "23853         Flood               NaN                      NaN        NaN   \n",
       "\n",
       "       ... Reconstruction Costs, Adjusted ('000 US$)  \\\n",
       "23849  ...                                       NaN   \n",
       "23850  ...                                       NaN   \n",
       "23851  ...                                       NaN   \n",
       "23852  ...                                       NaN   \n",
       "23853  ...                                       NaN   \n",
       "\n",
       "      Insured Damages ('000 US$) Insured Damages, Adjusted ('000 US$)  \\\n",
       "23849                        NaN                                  NaN   \n",
       "23850                        NaN                                  NaN   \n",
       "23851                        NaN                                  NaN   \n",
       "23852                        NaN                                  NaN   \n",
       "23853                        NaN                                  NaN   \n",
       "\n",
       "      Total Damages ('000 US$) Total Damages, Adjusted ('000 US$)        CPI  \\\n",
       "23849                 175000.0                           189005.0  92.590193   \n",
       "23850                 701000.0                           757100.0  92.590193   \n",
       "23851                   2500.0                             2700.0  92.590193   \n",
       "23852                      NaN                                NaN  92.590193   \n",
       "23853                      NaN                                NaN  92.590193   \n",
       "\n",
       "      Adm Level              Admin1 Code  Admin2 Code  \\\n",
       "23849       1;2   884;887;889;892;149630        12971   \n",
       "23850         2                      NaN  14821;14824   \n",
       "23851         2                      NaN        13149   \n",
       "23852         1  480;482;483;484;485;486          NaN   \n",
       "23853         2                      NaN         5772   \n",
       "\n",
       "                                           Geo Locations  \n",
       "23849  Araucania, Biobio, Libertador Gral. Bernardo O...  \n",
       "23850                          Breclav, Hodonin (Adm2).   \n",
       "23851                                   Nantong (Adm2).   \n",
       "23852  Niederosterreich, Salzburg, Steiermark, Tirol,...  \n",
       "23853                               Cox's Bazar (Adm2).   \n",
       "\n",
       "[5 rows x 50 columns]"
      ]
     },
     "execution_count": 6,
     "metadata": {},
     "output_type": "execute_result"
    }
   ],
   "source": [
    "# select data from 2021\n",
    "df = df_disasters[df_disasters['Year'] == 2021]\n",
    "df.head()"
   ]
  },
  {
   "cell_type": "code",
   "execution_count": 7,
   "metadata": {},
   "outputs": [
    {
     "name": "stderr",
     "output_type": "stream",
     "text": [
      "/var/folders/pz/pqdfb44x6z56nqs5vr77b6rw0000gn/T/ipykernel_14397/1214363770.py:14: SettingWithCopyWarning: \n",
      "A value is trying to be set on a copy of a slice from a DataFrame.\n",
      "Try using .loc[row_indexer,col_indexer] = value instead\n",
      "\n",
      "See the caveats in the documentation: https://pandas.pydata.org/pandas-docs/stable/user_guide/indexing.html#returning-a-view-versus-a-copy\n",
      "  df[new_column_name] = df[\"Disaster Type\"].apply(lambda x: False if x in types_to_drop else True)\n"
     ]
    },
    {
     "data": {
      "application/vnd.plotly.v1+json": {
       "config": {
        "plotlyServerURL": "https://plot.ly"
       },
       "data": [
        {
         "alignmentgroup": "True",
         "bingroup": "x",
         "hovertemplate": "causes climate change sentiment=True<br>Disaster Type=%{x}<br>count=%{y}<extra></extra>",
         "legendgroup": "True",
         "marker": {
          "color": "rgba(0, 0, 100, 1)",
          "pattern": {
           "shape": ""
          }
         },
         "name": "True",
         "offsetgroup": "True",
         "orientation": "v",
         "showlegend": true,
         "type": "histogram",
         "x": [
          "Storm",
          "Storm",
          "Storm",
          "Flood",
          "Flood",
          "Flood",
          "Flood",
          "Flood",
          "Flood",
          "Flood",
          "Flood",
          "Flood",
          "Flood",
          "Flood",
          "Flood",
          "Flood",
          "Flood",
          "Flood",
          "Storm",
          "Flood",
          "Flood",
          "Flood",
          "Storm",
          "Flood",
          "Flood",
          "Storm",
          "Wildfire",
          "Wildfire",
          "Wildfire",
          "Wildfire",
          "Extreme temperature ",
          "Storm",
          "Storm",
          "Drought",
          "Landslide",
          "Storm",
          "Storm",
          "Flood",
          "Flood",
          "Flood",
          "Landslide",
          "Flood",
          "Flood",
          "Flood",
          "Flood",
          "Wildfire",
          "Flood",
          "Storm",
          "Wildfire",
          "Flood",
          "Flood",
          "Flood",
          "Flood",
          "Storm",
          "Flood",
          "Storm",
          "Flood",
          "Flood",
          "Flood",
          "Flood",
          "Flood",
          "Flood",
          "Flood",
          "Drought",
          "Flood",
          "Flood",
          "Flood",
          "Flood",
          "Storm",
          "Flood",
          "Storm",
          "Flood",
          "Storm",
          "Storm",
          "Storm",
          "Flood",
          "Storm",
          "Drought",
          "Flood",
          "Flood",
          "Flood",
          "Flood",
          "Flood",
          "Flood",
          "Flood",
          "Landslide",
          "Flood",
          "Flood",
          "Storm",
          "Storm",
          "Storm",
          "Storm",
          "Storm",
          "Flood",
          "Storm",
          "Storm",
          "Storm",
          "Storm",
          "Storm",
          "Flood",
          "Flood",
          "Landslide",
          "Flood",
          "Storm",
          "Storm",
          "Storm",
          "Storm",
          "Storm",
          "Flood",
          "Flood",
          "Flood",
          "Flood",
          "Storm",
          "Storm",
          "Flood",
          "Flood",
          "Flood",
          "Flood",
          "Flood",
          "Flood",
          "Flood",
          "Flood",
          "Flood",
          "Flood",
          "Flood",
          "Flood",
          "Flood",
          "Glacial lake outburst",
          "Flood",
          "Flood",
          "Flood",
          "Flood",
          "Flood",
          "Flood",
          "Flood",
          "Flood",
          "Flood",
          "Flood",
          "Flood",
          "Flood",
          "Flood",
          "Flood",
          "Flood",
          "Flood",
          "Flood",
          "Flood",
          "Flood",
          "Flood",
          "Flood",
          "Flood",
          "Flood",
          "Landslide",
          "Flood",
          "Flood",
          "Flood",
          "Flood",
          "Storm",
          "Wildfire",
          "Drought",
          "Drought",
          "Wildfire",
          "Storm",
          "Landslide",
          "Storm",
          "Glacial lake outburst",
          "Storm",
          "Storm",
          "Storm",
          "Storm",
          "Storm",
          "Storm",
          "Drought",
          "Storm",
          "Storm",
          "Flood",
          "Flood",
          "Flood",
          "Flood",
          "Flood",
          "Flood",
          "Flood",
          "Storm",
          "Storm",
          "Extreme temperature ",
          "Flood",
          "Flood",
          "Storm",
          "Flood",
          "Flood",
          "Flood",
          "Flood",
          "Flood",
          "Storm",
          "Storm",
          "Wildfire",
          "Flood",
          "Storm",
          "Storm",
          "Flood",
          "Flood",
          "Landslide",
          "Flood",
          "Flood",
          "Flood",
          "Flood",
          "Flood",
          "Flood",
          "Flood",
          "Flood",
          "Flood",
          "Flood",
          "Storm",
          "Storm",
          "Storm",
          "Storm",
          "Flood",
          "Flood",
          "Flood",
          "Flood",
          "Flood",
          "Storm",
          "Drought",
          "Flood",
          "Wildfire",
          "Landslide",
          "Flood",
          "Landslide",
          "Storm",
          "Flood",
          "Flood",
          "Storm",
          "Storm",
          "Storm",
          "Flood",
          "Flood",
          "Storm",
          "Storm",
          "Storm",
          "Flood",
          "Flood",
          "Flood",
          "Flood",
          "Flood",
          "Drought",
          "Flood",
          "Flood",
          "Flood",
          "Flood",
          "Flood",
          "Flood",
          "Storm",
          "Flood",
          "Flood",
          "Storm",
          "Flood",
          "Storm",
          "Flood",
          "Flood",
          "Flood",
          "Flood",
          "Flood",
          "Flood",
          "Flood",
          "Flood",
          "Storm",
          "Storm",
          "Storm",
          "Storm",
          "Storm",
          "Storm",
          "Flood",
          "Storm",
          "Storm",
          "Storm",
          "Flood",
          "Storm",
          "Storm",
          "Storm",
          "Storm",
          "Flood",
          "Flood",
          "Flood",
          "Flood",
          "Flood",
          "Flood",
          "Flood",
          "Flood",
          "Flood",
          "Flood",
          "Flood",
          "Flood",
          "Flood",
          "Flood",
          "Flood",
          "Storm",
          "Storm",
          "Storm",
          "Flood",
          "Flood",
          "Flood",
          "Flood",
          "Storm",
          "Storm",
          "Wildfire",
          "Wildfire",
          "Storm",
          "Storm",
          "Storm",
          "Storm",
          "Storm",
          "Storm",
          "Storm",
          "Storm",
          "Storm",
          "Storm",
          "Storm",
          "Storm",
          "Storm",
          "Drought",
          "Drought",
          "Drought",
          "Drought",
          "Drought",
          "Flood",
          "Storm",
          "Storm",
          "Storm",
          "Flood",
          "Flood",
          "Flood",
          "Storm",
          "Storm",
          "Storm",
          "Flood",
          "Storm",
          "Flood",
          "Flood",
          "Flood",
          "Landslide",
          "Flood",
          "Flood",
          "Storm",
          "Flood",
          "Flood",
          "Flood",
          "Flood",
          "Flood",
          "Storm",
          "Flood",
          "Flood",
          "Flood",
          "Flood",
          "Flood",
          "Landslide",
          "Wildfire",
          "Flood",
          "Drought",
          "Storm",
          "Flood",
          "Flood",
          "Storm",
          "Storm",
          "Storm",
          "Storm",
          "Storm",
          "Flood",
          "Flood",
          "Flood",
          "Flood",
          "Extreme temperature ",
          "Wildfire",
          "Wildfire",
          "Drought",
          "Flood",
          "Flood",
          "Wildfire",
          "Wildfire",
          "Wildfire",
          "Flood",
          "Wildfire",
          "Landslide",
          "Storm",
          "Flood",
          "Storm",
          "Flood",
          "Storm",
          "Storm",
          "Flood",
          "Flood",
          "Flood",
          "Flood",
          "Flood",
          "Drought"
         ],
         "xaxis": "x",
         "yaxis": "y"
        },
        {
         "alignmentgroup": "True",
         "bingroup": "x",
         "hovertemplate": "causes climate change sentiment=False<br>Disaster Type=%{x}<br>count=%{y}<extra></extra>",
         "legendgroup": "False",
         "marker": {
          "color": "rgba(0, 0, 100, 0.5)",
          "pattern": {
           "shape": ""
          }
         },
         "name": "False",
         "offsetgroup": "False",
         "orientation": "v",
         "showlegend": true,
         "type": "histogram",
         "x": [
          "Industrial accident",
          "Earthquake",
          "Transport accident",
          "Miscellaneous accident",
          "Industrial accident",
          "Transport accident",
          "Transport accident",
          "Transport accident",
          "Transport accident",
          "Transport accident",
          "Industrial accident",
          "Miscellaneous accident",
          "Miscellaneous accident",
          "Transport accident",
          "Transport accident",
          "Transport accident",
          "Transport accident",
          "Transport accident",
          "Earthquake",
          "Earthquake",
          "Earthquake",
          "Earthquake",
          "Earthquake",
          "Earthquake",
          "Transport accident",
          "Industrial accident",
          "Industrial accident",
          "Miscellaneous accident",
          "Miscellaneous accident",
          "Miscellaneous accident",
          "Miscellaneous accident",
          "Transport accident",
          "Transport accident",
          "Transport accident",
          "Transport accident",
          "Transport accident",
          "Transport accident",
          "Transport accident",
          "Transport accident",
          "Transport accident",
          "Transport accident",
          "Transport accident",
          "Miscellaneous accident",
          "Earthquake",
          "Industrial accident",
          "Miscellaneous accident",
          "Earthquake",
          "Earthquake",
          "Transport accident",
          "Earthquake",
          "Earthquake",
          "Transport accident",
          "Volcanic activity",
          "Transport accident",
          "Transport accident",
          "Transport accident",
          "Transport accident",
          "Transport accident",
          "Transport accident",
          "Industrial accident",
          "Transport accident",
          "Transport accident",
          "Epidemic",
          "Industrial accident",
          "Transport accident",
          "Miscellaneous accident",
          "Earthquake",
          "Earthquake",
          "Transport accident",
          "Transport accident",
          "Transport accident",
          "Earthquake",
          "Earthquake",
          "Earthquake",
          "Earthquake",
          "Volcanic activity",
          "Volcanic activity",
          "Transport accident",
          "Transport accident",
          "Transport accident",
          "Miscellaneous accident",
          "Earthquake",
          "Transport accident",
          "Transport accident",
          "Transport accident",
          "Transport accident",
          "Industrial accident",
          "Miscellaneous accident",
          "Miscellaneous accident",
          "Miscellaneous accident",
          "Miscellaneous accident",
          "Earthquake",
          "Earthquake",
          "Earthquake",
          "Transport accident",
          "Transport accident",
          "Miscellaneous accident",
          "Transport accident",
          "Transport accident",
          "Transport accident",
          "Earthquake",
          "Earthquake",
          "Miscellaneous accident",
          "Epidemic",
          "Transport accident",
          "Transport accident",
          "Earthquake",
          "Industrial accident",
          "Transport accident",
          "Transport accident",
          "Transport accident",
          "Transport accident",
          "Transport accident",
          "Transport accident",
          "Transport accident",
          "Transport accident",
          "Transport accident",
          "Transport accident",
          "Miscellaneous accident",
          "Transport accident",
          "Transport accident",
          "Transport accident",
          "Transport accident",
          "Transport accident",
          "Epidemic",
          "Industrial accident",
          "Miscellaneous accident",
          "Epidemic",
          "Transport accident",
          "Transport accident",
          "Transport accident",
          "Transport accident",
          "Industrial accident",
          "Epidemic",
          "Transport accident",
          "Transport accident",
          "Transport accident",
          "Transport accident",
          "Transport accident",
          "Miscellaneous accident",
          "Earthquake",
          "Earthquake",
          "Transport accident",
          "Transport accident",
          "Transport accident",
          "Transport accident",
          "Volcanic activity",
          "Volcanic activity",
          "Transport accident",
          "Volcanic activity",
          "Transport accident",
          "Industrial accident",
          "Industrial accident",
          "Industrial accident",
          "Transport accident",
          "Miscellaneous accident",
          "Volcanic activity",
          "Industrial accident",
          "Earthquake",
          "Transport accident",
          "Transport accident",
          "Transport accident",
          "Transport accident",
          "Transport accident",
          "Transport accident",
          "Transport accident",
          "Transport accident",
          "Miscellaneous accident",
          "Miscellaneous accident",
          "Transport accident",
          "Miscellaneous accident",
          "Transport accident",
          "Transport accident",
          "Transport accident",
          "Miscellaneous accident",
          "Miscellaneous accident",
          "Volcanic activity",
          "Volcanic activity",
          "Miscellaneous accident",
          "Epidemic",
          "Transport accident",
          "Transport accident",
          "Transport accident",
          "Transport accident",
          "Transport accident",
          "Transport accident",
          "Transport accident",
          "Transport accident",
          "Industrial accident",
          "Miscellaneous accident",
          "Transport accident",
          "Transport accident",
          "Miscellaneous accident",
          "Miscellaneous accident",
          "Epidemic"
         ],
         "xaxis": "x",
         "yaxis": "y"
        }
       ],
       "layout": {
        "barmode": "relative",
        "legend": {
         "title": {
          "text": "causes climate change sentiment"
         },
         "tracegroupgap": 0
        },
        "margin": {
         "t": 60
        },
        "template": {
         "data": {
          "bar": [
           {
            "error_x": {
             "color": "#2a3f5f"
            },
            "error_y": {
             "color": "#2a3f5f"
            },
            "marker": {
             "line": {
              "color": "#E5ECF6",
              "width": 0.5
             },
             "pattern": {
              "fillmode": "overlay",
              "size": 10,
              "solidity": 0.2
             }
            },
            "type": "bar"
           }
          ],
          "barpolar": [
           {
            "marker": {
             "line": {
              "color": "#E5ECF6",
              "width": 0.5
             },
             "pattern": {
              "fillmode": "overlay",
              "size": 10,
              "solidity": 0.2
             }
            },
            "type": "barpolar"
           }
          ],
          "carpet": [
           {
            "aaxis": {
             "endlinecolor": "#2a3f5f",
             "gridcolor": "white",
             "linecolor": "white",
             "minorgridcolor": "white",
             "startlinecolor": "#2a3f5f"
            },
            "baxis": {
             "endlinecolor": "#2a3f5f",
             "gridcolor": "white",
             "linecolor": "white",
             "minorgridcolor": "white",
             "startlinecolor": "#2a3f5f"
            },
            "type": "carpet"
           }
          ],
          "choropleth": [
           {
            "colorbar": {
             "outlinewidth": 0,
             "ticks": ""
            },
            "type": "choropleth"
           }
          ],
          "contour": [
           {
            "colorbar": {
             "outlinewidth": 0,
             "ticks": ""
            },
            "colorscale": [
             [
              0,
              "#0d0887"
             ],
             [
              0.1111111111111111,
              "#46039f"
             ],
             [
              0.2222222222222222,
              "#7201a8"
             ],
             [
              0.3333333333333333,
              "#9c179e"
             ],
             [
              0.4444444444444444,
              "#bd3786"
             ],
             [
              0.5555555555555556,
              "#d8576b"
             ],
             [
              0.6666666666666666,
              "#ed7953"
             ],
             [
              0.7777777777777778,
              "#fb9f3a"
             ],
             [
              0.8888888888888888,
              "#fdca26"
             ],
             [
              1,
              "#f0f921"
             ]
            ],
            "type": "contour"
           }
          ],
          "contourcarpet": [
           {
            "colorbar": {
             "outlinewidth": 0,
             "ticks": ""
            },
            "type": "contourcarpet"
           }
          ],
          "heatmap": [
           {
            "colorbar": {
             "outlinewidth": 0,
             "ticks": ""
            },
            "colorscale": [
             [
              0,
              "#0d0887"
             ],
             [
              0.1111111111111111,
              "#46039f"
             ],
             [
              0.2222222222222222,
              "#7201a8"
             ],
             [
              0.3333333333333333,
              "#9c179e"
             ],
             [
              0.4444444444444444,
              "#bd3786"
             ],
             [
              0.5555555555555556,
              "#d8576b"
             ],
             [
              0.6666666666666666,
              "#ed7953"
             ],
             [
              0.7777777777777778,
              "#fb9f3a"
             ],
             [
              0.8888888888888888,
              "#fdca26"
             ],
             [
              1,
              "#f0f921"
             ]
            ],
            "type": "heatmap"
           }
          ],
          "heatmapgl": [
           {
            "colorbar": {
             "outlinewidth": 0,
             "ticks": ""
            },
            "colorscale": [
             [
              0,
              "#0d0887"
             ],
             [
              0.1111111111111111,
              "#46039f"
             ],
             [
              0.2222222222222222,
              "#7201a8"
             ],
             [
              0.3333333333333333,
              "#9c179e"
             ],
             [
              0.4444444444444444,
              "#bd3786"
             ],
             [
              0.5555555555555556,
              "#d8576b"
             ],
             [
              0.6666666666666666,
              "#ed7953"
             ],
             [
              0.7777777777777778,
              "#fb9f3a"
             ],
             [
              0.8888888888888888,
              "#fdca26"
             ],
             [
              1,
              "#f0f921"
             ]
            ],
            "type": "heatmapgl"
           }
          ],
          "histogram": [
           {
            "marker": {
             "pattern": {
              "fillmode": "overlay",
              "size": 10,
              "solidity": 0.2
             }
            },
            "type": "histogram"
           }
          ],
          "histogram2d": [
           {
            "colorbar": {
             "outlinewidth": 0,
             "ticks": ""
            },
            "colorscale": [
             [
              0,
              "#0d0887"
             ],
             [
              0.1111111111111111,
              "#46039f"
             ],
             [
              0.2222222222222222,
              "#7201a8"
             ],
             [
              0.3333333333333333,
              "#9c179e"
             ],
             [
              0.4444444444444444,
              "#bd3786"
             ],
             [
              0.5555555555555556,
              "#d8576b"
             ],
             [
              0.6666666666666666,
              "#ed7953"
             ],
             [
              0.7777777777777778,
              "#fb9f3a"
             ],
             [
              0.8888888888888888,
              "#fdca26"
             ],
             [
              1,
              "#f0f921"
             ]
            ],
            "type": "histogram2d"
           }
          ],
          "histogram2dcontour": [
           {
            "colorbar": {
             "outlinewidth": 0,
             "ticks": ""
            },
            "colorscale": [
             [
              0,
              "#0d0887"
             ],
             [
              0.1111111111111111,
              "#46039f"
             ],
             [
              0.2222222222222222,
              "#7201a8"
             ],
             [
              0.3333333333333333,
              "#9c179e"
             ],
             [
              0.4444444444444444,
              "#bd3786"
             ],
             [
              0.5555555555555556,
              "#d8576b"
             ],
             [
              0.6666666666666666,
              "#ed7953"
             ],
             [
              0.7777777777777778,
              "#fb9f3a"
             ],
             [
              0.8888888888888888,
              "#fdca26"
             ],
             [
              1,
              "#f0f921"
             ]
            ],
            "type": "histogram2dcontour"
           }
          ],
          "mesh3d": [
           {
            "colorbar": {
             "outlinewidth": 0,
             "ticks": ""
            },
            "type": "mesh3d"
           }
          ],
          "parcoords": [
           {
            "line": {
             "colorbar": {
              "outlinewidth": 0,
              "ticks": ""
             }
            },
            "type": "parcoords"
           }
          ],
          "pie": [
           {
            "automargin": true,
            "type": "pie"
           }
          ],
          "scatter": [
           {
            "fillpattern": {
             "fillmode": "overlay",
             "size": 10,
             "solidity": 0.2
            },
            "type": "scatter"
           }
          ],
          "scatter3d": [
           {
            "line": {
             "colorbar": {
              "outlinewidth": 0,
              "ticks": ""
             }
            },
            "marker": {
             "colorbar": {
              "outlinewidth": 0,
              "ticks": ""
             }
            },
            "type": "scatter3d"
           }
          ],
          "scattercarpet": [
           {
            "marker": {
             "colorbar": {
              "outlinewidth": 0,
              "ticks": ""
             }
            },
            "type": "scattercarpet"
           }
          ],
          "scattergeo": [
           {
            "marker": {
             "colorbar": {
              "outlinewidth": 0,
              "ticks": ""
             }
            },
            "type": "scattergeo"
           }
          ],
          "scattergl": [
           {
            "marker": {
             "colorbar": {
              "outlinewidth": 0,
              "ticks": ""
             }
            },
            "type": "scattergl"
           }
          ],
          "scattermapbox": [
           {
            "marker": {
             "colorbar": {
              "outlinewidth": 0,
              "ticks": ""
             }
            },
            "type": "scattermapbox"
           }
          ],
          "scatterpolar": [
           {
            "marker": {
             "colorbar": {
              "outlinewidth": 0,
              "ticks": ""
             }
            },
            "type": "scatterpolar"
           }
          ],
          "scatterpolargl": [
           {
            "marker": {
             "colorbar": {
              "outlinewidth": 0,
              "ticks": ""
             }
            },
            "type": "scatterpolargl"
           }
          ],
          "scatterternary": [
           {
            "marker": {
             "colorbar": {
              "outlinewidth": 0,
              "ticks": ""
             }
            },
            "type": "scatterternary"
           }
          ],
          "surface": [
           {
            "colorbar": {
             "outlinewidth": 0,
             "ticks": ""
            },
            "colorscale": [
             [
              0,
              "#0d0887"
             ],
             [
              0.1111111111111111,
              "#46039f"
             ],
             [
              0.2222222222222222,
              "#7201a8"
             ],
             [
              0.3333333333333333,
              "#9c179e"
             ],
             [
              0.4444444444444444,
              "#bd3786"
             ],
             [
              0.5555555555555556,
              "#d8576b"
             ],
             [
              0.6666666666666666,
              "#ed7953"
             ],
             [
              0.7777777777777778,
              "#fb9f3a"
             ],
             [
              0.8888888888888888,
              "#fdca26"
             ],
             [
              1,
              "#f0f921"
             ]
            ],
            "type": "surface"
           }
          ],
          "table": [
           {
            "cells": {
             "fill": {
              "color": "#EBF0F8"
             },
             "line": {
              "color": "white"
             }
            },
            "header": {
             "fill": {
              "color": "#C8D4E3"
             },
             "line": {
              "color": "white"
             }
            },
            "type": "table"
           }
          ]
         },
         "layout": {
          "annotationdefaults": {
           "arrowcolor": "#2a3f5f",
           "arrowhead": 0,
           "arrowwidth": 1
          },
          "autotypenumbers": "strict",
          "coloraxis": {
           "colorbar": {
            "outlinewidth": 0,
            "ticks": ""
           }
          },
          "colorscale": {
           "diverging": [
            [
             0,
             "#8e0152"
            ],
            [
             0.1,
             "#c51b7d"
            ],
            [
             0.2,
             "#de77ae"
            ],
            [
             0.3,
             "#f1b6da"
            ],
            [
             0.4,
             "#fde0ef"
            ],
            [
             0.5,
             "#f7f7f7"
            ],
            [
             0.6,
             "#e6f5d0"
            ],
            [
             0.7,
             "#b8e186"
            ],
            [
             0.8,
             "#7fbc41"
            ],
            [
             0.9,
             "#4d9221"
            ],
            [
             1,
             "#276419"
            ]
           ],
           "sequential": [
            [
             0,
             "#0d0887"
            ],
            [
             0.1111111111111111,
             "#46039f"
            ],
            [
             0.2222222222222222,
             "#7201a8"
            ],
            [
             0.3333333333333333,
             "#9c179e"
            ],
            [
             0.4444444444444444,
             "#bd3786"
            ],
            [
             0.5555555555555556,
             "#d8576b"
            ],
            [
             0.6666666666666666,
             "#ed7953"
            ],
            [
             0.7777777777777778,
             "#fb9f3a"
            ],
            [
             0.8888888888888888,
             "#fdca26"
            ],
            [
             1,
             "#f0f921"
            ]
           ],
           "sequentialminus": [
            [
             0,
             "#0d0887"
            ],
            [
             0.1111111111111111,
             "#46039f"
            ],
            [
             0.2222222222222222,
             "#7201a8"
            ],
            [
             0.3333333333333333,
             "#9c179e"
            ],
            [
             0.4444444444444444,
             "#bd3786"
            ],
            [
             0.5555555555555556,
             "#d8576b"
            ],
            [
             0.6666666666666666,
             "#ed7953"
            ],
            [
             0.7777777777777778,
             "#fb9f3a"
            ],
            [
             0.8888888888888888,
             "#fdca26"
            ],
            [
             1,
             "#f0f921"
            ]
           ]
          },
          "colorway": [
           "#636efa",
           "#EF553B",
           "#00cc96",
           "#ab63fa",
           "#FFA15A",
           "#19d3f3",
           "#FF6692",
           "#B6E880",
           "#FF97FF",
           "#FECB52"
          ],
          "font": {
           "color": "#2a3f5f"
          },
          "geo": {
           "bgcolor": "white",
           "lakecolor": "white",
           "landcolor": "#E5ECF6",
           "showlakes": true,
           "showland": true,
           "subunitcolor": "white"
          },
          "hoverlabel": {
           "align": "left"
          },
          "hovermode": "closest",
          "mapbox": {
           "style": "light"
          },
          "paper_bgcolor": "white",
          "plot_bgcolor": "#E5ECF6",
          "polar": {
           "angularaxis": {
            "gridcolor": "white",
            "linecolor": "white",
            "ticks": ""
           },
           "bgcolor": "#E5ECF6",
           "radialaxis": {
            "gridcolor": "white",
            "linecolor": "white",
            "ticks": ""
           }
          },
          "scene": {
           "xaxis": {
            "backgroundcolor": "#E5ECF6",
            "gridcolor": "white",
            "gridwidth": 2,
            "linecolor": "white",
            "showbackground": true,
            "ticks": "",
            "zerolinecolor": "white"
           },
           "yaxis": {
            "backgroundcolor": "#E5ECF6",
            "gridcolor": "white",
            "gridwidth": 2,
            "linecolor": "white",
            "showbackground": true,
            "ticks": "",
            "zerolinecolor": "white"
           },
           "zaxis": {
            "backgroundcolor": "#E5ECF6",
            "gridcolor": "white",
            "gridwidth": 2,
            "linecolor": "white",
            "showbackground": true,
            "ticks": "",
            "zerolinecolor": "white"
           }
          },
          "shapedefaults": {
           "line": {
            "color": "#2a3f5f"
           }
          },
          "ternary": {
           "aaxis": {
            "gridcolor": "white",
            "linecolor": "white",
            "ticks": ""
           },
           "baxis": {
            "gridcolor": "white",
            "linecolor": "white",
            "ticks": ""
           },
           "bgcolor": "#E5ECF6",
           "caxis": {
            "gridcolor": "white",
            "linecolor": "white",
            "ticks": ""
           }
          },
          "title": {
           "x": 0.05
          },
          "xaxis": {
           "automargin": true,
           "gridcolor": "white",
           "linecolor": "white",
           "ticks": "",
           "title": {
            "standoff": 15
           },
           "zerolinecolor": "white",
           "zerolinewidth": 2
          },
          "yaxis": {
           "automargin": true,
           "gridcolor": "white",
           "linecolor": "white",
           "ticks": "",
           "title": {
            "standoff": 15
           },
           "zerolinecolor": "white",
           "zerolinewidth": 2
          }
         }
        },
        "xaxis": {
         "anchor": "y",
         "domain": [
          0,
          1
         ],
         "title": {
          "text": "Disaster Type"
         }
        },
        "yaxis": {
         "anchor": "x",
         "domain": [
          0,
          1
         ],
         "title": {
          "text": "count"
         }
        }
       }
      }
     },
     "metadata": {},
     "output_type": "display_data"
    }
   ],
   "source": [
    "# plot grouped barchart where each bar represents a disaster subgroup and they are grouped per distater group\n",
    "# df.groupby(['Disaster Type', 'Disaster Subtype']).size().unstack().plot(kind='bar', stacked=True)\n",
    "# df['Disaster Subgroup'].value_counts().plot(kind='bar')\n",
    "\n",
    "\n",
    "# plot disater types\n",
    "# df['Disaster Type'].value_counts().plot(kind='bar')\n",
    "\n",
    "# keep only types that could be caused by climate change\n",
    "\n",
    "new_column_name = \"causes climate change sentiment\"\n",
    "\n",
    "types_to_drop = [\"Earthquake\", \"Transport accident\", \"Miscellaneous accident\", \"Industrial accident\", \"Epidemic\", \"Volcanic activity\", \"Complex Disasters\", \"Impact\", \"Animal accident\"]\n",
    "df[new_column_name] = df[\"Disaster Type\"].apply(lambda x: False if x in types_to_drop else True)\n",
    "# types_to_keep = [x for x in list(df[\"Disaster Type\"].unique()) if x not in types_to_drop]\n",
    "# keep_dict = {x: True if x in types_to_keep else False for x in list(df[\"Disaster Type\"].unique())}\n",
    "# print(keep_dict)\n",
    "# map values of\n",
    "# color_dict = {x: 'blue' if keep_dict[x] else 'red' for x in keep_dict.keys()}\n",
    "# print(color_dict)\n",
    "# plot disater types in barplot using color dict with plotly\n",
    "colorkeep = 'rgba(0, 0, 100, 1)'\n",
    "colordelete = 'rgba(0, 0, 100, 0.5)'\n",
    "\n",
    "px.histogram(df, x=\"Disaster Type\", color=new_column_name, color_discrete_map={True: colorkeep, False: colordelete})\n",
    "# px.bar(df, x='Disaster Type', color_discrete_map=color_dict)\n",
    "\n",
    "\n",
    "# df['Disaster Type'].value_counts().plot(kind='bar', color=color_dict.values())\n",
    "# df['Disaster Type'].value_counts().plot(kind='bar', color=colors)\n",
    "\n",
    "\n",
    "# df['Disaster Type'].value_counts().plot(kind='bar', alpha=0.5)\n",
    "# df = df[~df['Disaster Type'].isin(drop_types)]\n",
    "\n",
    "\n",
    "# plot disater types\n",
    "# df['Disaster Type'].value_counts().plot(kind='bar')\n"
   ]
  },
  {
   "cell_type": "code",
   "execution_count": 8,
   "metadata": {},
   "outputs": [
    {
     "data": {
      "application/vnd.plotly.v1+json": {
       "config": {
        "plotlyServerURL": "https://plot.ly"
       },
       "data": [
        {
         "alignmentgroup": "True",
         "bingroup": "x",
         "hovertemplate": "Disaster Type=%{x}<br>count=%{y}<extra></extra>",
         "legendgroup": "",
         "marker": {
          "color": "#636efa",
          "pattern": {
           "shape": ""
          }
         },
         "name": "",
         "offsetgroup": "",
         "orientation": "v",
         "showlegend": false,
         "type": "histogram",
         "x": [
          "Storm",
          "Storm",
          "Storm",
          "Flood",
          "Flood",
          "Flood",
          "Flood",
          "Flood",
          "Flood",
          "Flood",
          "Flood",
          "Flood",
          "Flood",
          "Flood",
          "Flood",
          "Flood",
          "Flood",
          "Flood",
          "Storm",
          "Flood",
          "Flood",
          "Flood",
          "Storm",
          "Flood",
          "Flood",
          "Storm",
          "Wildfire",
          "Wildfire",
          "Wildfire",
          "Wildfire",
          "Extreme temperature ",
          "Storm",
          "Storm",
          "Drought",
          "Landslide",
          "Storm",
          "Storm",
          "Flood",
          "Flood",
          "Flood",
          "Landslide",
          "Flood",
          "Flood",
          "Flood",
          "Flood",
          "Wildfire",
          "Flood",
          "Storm",
          "Wildfire",
          "Flood",
          "Flood",
          "Flood",
          "Flood",
          "Storm",
          "Flood",
          "Storm",
          "Flood",
          "Flood",
          "Flood",
          "Flood",
          "Flood",
          "Flood",
          "Flood",
          "Drought",
          "Flood",
          "Flood",
          "Flood",
          "Flood",
          "Storm",
          "Flood",
          "Storm",
          "Flood",
          "Storm",
          "Storm",
          "Storm",
          "Flood",
          "Storm",
          "Drought",
          "Flood",
          "Flood",
          "Flood",
          "Flood",
          "Flood",
          "Flood",
          "Flood",
          "Landslide",
          "Flood",
          "Flood",
          "Storm",
          "Storm",
          "Storm",
          "Storm",
          "Storm",
          "Flood",
          "Storm",
          "Storm",
          "Storm",
          "Storm",
          "Storm",
          "Flood",
          "Flood",
          "Landslide",
          "Flood",
          "Storm",
          "Storm",
          "Storm",
          "Storm",
          "Storm",
          "Flood",
          "Flood",
          "Flood",
          "Flood",
          "Storm",
          "Storm",
          "Flood",
          "Flood",
          "Flood",
          "Flood",
          "Flood",
          "Flood",
          "Flood",
          "Flood",
          "Flood",
          "Flood",
          "Flood",
          "Flood",
          "Flood",
          "Glacial lake outburst",
          "Flood",
          "Flood",
          "Flood",
          "Flood",
          "Flood",
          "Flood",
          "Flood",
          "Flood",
          "Flood",
          "Flood",
          "Flood",
          "Flood",
          "Flood",
          "Flood",
          "Flood",
          "Flood",
          "Flood",
          "Flood",
          "Flood",
          "Flood",
          "Flood",
          "Flood",
          "Flood",
          "Landslide",
          "Flood",
          "Flood",
          "Flood",
          "Flood",
          "Storm",
          "Wildfire",
          "Drought",
          "Drought",
          "Wildfire",
          "Storm",
          "Landslide",
          "Storm",
          "Glacial lake outburst",
          "Storm",
          "Storm",
          "Storm",
          "Storm",
          "Storm",
          "Storm",
          "Drought",
          "Storm",
          "Storm",
          "Flood",
          "Flood",
          "Flood",
          "Flood",
          "Flood",
          "Flood",
          "Flood",
          "Storm",
          "Storm",
          "Extreme temperature ",
          "Flood",
          "Flood",
          "Storm",
          "Flood",
          "Flood",
          "Flood",
          "Flood",
          "Flood",
          "Storm",
          "Storm",
          "Wildfire",
          "Flood",
          "Storm",
          "Storm",
          "Flood",
          "Flood",
          "Landslide",
          "Flood",
          "Flood",
          "Flood",
          "Flood",
          "Flood",
          "Flood",
          "Flood",
          "Flood",
          "Flood",
          "Flood",
          "Storm",
          "Storm",
          "Storm",
          "Storm",
          "Flood",
          "Flood",
          "Flood",
          "Flood",
          "Flood",
          "Storm",
          "Drought",
          "Flood",
          "Wildfire",
          "Landslide",
          "Flood",
          "Landslide",
          "Storm",
          "Flood",
          "Flood",
          "Storm",
          "Storm",
          "Storm",
          "Flood",
          "Flood",
          "Storm",
          "Storm",
          "Storm",
          "Flood",
          "Flood",
          "Flood",
          "Flood",
          "Flood",
          "Drought",
          "Flood",
          "Flood",
          "Flood",
          "Flood",
          "Flood",
          "Flood",
          "Storm",
          "Flood",
          "Flood",
          "Storm",
          "Flood",
          "Storm",
          "Flood",
          "Flood",
          "Flood",
          "Flood",
          "Flood",
          "Flood",
          "Flood",
          "Flood",
          "Storm",
          "Storm",
          "Storm",
          "Storm",
          "Storm",
          "Storm",
          "Flood",
          "Storm",
          "Storm",
          "Storm",
          "Flood",
          "Storm",
          "Storm",
          "Storm",
          "Storm",
          "Flood",
          "Flood",
          "Flood",
          "Flood",
          "Flood",
          "Flood",
          "Flood",
          "Flood",
          "Flood",
          "Flood",
          "Flood",
          "Flood",
          "Flood",
          "Flood",
          "Flood",
          "Storm",
          "Storm",
          "Storm",
          "Flood",
          "Flood",
          "Flood",
          "Flood",
          "Storm",
          "Storm",
          "Wildfire",
          "Wildfire",
          "Storm",
          "Storm",
          "Storm",
          "Storm",
          "Storm",
          "Storm",
          "Storm",
          "Storm",
          "Storm",
          "Storm",
          "Storm",
          "Storm",
          "Storm",
          "Drought",
          "Drought",
          "Drought",
          "Drought",
          "Drought",
          "Flood",
          "Storm",
          "Storm",
          "Storm",
          "Flood",
          "Flood",
          "Flood",
          "Storm",
          "Storm",
          "Storm",
          "Flood",
          "Storm",
          "Flood",
          "Flood",
          "Flood",
          "Landslide",
          "Flood",
          "Flood",
          "Storm",
          "Flood",
          "Flood",
          "Flood",
          "Flood",
          "Flood",
          "Storm",
          "Flood",
          "Flood",
          "Flood",
          "Flood",
          "Flood",
          "Landslide",
          "Wildfire",
          "Flood",
          "Drought",
          "Storm",
          "Flood",
          "Flood",
          "Storm",
          "Storm",
          "Storm",
          "Storm",
          "Storm",
          "Flood",
          "Flood",
          "Flood",
          "Flood",
          "Extreme temperature ",
          "Wildfire",
          "Wildfire",
          "Drought",
          "Flood",
          "Flood",
          "Wildfire",
          "Wildfire",
          "Wildfire",
          "Flood",
          "Wildfire",
          "Landslide",
          "Storm",
          "Flood",
          "Storm",
          "Flood",
          "Storm",
          "Storm",
          "Flood",
          "Flood",
          "Flood",
          "Flood",
          "Flood",
          "Drought"
         ],
         "xaxis": "x",
         "yaxis": "y"
        }
       ],
       "layout": {
        "barmode": "relative",
        "legend": {
         "tracegroupgap": 0
        },
        "margin": {
         "t": 60
        },
        "template": {
         "data": {
          "bar": [
           {
            "error_x": {
             "color": "#2a3f5f"
            },
            "error_y": {
             "color": "#2a3f5f"
            },
            "marker": {
             "line": {
              "color": "#E5ECF6",
              "width": 0.5
             },
             "pattern": {
              "fillmode": "overlay",
              "size": 10,
              "solidity": 0.2
             }
            },
            "type": "bar"
           }
          ],
          "barpolar": [
           {
            "marker": {
             "line": {
              "color": "#E5ECF6",
              "width": 0.5
             },
             "pattern": {
              "fillmode": "overlay",
              "size": 10,
              "solidity": 0.2
             }
            },
            "type": "barpolar"
           }
          ],
          "carpet": [
           {
            "aaxis": {
             "endlinecolor": "#2a3f5f",
             "gridcolor": "white",
             "linecolor": "white",
             "minorgridcolor": "white",
             "startlinecolor": "#2a3f5f"
            },
            "baxis": {
             "endlinecolor": "#2a3f5f",
             "gridcolor": "white",
             "linecolor": "white",
             "minorgridcolor": "white",
             "startlinecolor": "#2a3f5f"
            },
            "type": "carpet"
           }
          ],
          "choropleth": [
           {
            "colorbar": {
             "outlinewidth": 0,
             "ticks": ""
            },
            "type": "choropleth"
           }
          ],
          "contour": [
           {
            "colorbar": {
             "outlinewidth": 0,
             "ticks": ""
            },
            "colorscale": [
             [
              0,
              "#0d0887"
             ],
             [
              0.1111111111111111,
              "#46039f"
             ],
             [
              0.2222222222222222,
              "#7201a8"
             ],
             [
              0.3333333333333333,
              "#9c179e"
             ],
             [
              0.4444444444444444,
              "#bd3786"
             ],
             [
              0.5555555555555556,
              "#d8576b"
             ],
             [
              0.6666666666666666,
              "#ed7953"
             ],
             [
              0.7777777777777778,
              "#fb9f3a"
             ],
             [
              0.8888888888888888,
              "#fdca26"
             ],
             [
              1,
              "#f0f921"
             ]
            ],
            "type": "contour"
           }
          ],
          "contourcarpet": [
           {
            "colorbar": {
             "outlinewidth": 0,
             "ticks": ""
            },
            "type": "contourcarpet"
           }
          ],
          "heatmap": [
           {
            "colorbar": {
             "outlinewidth": 0,
             "ticks": ""
            },
            "colorscale": [
             [
              0,
              "#0d0887"
             ],
             [
              0.1111111111111111,
              "#46039f"
             ],
             [
              0.2222222222222222,
              "#7201a8"
             ],
             [
              0.3333333333333333,
              "#9c179e"
             ],
             [
              0.4444444444444444,
              "#bd3786"
             ],
             [
              0.5555555555555556,
              "#d8576b"
             ],
             [
              0.6666666666666666,
              "#ed7953"
             ],
             [
              0.7777777777777778,
              "#fb9f3a"
             ],
             [
              0.8888888888888888,
              "#fdca26"
             ],
             [
              1,
              "#f0f921"
             ]
            ],
            "type": "heatmap"
           }
          ],
          "heatmapgl": [
           {
            "colorbar": {
             "outlinewidth": 0,
             "ticks": ""
            },
            "colorscale": [
             [
              0,
              "#0d0887"
             ],
             [
              0.1111111111111111,
              "#46039f"
             ],
             [
              0.2222222222222222,
              "#7201a8"
             ],
             [
              0.3333333333333333,
              "#9c179e"
             ],
             [
              0.4444444444444444,
              "#bd3786"
             ],
             [
              0.5555555555555556,
              "#d8576b"
             ],
             [
              0.6666666666666666,
              "#ed7953"
             ],
             [
              0.7777777777777778,
              "#fb9f3a"
             ],
             [
              0.8888888888888888,
              "#fdca26"
             ],
             [
              1,
              "#f0f921"
             ]
            ],
            "type": "heatmapgl"
           }
          ],
          "histogram": [
           {
            "marker": {
             "pattern": {
              "fillmode": "overlay",
              "size": 10,
              "solidity": 0.2
             }
            },
            "type": "histogram"
           }
          ],
          "histogram2d": [
           {
            "colorbar": {
             "outlinewidth": 0,
             "ticks": ""
            },
            "colorscale": [
             [
              0,
              "#0d0887"
             ],
             [
              0.1111111111111111,
              "#46039f"
             ],
             [
              0.2222222222222222,
              "#7201a8"
             ],
             [
              0.3333333333333333,
              "#9c179e"
             ],
             [
              0.4444444444444444,
              "#bd3786"
             ],
             [
              0.5555555555555556,
              "#d8576b"
             ],
             [
              0.6666666666666666,
              "#ed7953"
             ],
             [
              0.7777777777777778,
              "#fb9f3a"
             ],
             [
              0.8888888888888888,
              "#fdca26"
             ],
             [
              1,
              "#f0f921"
             ]
            ],
            "type": "histogram2d"
           }
          ],
          "histogram2dcontour": [
           {
            "colorbar": {
             "outlinewidth": 0,
             "ticks": ""
            },
            "colorscale": [
             [
              0,
              "#0d0887"
             ],
             [
              0.1111111111111111,
              "#46039f"
             ],
             [
              0.2222222222222222,
              "#7201a8"
             ],
             [
              0.3333333333333333,
              "#9c179e"
             ],
             [
              0.4444444444444444,
              "#bd3786"
             ],
             [
              0.5555555555555556,
              "#d8576b"
             ],
             [
              0.6666666666666666,
              "#ed7953"
             ],
             [
              0.7777777777777778,
              "#fb9f3a"
             ],
             [
              0.8888888888888888,
              "#fdca26"
             ],
             [
              1,
              "#f0f921"
             ]
            ],
            "type": "histogram2dcontour"
           }
          ],
          "mesh3d": [
           {
            "colorbar": {
             "outlinewidth": 0,
             "ticks": ""
            },
            "type": "mesh3d"
           }
          ],
          "parcoords": [
           {
            "line": {
             "colorbar": {
              "outlinewidth": 0,
              "ticks": ""
             }
            },
            "type": "parcoords"
           }
          ],
          "pie": [
           {
            "automargin": true,
            "type": "pie"
           }
          ],
          "scatter": [
           {
            "fillpattern": {
             "fillmode": "overlay",
             "size": 10,
             "solidity": 0.2
            },
            "type": "scatter"
           }
          ],
          "scatter3d": [
           {
            "line": {
             "colorbar": {
              "outlinewidth": 0,
              "ticks": ""
             }
            },
            "marker": {
             "colorbar": {
              "outlinewidth": 0,
              "ticks": ""
             }
            },
            "type": "scatter3d"
           }
          ],
          "scattercarpet": [
           {
            "marker": {
             "colorbar": {
              "outlinewidth": 0,
              "ticks": ""
             }
            },
            "type": "scattercarpet"
           }
          ],
          "scattergeo": [
           {
            "marker": {
             "colorbar": {
              "outlinewidth": 0,
              "ticks": ""
             }
            },
            "type": "scattergeo"
           }
          ],
          "scattergl": [
           {
            "marker": {
             "colorbar": {
              "outlinewidth": 0,
              "ticks": ""
             }
            },
            "type": "scattergl"
           }
          ],
          "scattermapbox": [
           {
            "marker": {
             "colorbar": {
              "outlinewidth": 0,
              "ticks": ""
             }
            },
            "type": "scattermapbox"
           }
          ],
          "scatterpolar": [
           {
            "marker": {
             "colorbar": {
              "outlinewidth": 0,
              "ticks": ""
             }
            },
            "type": "scatterpolar"
           }
          ],
          "scatterpolargl": [
           {
            "marker": {
             "colorbar": {
              "outlinewidth": 0,
              "ticks": ""
             }
            },
            "type": "scatterpolargl"
           }
          ],
          "scatterternary": [
           {
            "marker": {
             "colorbar": {
              "outlinewidth": 0,
              "ticks": ""
             }
            },
            "type": "scatterternary"
           }
          ],
          "surface": [
           {
            "colorbar": {
             "outlinewidth": 0,
             "ticks": ""
            },
            "colorscale": [
             [
              0,
              "#0d0887"
             ],
             [
              0.1111111111111111,
              "#46039f"
             ],
             [
              0.2222222222222222,
              "#7201a8"
             ],
             [
              0.3333333333333333,
              "#9c179e"
             ],
             [
              0.4444444444444444,
              "#bd3786"
             ],
             [
              0.5555555555555556,
              "#d8576b"
             ],
             [
              0.6666666666666666,
              "#ed7953"
             ],
             [
              0.7777777777777778,
              "#fb9f3a"
             ],
             [
              0.8888888888888888,
              "#fdca26"
             ],
             [
              1,
              "#f0f921"
             ]
            ],
            "type": "surface"
           }
          ],
          "table": [
           {
            "cells": {
             "fill": {
              "color": "#EBF0F8"
             },
             "line": {
              "color": "white"
             }
            },
            "header": {
             "fill": {
              "color": "#C8D4E3"
             },
             "line": {
              "color": "white"
             }
            },
            "type": "table"
           }
          ]
         },
         "layout": {
          "annotationdefaults": {
           "arrowcolor": "#2a3f5f",
           "arrowhead": 0,
           "arrowwidth": 1
          },
          "autotypenumbers": "strict",
          "coloraxis": {
           "colorbar": {
            "outlinewidth": 0,
            "ticks": ""
           }
          },
          "colorscale": {
           "diverging": [
            [
             0,
             "#8e0152"
            ],
            [
             0.1,
             "#c51b7d"
            ],
            [
             0.2,
             "#de77ae"
            ],
            [
             0.3,
             "#f1b6da"
            ],
            [
             0.4,
             "#fde0ef"
            ],
            [
             0.5,
             "#f7f7f7"
            ],
            [
             0.6,
             "#e6f5d0"
            ],
            [
             0.7,
             "#b8e186"
            ],
            [
             0.8,
             "#7fbc41"
            ],
            [
             0.9,
             "#4d9221"
            ],
            [
             1,
             "#276419"
            ]
           ],
           "sequential": [
            [
             0,
             "#0d0887"
            ],
            [
             0.1111111111111111,
             "#46039f"
            ],
            [
             0.2222222222222222,
             "#7201a8"
            ],
            [
             0.3333333333333333,
             "#9c179e"
            ],
            [
             0.4444444444444444,
             "#bd3786"
            ],
            [
             0.5555555555555556,
             "#d8576b"
            ],
            [
             0.6666666666666666,
             "#ed7953"
            ],
            [
             0.7777777777777778,
             "#fb9f3a"
            ],
            [
             0.8888888888888888,
             "#fdca26"
            ],
            [
             1,
             "#f0f921"
            ]
           ],
           "sequentialminus": [
            [
             0,
             "#0d0887"
            ],
            [
             0.1111111111111111,
             "#46039f"
            ],
            [
             0.2222222222222222,
             "#7201a8"
            ],
            [
             0.3333333333333333,
             "#9c179e"
            ],
            [
             0.4444444444444444,
             "#bd3786"
            ],
            [
             0.5555555555555556,
             "#d8576b"
            ],
            [
             0.6666666666666666,
             "#ed7953"
            ],
            [
             0.7777777777777778,
             "#fb9f3a"
            ],
            [
             0.8888888888888888,
             "#fdca26"
            ],
            [
             1,
             "#f0f921"
            ]
           ]
          },
          "colorway": [
           "#636efa",
           "#EF553B",
           "#00cc96",
           "#ab63fa",
           "#FFA15A",
           "#19d3f3",
           "#FF6692",
           "#B6E880",
           "#FF97FF",
           "#FECB52"
          ],
          "font": {
           "color": "#2a3f5f"
          },
          "geo": {
           "bgcolor": "white",
           "lakecolor": "white",
           "landcolor": "#E5ECF6",
           "showlakes": true,
           "showland": true,
           "subunitcolor": "white"
          },
          "hoverlabel": {
           "align": "left"
          },
          "hovermode": "closest",
          "mapbox": {
           "style": "light"
          },
          "paper_bgcolor": "white",
          "plot_bgcolor": "#E5ECF6",
          "polar": {
           "angularaxis": {
            "gridcolor": "white",
            "linecolor": "white",
            "ticks": ""
           },
           "bgcolor": "#E5ECF6",
           "radialaxis": {
            "gridcolor": "white",
            "linecolor": "white",
            "ticks": ""
           }
          },
          "scene": {
           "xaxis": {
            "backgroundcolor": "#E5ECF6",
            "gridcolor": "white",
            "gridwidth": 2,
            "linecolor": "white",
            "showbackground": true,
            "ticks": "",
            "zerolinecolor": "white"
           },
           "yaxis": {
            "backgroundcolor": "#E5ECF6",
            "gridcolor": "white",
            "gridwidth": 2,
            "linecolor": "white",
            "showbackground": true,
            "ticks": "",
            "zerolinecolor": "white"
           },
           "zaxis": {
            "backgroundcolor": "#E5ECF6",
            "gridcolor": "white",
            "gridwidth": 2,
            "linecolor": "white",
            "showbackground": true,
            "ticks": "",
            "zerolinecolor": "white"
           }
          },
          "shapedefaults": {
           "line": {
            "color": "#2a3f5f"
           }
          },
          "ternary": {
           "aaxis": {
            "gridcolor": "white",
            "linecolor": "white",
            "ticks": ""
           },
           "baxis": {
            "gridcolor": "white",
            "linecolor": "white",
            "ticks": ""
           },
           "bgcolor": "#E5ECF6",
           "caxis": {
            "gridcolor": "white",
            "linecolor": "white",
            "ticks": ""
           }
          },
          "title": {
           "x": 0.05
          },
          "xaxis": {
           "automargin": true,
           "gridcolor": "white",
           "linecolor": "white",
           "ticks": "",
           "title": {
            "standoff": 15
           },
           "zerolinecolor": "white",
           "zerolinewidth": 2
          },
          "yaxis": {
           "automargin": true,
           "gridcolor": "white",
           "linecolor": "white",
           "ticks": "",
           "title": {
            "standoff": 15
           },
           "zerolinecolor": "white",
           "zerolinewidth": 2
          }
         }
        },
        "xaxis": {
         "anchor": "y",
         "domain": [
          0,
          1
         ],
         "title": {
          "text": "Disaster Type"
         }
        },
        "yaxis": {
         "anchor": "x",
         "domain": [
          0,
          1
         ],
         "title": {
          "text": "count"
         }
        }
       }
      }
     },
     "metadata": {},
     "output_type": "display_data"
    }
   ],
   "source": [
    "df = df[df[new_column_name] == True]\n",
    "px.histogram(df, x='Disaster Type')"
   ]
  },
  {
   "cell_type": "code",
   "execution_count": 9,
   "metadata": {},
   "outputs": [
    {
     "ename": "SyntaxError",
     "evalue": "invalid syntax (2795566703.py, line 2)",
     "output_type": "error",
     "traceback": [
      "\u001b[0;36m  Cell \u001b[0;32mIn[9], line 2\u001b[0;36m\u001b[0m\n\u001b[0;31m    df.\u001b[0m\n\u001b[0m       ^\u001b[0m\n\u001b[0;31mSyntaxError\u001b[0m\u001b[0;31m:\u001b[0m invalid syntax\n"
     ]
    }
   ],
   "source": [
    "df = df.groupby([\"Country\", \"Year\", \"Disaster Type\"]).sum().reset_index()\n",
    "df."
   ]
  },
  {
   "cell_type": "code",
   "execution_count": null,
   "metadata": {},
   "outputs": [],
   "source": []
  },
  {
   "cell_type": "code",
   "execution_count": null,
   "metadata": {},
   "outputs": [],
   "source": []
  },
  {
   "cell_type": "code",
   "execution_count": null,
   "metadata": {},
   "outputs": [],
   "source": []
  },
  {
   "cell_type": "code",
   "execution_count": null,
   "metadata": {},
   "outputs": [],
   "source": []
  }
 ],
 "metadata": {
  "kernelspec": {
   "display_name": "Python 3 (ipykernel)",
   "language": "python",
   "name": "python3"
  },
  "language_info": {
   "codemirror_mode": {
    "name": "ipython",
    "version": 3
   },
   "file_extension": ".py",
   "mimetype": "text/x-python",
   "name": "python",
   "nbconvert_exporter": "python",
   "pygments_lexer": "ipython3",
   "version": "3.11.5"
  }
 },
 "nbformat": 4,
 "nbformat_minor": 2
}
