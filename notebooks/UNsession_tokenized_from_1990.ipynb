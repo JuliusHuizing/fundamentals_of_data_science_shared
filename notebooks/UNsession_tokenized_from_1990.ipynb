{
 "cells": [
  {
   "cell_type": "code",
   "execution_count": 3,
   "metadata": {},
   "outputs": [],
   "source": [
    "from nltk.stem import PorterStemmer\n",
    "from nltk.tokenize import word_tokenize\n",
    "from nltk.tokenize import RegexpTokenizer\n",
    "import matplotlib.pyplot as plt\n",
    "import pandas as pd"
   ]
  },
  {
   "cell_type": "code",
   "execution_count": 8,
   "metadata": {},
   "outputs": [
    {
     "data": {
      "text/html": [
       "<div>\n",
       "<style scoped>\n",
       "    .dataframe tbody tr th:only-of-type {\n",
       "        vertical-align: middle;\n",
       "    }\n",
       "\n",
       "    .dataframe tbody tr th {\n",
       "        vertical-align: top;\n",
       "    }\n",
       "\n",
       "    .dataframe thead th {\n",
       "        text-align: right;\n",
       "    }\n",
       "</style>\n",
       "<table border=\"1\" class=\"dataframe\">\n",
       "  <thead>\n",
       "    <tr style=\"text-align: right;\">\n",
       "      <th></th>\n",
       "      <th>country</th>\n",
       "      <th>year</th>\n",
       "      <th>session</th>\n",
       "      <th>txt</th>\n",
       "    </tr>\n",
       "  </thead>\n",
       "  <tbody>\n",
       "    <tr>\n",
       "      <th>4430</th>\n",
       "      <td>AFG</td>\n",
       "      <td>1990</td>\n",
       "      <td>45</td>\n",
       "      <td>﻿Allow me, first of all, Sir, to congratulate ...</td>\n",
       "    </tr>\n",
       "    <tr>\n",
       "      <th>4431</th>\n",
       "      <td>AGO</td>\n",
       "      <td>1990</td>\n",
       "      <td>45</td>\n",
       "      <td>﻿First I would like to congratulate you, Sir, ...</td>\n",
       "    </tr>\n",
       "    <tr>\n",
       "      <th>4432</th>\n",
       "      <td>ALB</td>\n",
       "      <td>1990</td>\n",
       "      <td>45</td>\n",
       "      <td>﻿It is a special pleasure for me to speak at t...</td>\n",
       "    </tr>\n",
       "    <tr>\n",
       "      <th>4433</th>\n",
       "      <td>ARE</td>\n",
       "      <td>1990</td>\n",
       "      <td>45</td>\n",
       "      <td>﻿\\nMr. President, on behalf of the delegation ...</td>\n",
       "    </tr>\n",
       "    <tr>\n",
       "      <th>4434</th>\n",
       "      <td>ARG</td>\n",
       "      <td>1990</td>\n",
       "      <td>45</td>\n",
       "      <td>﻿At the outset, let me convey to you, Sir, my ...</td>\n",
       "    </tr>\n",
       "    <tr>\n",
       "      <th>...</th>\n",
       "      <td>...</td>\n",
       "      <td>...</td>\n",
       "      <td>...</td>\n",
       "      <td>...</td>\n",
       "    </tr>\n",
       "    <tr>\n",
       "      <th>10563</th>\n",
       "      <td>WSM</td>\n",
       "      <td>2022</td>\n",
       "      <td>77</td>\n",
       "      <td>I extend Samoa’s congratulations to His Excell...</td>\n",
       "    </tr>\n",
       "    <tr>\n",
       "      <th>10564</th>\n",
       "      <td>YEM</td>\n",
       "      <td>2022</td>\n",
       "      <td>77</td>\n",
       "      <td>At the outset, I would like to sincerely congr...</td>\n",
       "    </tr>\n",
       "    <tr>\n",
       "      <th>10565</th>\n",
       "      <td>ZAF</td>\n",
       "      <td>2022</td>\n",
       "      <td>77</td>\n",
       "      <td>Allow me to join all speakers before me in con...</td>\n",
       "    </tr>\n",
       "    <tr>\n",
       "      <th>10566</th>\n",
       "      <td>ZMB</td>\n",
       "      <td>2022</td>\n",
       "      <td>77</td>\n",
       "      <td>At the outset, we would like to congratulate M...</td>\n",
       "    </tr>\n",
       "    <tr>\n",
       "      <th>10567</th>\n",
       "      <td>ZWE</td>\n",
       "      <td>2022</td>\n",
       "      <td>77</td>\n",
       "      <td>It is my singular honour to deliver this state...</td>\n",
       "    </tr>\n",
       "  </tbody>\n",
       "</table>\n",
       "<p>6138 rows × 4 columns</p>\n",
       "</div>"
      ],
      "text/plain": [
       "      country  year session                                                txt\n",
       "4430      AFG  1990      45  ﻿Allow me, first of all, Sir, to congratulate ...\n",
       "4431      AGO  1990      45  ﻿First I would like to congratulate you, Sir, ...\n",
       "4432      ALB  1990      45  ﻿It is a special pleasure for me to speak at t...\n",
       "4433      ARE  1990      45  ﻿\\nMr. President, on behalf of the delegation ...\n",
       "4434      ARG  1990      45  ﻿At the outset, let me convey to you, Sir, my ...\n",
       "...       ...   ...     ...                                                ...\n",
       "10563     WSM  2022      77  I extend Samoa’s congratulations to His Excell...\n",
       "10564     YEM  2022      77  At the outset, I would like to sincerely congr...\n",
       "10565     ZAF  2022      77  Allow me to join all speakers before me in con...\n",
       "10566     ZMB  2022      77  At the outset, we would like to congratulate M...\n",
       "10567     ZWE  2022      77  It is my singular honour to deliver this state...\n",
       "\n",
       "[6138 rows x 4 columns]"
      ]
     },
     "execution_count": 8,
     "metadata": {},
     "output_type": "execute_result"
    }
   ],
   "source": [
    "df = pd.read_pickle(\"../data/DF_UNsession_rawtxt_per_country_from1990.pkl\")\n",
    "df"
   ]
  },
  {
   "cell_type": "markdown",
   "metadata": {},
   "source": []
  },
  {
   "cell_type": "code",
   "execution_count": 7,
   "metadata": {},
   "outputs": [
    {
     "name": "stdout",
     "output_type": "stream",
     "text": [
      "13\n"
     ]
    }
   ],
   "source": [
    "def stem_tokenizer(txt, stemmer, tokenizer):\n",
    "    txt = tokenizer.tokenize(txt.lower())\n",
    "    txt = [ps.stem(word) for word in txt]\n",
    "    txt = ' '.join(txt)\n",
    "    return txt\n",
    "\n",
    "def stem_counter(keyword, corpus, stemmer, tokenizer):\n",
    "\n",
    "    keyword = stem_tokenizer(keyword, stemmer, tokenizer)\n",
    "\n",
    "    corpus = stem_tokenizer(corpus, stemmer, tokenizer)\n",
    "\n",
    "    return corpus.count(keyword)\n",
    "\n",
    "keyword = \"global warming\" \n",
    "\n",
    "\n",
    "ps = PorterStemmer()\n",
    "tokenizer = RegexpTokenizer(r'\\w+')\n",
    "\n",
    "# test_corpus = ' '.join(df.loc[df[\"year\"]==2000].txt)\n",
    "# print(stem_counter(keyword, test_corpus, ps, tokenizer) )\n"
   ]
  },
  {
   "cell_type": "code",
   "execution_count": 9,
   "metadata": {},
   "outputs": [
    {
     "name": "stdout",
     "output_type": "stream",
     "text": [
      "1990\n",
      "1991\n",
      "1992\n",
      "1993\n",
      "1994\n",
      "1995\n",
      "1996\n",
      "1997\n",
      "1998\n",
      "1999\n",
      "2000\n",
      "2001\n",
      "2002\n",
      "2003\n",
      "2004\n",
      "2005\n",
      "2006\n",
      "2007\n",
      "2008\n",
      "2009\n",
      "2010\n",
      "2011\n",
      "2012\n",
      "2013\n",
      "2014\n",
      "2015\n",
      "2016\n",
      "2017\n",
      "2018\n",
      "2019\n",
      "2020\n",
      "2021\n",
      "2022\n"
     ]
    }
   ],
   "source": [
    "df_tokenized_per_year = pd.DataFrame()\n",
    "\n",
    "years = range(1990, 2023)\n",
    "\n",
    "for year in years:\n",
    "    df_of_year = df.loc[df[\"year\"]==year]\n",
    "    corpus_of_year = ' '.join(df_of_year.txt)\n",
    "    corpus_tokanized = stem_tokenizer(corpus_of_year, ps, tokenizer)\n",
    "    \n",
    "    new_row = pd.DataFrame({\"year\":[year], \"txt_tokanized\":[corpus_tokanized]})\n",
    "\n",
    "    df_tokenized_per_year = pd.concat([df_tokenized_per_year, new_row], ignore_index = True)\n",
    "    \n",
    "    print(year)"
   ]
  },
  {
   "cell_type": "code",
   "execution_count": 10,
   "metadata": {},
   "outputs": [
    {
     "name": "stdout",
     "output_type": "stream",
     "text": [
      "    year                                      txt_tokanized\n",
      "0   1990  allow me first of all sir to congratul you on ...\n",
      "1   1991  at the outset i wish to convey to ambassador s...\n",
      "2   1992  i shall read out the follow statement on behal...\n",
      "3   1993  permit me first of all to congratul ambassador...\n",
      "4   1994  it give me great pleasur to convey on behalf o...\n",
      "5   1995  on the eve of the fiftieth anniversari of the ...\n",
      "6   1996  at the outset allow me sir to express my deleg...\n",
      "7   1997  let me impart at the outset the sad news i rec...\n",
      "8   1998  the urgenc of the alarm situat in afghanistan ...\n",
      "9   1999  allow me to join the speaker preced me to cong...\n",
      "10  2000  on my way to the assembl hall i wa inform by t...\n",
      "11  2001  at the outset on behalf of the govern of the i...\n",
      "12  2002  not veri far from here stood two tower that sy...\n",
      "13  2003  there is no realiti more oppress than the sile...\n",
      "14  2004  nelson mandela onc describ hi countryí transit...\n",
      "15  2005  i have the honour to inform the member of the ...\n",
      "16  2006  everi year our gather under thi roof doe homag...\n",
      "17  2007  over the 62 year of it exist the gener assembl...\n",
      "18  2008  sinc the last time we gather here in thi great...\n",
      "19  2009  first i would like to congratul hi excel mr tr...\n",
      "20  2010  i join previou speaker in congratul you sir on...\n",
      "21  2011  i am honour to be here to read the statement o...\n",
      "22  2012  as we speak today the world is be shaken by th...\n",
      "23  2013  i bring to all warm greet and the good wish of...\n",
      "24  2014  it give me great pleasur to express my sincer ...\n",
      "25  2015  it give me great pleasur on behalf of the isla...\n",
      "26  2016  it is my distinct pleasur to attend the sevent...\n",
      "27  2017  as i stand here befor the gener assembl today ...\n",
      "28  2018  allow me to start by extend my congratul to ms...\n",
      "29  2019  it is an honour for me to and stand at thi pre...\n",
      "30  2020  bismillah rahman ur rahim mr presid ladi and g...\n",
      "31  2021  the fact that i can be on thi rostrum to congr...\n",
      "32  2022  it is a great honour to take the floor in thi ...\n"
     ]
    }
   ],
   "source": [
    "print(df_tokenized_per_year)"
   ]
  },
  {
   "cell_type": "code",
   "execution_count": 12,
   "metadata": {},
   "outputs": [
    {
     "data": {
      "text/plain": [
       "[<matplotlib.lines.Line2D at 0x15395c88790>]"
      ]
     },
     "execution_count": 12,
     "metadata": {},
     "output_type": "execute_result"
    },
    {
     "data": {
      "image/png": "[encoded data removed]",
      "text/plain": [
       "<Figure size 432x288 with 1 Axes>"
      ]
     },
     "metadata": {
      "needs_background": "light"
     },
     "output_type": "display_data"
    }
   ],
   "source": [
    "\n",
    "\n",
    "keyword = \"climate change\" \n",
    "keyword_tokenized = stem_tokenizer(keyword, ps, tokenizer)\n",
    "l_x = range(1990,2022)\n",
    "\n",
    "l_y = []\n",
    "for year in l_x:\n",
    "    corpus_of_year = df_tokenized_per_year.loc[df_tokenized_per_year[\"year\"]==year][\"txt_tokanized\"].values[0]\n",
    "    y = corpus_of_year.count(keyword_tokenized)\n",
    "    l_y.append(y)\n",
    "\n",
    "\n",
    "plt.title(keyword)\n",
    "plt.plot(l_x,l_y, )"
   ]
  },
  {
   "cell_type": "code",
   "execution_count": null,
   "metadata": {},
   "outputs": [],
   "source": []
  }
 ],
 "metadata": {
  "kernelspec": {
   "display_name": "Python 3",
   "language": "python",
   "name": "python3"
  },
  "language_info": {
   "codemirror_mode": {
    "name": "ipython",
    "version": 3
   },
   "file_extension": ".py",
   "mimetype": "text/x-python",
   "name": "python",
   "nbconvert_exporter": "python",
   "pygments_lexer": "ipython3",
   "version": "3.10.11"
  },
  "orig_nbformat": 4
 },
 "nbformat": 4,
 "nbformat_minor": 2
}
